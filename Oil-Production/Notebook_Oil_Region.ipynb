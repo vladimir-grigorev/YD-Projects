{
 "cells": [
  {
   "cell_type": "markdown",
   "metadata": {
    "lang": "en"
   },
   "source": [
    "<center> <h2> Project </h2> </center>\n",
    "<center> <h3> Selecting a region for oil production </h3> </center>\n",
    "\n",
    "The oil company plans to invest in forther expansion. It is searchin for a region to kick-off additional oil production and is choosing between three regions. Each of them contains 10,000 oil deposits.\n",
    "\n",
    "*Tasks:*\n",
    "- build a model to predict the reserves in each deposit;\n",
    "- identify the region with the maximum expected profit from oil production.\n",
    "\n",
    "*Conditions:*\n",
    "- When exploring a region, 500 depostis can be explored. Using ML, we should select only 200 best from them for development.\n",
    "- The budget for the development of wells in a chosen region is 10 billion rubles (114 Mio EUR).\n",
    "- A barrel of oil costs 450 rubles (~5.11 EUR).\n",
    "- When choosing a region, it is necessary to:\n",
    "    - estimate the risks of losses and keep only those regions in which the probability of losses is less than 2.5%;\n",
    "    - then, select the region with the highest average profit.\n",
    "\n",
    "-----"
   ]
  },
  {
   "cell_type": "markdown",
   "metadata": {
    "lang": "fr"
   },
   "source": [
    "<center> <h2>Project</h2> </center>\n",
    "<center> <h3>Selecting a region for oil extraction</h3> </center>\n",
    "\n",
    "An oil company plans to invest into its further expansion. For this, it has to choose a region for oil extraction among the three different countries.\n",
    "\n",
    "*Tasks:*\n",
    "- build a model for predicting the reserves in available wells;\n",
    "- determine the region with the maximum expected profit from oil production.\n",
    "\n",
    "*Conditions:*\n",
    "- when exploring the region, it is possible to only explore 500 wells, from which machine learning is used to select the top 200 for development;\n",
    "- The budget for well development in the region is 10 billion rubles (~114M EUR).\n",
    "- A barrel of oil costs 450 rubles (~5.11 EUR).\n",
    "- When selecting the region, we need:\n",
    "    - to estimate the risks of making a loss for a given region and to consider only those regions that have a loss probability less than 2.5%;\n",
    "    - then, to choose the region with the highest average profit among them.\n",
    "\n",
    "-----"
   ]
  },
  {
   "cell_type": "markdown",
   "metadata": {
    "lang": "en"
   },
   "source": [
    "<div style=\"border:solid blue 2px; padding: 20px\">\n",
    "<center> <h3>Executive Summary </h3> </center>\n",
    "       \n",
    "**Recommendation:** `Region 2`\n",
    "    \n",
    "- Region 2 is the only one that demonstrated a loss risk level below the maximum allowed value of 2.5%.\n",
    "- The expected profit from oil production in this region is 430 million rubles.\n",
    "\n",
    "**Modeling approach:**\n",
    "- to predict the volume of oil in the deposits, a linear regression was used to ensure the interpretability of result;\n",
    "- to build the distribution of potential profits in each of the regions, the Bootstrap technique with 1000 iterations was applied."
   ]
  },
  {
   "cell_type": "markdown",
   "metadata": {
    "lang": "ru"
   },
   "source": [
    "<center> <h3>Table of Contents</h3> </center> \n",
    "\n",
    "1. [General information and data preprocessing](#paragraph1)\n",
    "2. [Traning the model](#paragraph2)    \n",
    "3. [Preparing for profit calculations](#paragraph3)   \n",
    "4. [Calculating loss risk and expected profit](#paragraph4)       \n",
    "5. [Final Summary](#paragraph5)"
   ]
  },
  {
   "cell_type": "markdown",
   "metadata": {},
   "source": [
    "Importing the libraries"
   ]
  },
  {
   "cell_type": "code",
   "execution_count": 1,
   "metadata": {},
   "outputs": [],
   "source": [
    "import pandas as pd\n",
    "import numpy as np\n",
    "\n",
    "# for preparing the data for modelling\n",
    "from sklearn.model_selection import train_test_split\n",
    "\n",
    "# for modelling\n",
    "from numpy.random import RandomState\n",
    "from sklearn.linear_model import LinearRegression\n",
    "\n",
    "# for model quality estimation\n",
    "from sklearn.metrics import mean_squared_error\n",
    "\n",
    "# for confidence interval calculation\n",
    "from scipy import stats as st\n",
    "\n",
    "# for visualizations\n",
    "import matplotlib.pyplot as plt\n",
    "import seaborn as sns"
   ]
  },
  {
   "cell_type": "markdown",
   "metadata": {},
   "source": [
    "Preparing the notebook"
   ]
  },
  {
   "cell_type": "code",
   "execution_count": 2,
   "metadata": {},
   "outputs": [
    {
     "data": {
      "text/html": [
       "\n",
       "<style>\n",
       ".output_png {\n",
       "    display: table-cell;\n",
       "    text-align: center;\n",
       "    vertical-align: middle;\n",
       "}\n",
       "</style>\n"
      ],
      "text/plain": [
       "<IPython.core.display.HTML object>"
      ]
     },
     "execution_count": 2,
     "metadata": {},
     "output_type": "execute_result"
    }
   ],
   "source": [
    "# saving the variable for addressing the global variables\n",
    "gbl = globals()\n",
    "\n",
    "# ignoring warnings\n",
    "import warnings\n",
    "warnings.filterwarnings(\"ignore\")\n",
    "\n",
    "# centering outputs\n",
    "from IPython.core.display import HTML\n",
    "HTML(\"\"\"\n",
    "<style>\n",
    ".output_png {\n",
    "    display: table-cell;\n",
    "    text-align: center;\n",
    "    vertical-align: middle;\n",
    "}\n",
    "</style>\n",
    "\"\"\")"
   ]
  },
  {
   "cell_type": "markdown",
   "metadata": {
    "lang": "en"
   },
   "source": [
    "### 1. General information and data preprocessing <a name=\"paragraph1\"></a>"
   ]
  },
  {
   "cell_type": "markdown",
   "metadata": {
    "lang": "en"
   },
   "source": [
    "For analysis, we have got three datasets containing data on oil deposits in (correspondingly) three regions.\n",
    "\n",
    "- `id` is a unique identifier of an oil deposit;\n",
    "- `f0`,` f1`, `f2` are three parameters of an oil deposit (we do not know exactly what each of them mean but they should be an, allegedly, important predictor with the oil reserve volumes);\n",
    "- `product` is the volume of oil reserves in an oil deposit (thousands of barrels)."
   ]
  },
  {
   "cell_type": "markdown",
   "metadata": {
    "lang": "en"
   },
   "source": [
    "Next steps:\n",
    "1. to display general information about variables and datasets;\n",
    "2. screen the datasets for presence of:\n",
    "    - duplicates;\n",
    "    - missing values;\n",
    "    - strange (out-of-format/range) values of variables."
   ]
  },
  {
   "cell_type": "markdown",
   "metadata": {},
   "source": [
    "Uploading Data"
   ]
  },
  {
   "cell_type": "code",
   "execution_count": 3,
   "metadata": {},
   "outputs": [],
   "source": [
    "data_1 = pd.read_csv('geo_data_0.csv')\n",
    "data_2 = pd.read_csv('geo_data_1.csv')\n",
    "data_3 = pd.read_csv('geo_data_2.csv')\n",
    "\n",
    "# setting up a list of datasets\n",
    "datasets = [data_1, data_2, data_3]"
   ]
  },
  {
   "cell_type": "markdown",
   "metadata": {
    "lang": "en"
   },
   "source": [
    "#### 1.1. General information"
   ]
  },
  {
   "cell_type": "code",
   "execution_count": 4,
   "metadata": {},
   "outputs": [
    {
     "name": "stdout",
     "output_type": "stream",
     "text": [
      "<class 'pandas.core.frame.DataFrame'>\n",
      "RangeIndex: 100000 entries, 0 to 99999\n",
      "Data columns (total 5 columns):\n",
      " #   Column   Non-Null Count   Dtype  \n",
      "---  ------   --------------   -----  \n",
      " 0   id       100000 non-null  object \n",
      " 1   f0       100000 non-null  float64\n",
      " 2   f1       100000 non-null  float64\n",
      " 3   f2       100000 non-null  float64\n",
      " 4   product  100000 non-null  float64\n",
      "dtypes: float64(4), object(1)\n",
      "memory usage: 3.8+ MB\n",
      "\n",
      "<class 'pandas.core.frame.DataFrame'>\n",
      "RangeIndex: 100000 entries, 0 to 99999\n",
      "Data columns (total 5 columns):\n",
      " #   Column   Non-Null Count   Dtype  \n",
      "---  ------   --------------   -----  \n",
      " 0   id       100000 non-null  object \n",
      " 1   f0       100000 non-null  float64\n",
      " 2   f1       100000 non-null  float64\n",
      " 3   f2       100000 non-null  float64\n",
      " 4   product  100000 non-null  float64\n",
      "dtypes: float64(4), object(1)\n",
      "memory usage: 3.8+ MB\n",
      "\n",
      "<class 'pandas.core.frame.DataFrame'>\n",
      "RangeIndex: 100000 entries, 0 to 99999\n",
      "Data columns (total 5 columns):\n",
      " #   Column   Non-Null Count   Dtype  \n",
      "---  ------   --------------   -----  \n",
      " 0   id       100000 non-null  object \n",
      " 1   f0       100000 non-null  float64\n",
      " 2   f1       100000 non-null  float64\n",
      " 3   f2       100000 non-null  float64\n",
      " 4   product  100000 non-null  float64\n",
      "dtypes: float64(4), object(1)\n",
      "memory usage: 3.8+ MB\n",
      "\n"
     ]
    }
   ],
   "source": [
    "for data in datasets:\n",
    "    data.info()\n",
    "    print()"
   ]
  },
  {
   "cell_type": "markdown",
   "metadata": {},
   "source": [
    "Deleting the variable `id` as it does not provide any menaingful insights"
   ]
  },
  {
   "cell_type": "code",
   "execution_count": 5,
   "metadata": {},
   "outputs": [],
   "source": [
    "for i in [1, 2, 3]:\n",
    "    gbl['data_' + str(i)] = gbl['data_' + str(i)].drop('id', axis=1)"
   ]
  },
  {
   "cell_type": "markdown",
   "metadata": {
    "lang": "en"
   },
   "source": [
    "#### 1.2. General analysis of datasets"
   ]
  },
  {
   "cell_type": "markdown",
   "metadata": {
    "lang": "en"
   },
   "source": [
    "#### Checking for duplicates"
   ]
  },
  {
   "cell_type": "code",
   "execution_count": 6,
   "metadata": {},
   "outputs": [
    {
     "name": "stdout",
     "output_type": "stream",
     "text": [
      "Number of duplicates in the dataset №1: 0\n",
      "Number of duplicates in the dataset №2: 0\n",
      "Number of duplicates in the dataset №3: 0\n"
     ]
    }
   ],
   "source": [
    "n = 0\n",
    "for data in datasets:\n",
    "    n += 1\n",
    "    print('Number of duplicates in the dataset №{:.0f}:'.format(n), data.duplicated().sum())"
   ]
  },
  {
   "cell_type": "markdown",
   "metadata": {
    "lang": "en"
   },
   "source": [
    "#### Checking for strange (out-of-format/range) values\n",
    "\n",
    "Let's draw graphs on the distribution density of variables"
   ]
  },
  {
   "cell_type": "code",
   "execution_count": 7,
   "metadata": {
    "scrolled": false
   },
   "outputs": [
    {
     "data": {
      "image/png": "[encoded data removed]",
      "text/plain": [
       "<Figure size 720x288 with 1 Axes>"
      ]
     },
     "metadata": {},
     "output_type": "display_data"
    },
    {
     "data": {
      "image/png": "[encoded data removed]",
      "text/plain": [
       "<Figure size 720x288 with 1 Axes>"
      ]
     },
     "metadata": {},
     "output_type": "display_data"
    },
    {
     "data": {
      "image/png": "[encoded data removed]",
      "text/plain": [
       "<Figure size 720x288 with 1 Axes>"
      ]
     },
     "metadata": {},
     "output_type": "display_data"
    },
    {
     "data": {
      "image/png": "[encoded data removed]",
      "text/plain": [
       "<Figure size 720x288 with 1 Axes>"
      ]
     },
     "metadata": {},
     "output_type": "display_data"
    }
   ],
   "source": [
    "sns.set_style('darkgrid')\n",
    "for var in ['f0', 'f1', 'f2', 'product']:\n",
    "    n = 0\n",
    "    fig, ax = plt.subplots(figsize=(10,4))\n",
    "    for data in datasets:\n",
    "        n += 1\n",
    "        ax = sns.distplot(data[var], label='Region {:.0f}'.format(n))\n",
    "    ax.set(title='Distribution density of ' + var,\n",
    "       xlabel='Values of ' + var, ylabel='Distribution density')\n",
    "    ax.legend()\n",
    "    plt.show()    "
   ]
  },
  {
   "cell_type": "markdown",
   "metadata": {
    "lang": "en"
   },
   "source": [
    "*Interim Analysis:*\n",
    "- regions differ quite dramatically in the distribution of metrics `f0` and `f1` (both in averages and in variances);\n",
    "- the values of `f2` in Regions 1 and 3 are very similarly distributed (as well as the target feature is `product`); however, Region 2 is remarkably different along the parameters under consideration;\n",
    "- let's build separate models for each region."
   ]
  },
  {
   "cell_type": "markdown",
   "metadata": {
    "lang": "en"
   },
   "source": [
    "### 2. Training the model <a name=\"paragraph2\"></a>"
   ]
  },
  {
   "cell_type": "markdown",
   "metadata": {
    "lang": "en"
   },
   "source": [
    "#### 2.1. Splitting into training and testing samples"
   ]
  },
  {
   "cell_type": "markdown",
   "metadata": {
    "lang": "en"
   },
   "source": [
    "Forming training and testing samples for each region-dataset in a ratio 75:25"
   ]
  },
  {
   "cell_type": "code",
   "execution_count": 8,
   "metadata": {},
   "outputs": [],
   "source": [
    "state = RandomState(123456)\n",
    "\n",
    "n = 0\n",
    "for dataset in datasets:\n",
    "    n += 1\n",
    "    target = dataset['product']\n",
    "    features = dataset.drop(['product', 'id'], axis=1)\n",
    "    gbl['features_train_'+str(n)], gbl['features_valid_'+str(n)], gbl['target_train_'+str(n)], gbl['target_valid_'+str(n)] = train_test_split(features, target, test_size=0.25, random_state=state)    "
   ]
  },
  {
   "cell_type": "markdown",
   "metadata": {
    "lang": "en"
   },
   "source": [
    "#### 2.2. Model training for each region\n",
    "\n",
    "After training the model on the training sample, we will predict the values on the testing samples and save the predictions for further analysis. The quality of the models will be estimated based on the root mean square error (RMSE)."
   ]
  },
  {
   "cell_type": "code",
   "execution_count": 9,
   "metadata": {},
   "outputs": [],
   "source": [
    "for i in range(1, 4):\n",
    "    gbl['model_'+str(i)] = LinearRegression()\n",
    "    # training models\n",
    "    gbl['model_'+str(i)].fit(gbl['features_train_'+str(i)], gbl['target_train_'+str(i)])\n",
    "    \n",
    "    # predicting values on testing dataset\n",
    "    gbl['predictions_'+str(i)] = gbl['model_'+str(i)].predict(gbl['features_valid_'+str(i)])\n",
    "    \n",
    "    # saving predictions in Series and assigning a corresponsing index\n",
    "    gbl['predictions_'+str(i)] = pd.Series(gbl['predictions_'+str(i)])\n",
    "    gbl['predictions_'+str(i)].index = gbl['features_valid_'+str(i)].index\n",
    "    \n",
    "    # saving model quality for each region (model)\n",
    "    gbl['score_'+str(i)] = mean_squared_error(gbl['predictions_'+str(i)], gbl['target_valid_'+str(i)]) ** 0.5"
   ]
  },
  {
   "cell_type": "markdown",
   "metadata": {
    "lang": "ru"
   },
   "source": [
    "#### 2.3. Средний запас предсказанного сырья и RMSE моделей.\n",
    "\n",
    "Итоговую таблицу проранжируем по качеству модели."
   ]
  },
  {
   "cell_type": "markdown",
   "metadata": {
    "lang": "en"
   },
   "source": [
    "#### 2.3. Average predicted oil deposit volumes and RMSE of models\n",
    "\n",
    "Ranking the final table according to the quality of the model"
   ]
  },
  {
   "cell_type": "code",
   "execution_count": 10,
   "metadata": {},
   "outputs": [
    {
     "data": {
      "text/html": [
       "<div>\n",
       "<style scoped>\n",
       "    .dataframe tbody tr th:only-of-type {\n",
       "        vertical-align: middle;\n",
       "    }\n",
       "\n",
       "    .dataframe tbody tr th {\n",
       "        vertical-align: top;\n",
       "    }\n",
       "\n",
       "    .dataframe thead th {\n",
       "        text-align: right;\n",
       "    }\n",
       "</style>\n",
       "<table border=\"1\" class=\"dataframe\">\n",
       "  <thead>\n",
       "    <tr style=\"text-align: right;\">\n",
       "      <th></th>\n",
       "      <th>Avg. oil volume per deposit, `000 of barrels.</th>\n",
       "      <th>RMSE</th>\n",
       "    </tr>\n",
       "    <tr>\n",
       "      <th>Region</th>\n",
       "      <th></th>\n",
       "      <th></th>\n",
       "    </tr>\n",
       "  </thead>\n",
       "  <tbody>\n",
       "    <tr>\n",
       "      <th>2</th>\n",
       "      <td>68.48</td>\n",
       "      <td>0.89</td>\n",
       "    </tr>\n",
       "    <tr>\n",
       "      <th>1</th>\n",
       "      <td>92.49</td>\n",
       "      <td>37.80</td>\n",
       "    </tr>\n",
       "    <tr>\n",
       "      <th>3</th>\n",
       "      <td>95.13</td>\n",
       "      <td>40.18</td>\n",
       "    </tr>\n",
       "  </tbody>\n",
       "</table>\n",
       "</div>"
      ],
      "text/plain": [
       "        Avg. oil volume per deposit, `000 of barrels.   RMSE\n",
       "Region                                                      \n",
       "2                                               68.48   0.89\n",
       "1                                               92.49  37.80\n",
       "3                                               95.13  40.18"
      ]
     },
     "execution_count": 10,
     "metadata": {},
     "output_type": "execute_result"
    }
   ],
   "source": [
    "table = pd.DataFrame({'Region':[1, 2, 3], \n",
    "                      'Avg. oil volume per deposit, `000 of barrels.':[predictions_1.mean(), predictions_2.mean(), predictions_3.mean()], \n",
    "                      'RMSE':[score_1, score_2, score_3]})\n",
    "table.set_index('Region').round(2).sort_values('RMSE')"
   ]
  },
  {
   "cell_type": "markdown",
   "metadata": {
    "lang": "en"
   },
   "source": [
    "#### 2.4. Analysis of results"
   ]
  },
  {
   "cell_type": "markdown",
   "metadata": {
    "lang": "en"
   },
   "source": [
    "**The largest average volume per deposit**. The largest average volume per well is in the 1st and 3rd regions. In the 2nd, on average the volume of oil per well is 35% lower than in other regions.\n",
    "\n",
    "**Better predictability.** The model predicts volumes significantly better in the 2nd region. Quality metric is 42 times better than in the next best Region №1.\n",
    "\n",
    "**Comment:** it is still difficult to say which region should be chosen for development. On the one hand, the 2nd region attracts with its predictability and, accordingly, a higher probability of finding really rich deposits. But on the other hand, the average reserve per well is significantly higher in other two regions, and perhaps, even if we are mistaken in our predictions, we will be able to extract more oil on average."
   ]
  },
  {
   "cell_type": "markdown",
   "metadata": {
    "lang": "en"
   },
   "source": [
    "### 3. Preparation for calculating profit <a name=\"paragraph3\"></a>"
   ]
  },
  {
   "cell_type": "markdown",
   "metadata": {
    "lang": "en"
   },
   "source": [
    "#### 3.1. Defining key variables for calculating the profits"
   ]
  },
  {
   "cell_type": "code",
   "execution_count": 11,
   "metadata": {},
   "outputs": [],
   "source": [
    "# budget in rubles\n",
    "BUDGET = 10000000000\n",
    "\n",
    "# price per 1000 barrels\n",
    "PRICE = 450000\n",
    "\n",
    "# number of well to be developed\n",
    "WELLS_MAX = 200"
   ]
  },
  {
   "cell_type": "markdown",
   "metadata": {
    "lang": "en"
   },
   "source": [
    "#### 3.2. Calculating the break-even volume of oil reserves"
   ]
  },
  {
   "cell_type": "markdown",
   "metadata": {
    "lang": "en"
   },
   "source": [
    "Formula for calculating the minimum total volume of oil produced in a region to break even:"
   ]
  },
  {
   "cell_type": "markdown",
   "metadata": {},
   "source": [
    "$$volume_{min} = \\frac{budget}{price}$$"
   ]
  },
  {
   "cell_type": "markdown",
   "metadata": {
    "lang": "en"
   },
   "source": [
    "Formula for calculating the minimum average oil volume per well to break even:"
   ]
  },
  {
   "cell_type": "markdown",
   "metadata": {},
   "source": [
    "$$volume_{per well, min} = \\frac{budget}{price * wells}$$"
   ]
  },
  {
   "cell_type": "markdown",
   "metadata": {
    "lang": "en"
   },
   "source": [
    "*Assumption:* our costs correspond to the entire budget."
   ]
  },
  {
   "cell_type": "code",
   "execution_count": 12,
   "metadata": {},
   "outputs": [
    {
     "name": "stdout",
     "output_type": "stream",
     "text": [
      "Minimum production volume to break-even: 22222.22 thousand barrels\n",
      "Minimum average volume of produced oil per well: 111.11 thousand barrels\n"
     ]
    }
   ],
   "source": [
    "volume_min = BUDGET / PRICE\n",
    "print('Minimum production volume to break-even: {:.2f} thousand barrels'.format(volume_min))\n",
    "\n",
    "volume_perwell_min = BUDGET / PRICE / WELLS_MAX\n",
    "print('Minimum average volume of produced oil per well: {:.2f} thousand barrels'.format(volume_perwell_min))"
   ]
  },
  {
   "cell_type": "markdown",
   "metadata": {
    "lang": "en"
   },
   "source": [
    "#### 3.3. Interim Summary"
   ]
  },
  {
   "cell_type": "markdown",
   "metadata": {},
   "source": [
    "- В среднем каждая скважина должна давать около 111 тыс. баррелей, чтобы обеспесить безубыточность проекта.\n",
    "- Среднее предсказанное значение объема нефти в одной скважине каждого региона ниже на 14-49%, чем нужно для безубыточноти.\n",
    "- Это значит, что наши модели должны уметь выделять достаточно хорошо те скважины, которые обеспечат в среднем больше, чем 111 тыс. баррелей на скважину."
   ]
  },
  {
   "cell_type": "markdown",
   "metadata": {
    "lang": "en"
   },
   "source": [
    "### 4. Calculating loss risk and expected profit <a name=\"paragraph4\"></a>"
   ]
  },
  {
   "cell_type": "markdown",
   "metadata": {
    "lang": "en"
   },
   "source": [
    "#### 4.1. Defining function to calculate expected profit\n",
    "\n",
    "Let's write a function which\n",
    "\n",
    "1. receives a list of wells `wells _sample` as the input;\n",
    "- selects X wells with maximum predicted oil reserves; X is equal to `WELLS_MAX` (in our case 200);\n",
    "- sums the actual oil reserves corresponding to the selected wells; data on the real reserves of each well is taken from the corresponding original dataset; `wells_all_real` collects already all real values on reserves;\n",
    "- calculates the total revenues by multiplying the real volume ofanproduction by the price of thousand barrels (`PRICE`);\n",
    "- calculates profit by subtracting costs from revenues; we make the assumption that the cost of researching 500 and drilling 200 wells equals exactly the whole budget (`BUDGET`);\n",
    "- provides calculated profit as the output."
   ]
  },
  {
   "cell_type": "code",
   "execution_count": 13,
   "metadata": {},
   "outputs": [],
   "source": [
    "def profit_calculator(wells_all_real, wells_sample, WELLS_MAX, BUDGET, PRICE):\n",
    "    # taking the 200 most rich oil deposits (the ones which are predicted as being the most rich by our models)\n",
    "    wells_best = wells_sample.sort_values(ascending=False)[:WELLS_MAX]\n",
    "    \n",
    "    # calculating total real oil reserves\n",
    "    volume_total = wells_all_real[wells_best.index].sum()\n",
    "    \n",
    "    # calculating the profit\n",
    "    profit = volume_total * PRICE - BUDGET\n",
    "    return profit"
   ]
  },
  {
   "cell_type": "markdown",
   "metadata": {
    "lang": "en"
   },
   "source": [
    "#### 4.2. Calculating potential profit and loss risks for each region\n",
    "\n",
    "*Calculating the following for each region based on the test samples:*\n",
    "- distribution of profit using Bootstrap on 1000 subsamples;\n",
    "- expected potential profit in the region;\n",
    "- confidence interval for the average profit in the region (with 95% confidence level);\n",
    "- the risk of losses.\n",
    "\n",
    "*Comment:* the risk of making losses corresponds to [1] the percentile of the smallest loss (= negative profit) or, equivalently, [2] the share of losses (= negative values) in the distribution of profit values. We will use definition [2] to calculate the risk of losses as it is easier (and faster) in terms of calculation."
   ]
  },
  {
   "cell_type": "code",
   "execution_count": 14,
   "metadata": {},
   "outputs": [],
   "source": [
    "for n in [1, 2, 3]:\n",
    "    gbl['profit_' + str(n)] = []\n",
    "    state1 = RandomState(n+1234)\n",
    "    \n",
    "    # сформируем распределение возможной прибыли для каждого региона\n",
    "    for k in range(0, 1000):\n",
    "        wells_sample = gbl['predictions_' + str(n)].sample(500, random_state=state1, replace=True)\n",
    "        profit = profit_calculator(gbl['target_valid_' + str(n)], wells_sample, WELLS_MAX, BUDGET, PRICE)\n",
    "        gbl['profit_' + str(n)].append(profit)\n",
    "        \n",
    "    gbl['profit_' + str(n)] = pd.Series(gbl['profit_' + str(n)]) / 1000000\n",
    "    \n",
    "    # доверительный интвервал, в миллионах руб.\n",
    "    gbl['confidence_interval_' + str(n)] = gbl['profit_' + str(n)].quantile([0.025, 0.975]).round(2)\n",
    "    \n",
    "    # среднее, в миллионах руб.\n",
    "    gbl['profits_mean_' + str(n)] = round(gbl['profit_' + str(n)].mean(), 2)\n",
    "    \n",
    "    # оценка риска\n",
    "    gbl['loss_risk_' + str(n)] = (gbl['profit_' + str(n)] < 0).mean()"
   ]
  },
  {
   "cell_type": "markdown",
   "metadata": {
    "lang": "en"
   },
   "source": [
    "#### 4.3. Comparing regions"
   ]
  },
  {
   "cell_type": "markdown",
   "metadata": {
    "lang": "en"
   },
   "source": [
    "Forming a comparative table with the main metrics and arrange it according to the size of the expected profit."
   ]
  },
  {
   "cell_type": "code",
   "execution_count": 15,
   "metadata": {
    "scrolled": true
   },
   "outputs": [
    {
     "data": {
      "text/html": [
       "<style  type=\"text/css\" >\n",
       "</style><table id=\"T_2b8ae25e_eb31_11eb_a069_f83441993b98\" ><thead>    <tr>        <th class=\"blank level0\" ></th>        <th class=\"col_heading level0 col0\" >Expected Profit, mln RUB</th>        <th class=\"col_heading level0 col1\" >Conf. Int., left</th>        <th class=\"col_heading level0 col2\" >Conf. Int., right</th>        <th class=\"col_heading level0 col3\" >Loss Risk</th>    </tr>    <tr>        <th class=\"index_name level0\" >Region</th>        <th class=\"blank\" ></th>        <th class=\"blank\" ></th>        <th class=\"blank\" ></th>        <th class=\"blank\" ></th>    </tr></thead><tbody>\n",
       "                <tr>\n",
       "                        <th id=\"T_2b8ae25e_eb31_11eb_a069_f83441993b98level0_row0\" class=\"row_heading level0 row0\" >1</th>\n",
       "                        <td id=\"T_2b8ae25e_eb31_11eb_a069_f83441993b98row0_col0\" class=\"data row0 col0\" >488.06</td>\n",
       "                        <td id=\"T_2b8ae25e_eb31_11eb_a069_f83441993b98row0_col1\" class=\"data row0 col1\" >-14.93</td>\n",
       "                        <td id=\"T_2b8ae25e_eb31_11eb_a069_f83441993b98row0_col2\" class=\"data row0 col2\" >981.63</td>\n",
       "                        <td id=\"T_2b8ae25e_eb31_11eb_a069_f83441993b98row0_col3\" class=\"data row0 col3\" >3.0%</td>\n",
       "            </tr>\n",
       "            <tr>\n",
       "                        <th id=\"T_2b8ae25e_eb31_11eb_a069_f83441993b98level0_row1\" class=\"row_heading level0 row1\" >2</th>\n",
       "                        <td id=\"T_2b8ae25e_eb31_11eb_a069_f83441993b98row1_col0\" class=\"data row1 col0\" >433.06</td>\n",
       "                        <td id=\"T_2b8ae25e_eb31_11eb_a069_f83441993b98row1_col1\" class=\"data row1 col1\" >23.18</td>\n",
       "                        <td id=\"T_2b8ae25e_eb31_11eb_a069_f83441993b98row1_col2\" class=\"data row1 col2\" >839.62</td>\n",
       "                        <td id=\"T_2b8ae25e_eb31_11eb_a069_f83441993b98row1_col3\" class=\"data row1 col3\" >1.9%</td>\n",
       "            </tr>\n",
       "            <tr>\n",
       "                        <th id=\"T_2b8ae25e_eb31_11eb_a069_f83441993b98level0_row2\" class=\"row_heading level0 row2\" >3</th>\n",
       "                        <td id=\"T_2b8ae25e_eb31_11eb_a069_f83441993b98row2_col0\" class=\"data row2 col0\" >388.58</td>\n",
       "                        <td id=\"T_2b8ae25e_eb31_11eb_a069_f83441993b98row2_col1\" class=\"data row2 col1\" >-159.95</td>\n",
       "                        <td id=\"T_2b8ae25e_eb31_11eb_a069_f83441993b98row2_col2\" class=\"data row2 col2\" >915.14</td>\n",
       "                        <td id=\"T_2b8ae25e_eb31_11eb_a069_f83441993b98row2_col3\" class=\"data row2 col3\" >7.4%</td>\n",
       "            </tr>\n",
       "    </tbody></table>"
      ],
      "text/plain": [
       "<pandas.io.formats.style.Styler at 0x15ed7720cc0>"
      ]
     },
     "execution_count": 15,
     "metadata": {},
     "output_type": "execute_result"
    }
   ],
   "source": [
    "table = pd.DataFrame({'Region':[1, 2, 3], \n",
    "                      'Expected Profit, mln RUB':[profits_mean_1, profits_mean_2, profits_mean_3], \n",
    "                      'Conf. Int., left':[confidence_interval_1.iloc[0], confidence_interval_2.iloc[0], confidence_interval_3.iloc[0]],\n",
    "                     'Conf. Int., right':[confidence_interval_1.iloc[1], confidence_interval_2.iloc[1], confidence_interval_3.iloc[1]],\n",
    "                     'Loss Risk':[loss_risk_1, loss_risk_2, loss_risk_3]})\n",
    "table = table.set_index('Region').sort_values('Expected Profit, mln RUB', ascending=False).round(4)\n",
    "table.style.format({'Loss Risk':'{:,.1%}'.format,\n",
    "                   'Expected Profit, mln RUB':'{:,.2f}'.format,\n",
    "                   'Conf. Int., left':'{:,.2f}'.format,\n",
    "                   'Conf. Int., right':'{:,.2f}'.format})"
   ]
  },
  {
   "cell_type": "markdown",
   "metadata": {
    "lang": "en"
   },
   "source": [
    "Let's look at profit distributions in three regions"
   ]
  },
  {
   "cell_type": "code",
   "execution_count": 16,
   "metadata": {},
   "outputs": [
    {
     "data": {
      "image/png": "[encoded data removed]",
      "text/plain": [
       "<Figure size 504x288 with 1 Axes>"
      ]
     },
     "metadata": {},
     "output_type": "display_data"
    }
   ],
   "source": [
    "fig, ax = plt.subplots(figsize=(7,4))\n",
    "sns.distplot(profit_1, label='Region 1')\n",
    "sns.distplot(profit_2, label='Region 2')\n",
    "sns.distplot(profit_3, label='Region 3')\n",
    "plt.axvline(0, c='red', label='Break Even Point')\n",
    "ax.set(title='Distribution density of profits', xlabel='mln RUB', ylabel='Distribution density')\n",
    "ax.legend();"
   ]
  },
  {
   "cell_type": "markdown",
   "metadata": {
    "lang": "en"
   },
   "source": [
    "**Interim Summary:**\n",
    "- the risk of losses is the smallest for Region 2; it is the only value among three region which turned out to be below the maximum allowed level of 2.5%;\n",
    "- hence, this region will be recommended as a target region for wells development."
   ]
  },
  {
   "cell_type": "markdown",
   "metadata": {},
   "source": [
    "### 5. Final Summary <a name=\"paragraph5\"></a>"
   ]
  },
  {
   "cell_type": "markdown",
   "metadata": {},
   "source": [
    "**Data.** Three datasets, each corresponding to three regions, were provided for analysis. \n",
    "\n",
    "**Preparing data for analysis.** No strange or missing values were detected in the data at the preparation stage. Therefore, the datasets in their entirety were put to work.\n",
    "\n",
    "**Model training**. Each dataset was split into a training and test sample with ratio 3:1. Linear regressions were constructed for each region-dataset separately and used to build models predicting the oil deposits using three parameters. With these models, we predicted the volume of oil in the training samples also and retained the predictions.\n",
    "\n",
    "**Preparing calculation of expected profit:**\n",
    "- We introduced key metrics: price per thousand barrels of oil, budget for total development in the region, and number of wells to be developed.\n",
    "- We calculated the average minimum volume of oil reserves per well to break even: 111 thousand barrels. \n",
    "- This is 14-49% higher than the average oil well per deposit among all regions.\n",
    "\n",
    "**Profit calculation:**\n",
    "- We created a profit calculation function that takes a list of wells, ranks them by predicted oil reserves, and counts the profit for the first 200 wells based on the actual oil reserves in them.\n",
    "- Using this function, we plotted the distribution of potential profits for each region and calculated the risk of loss for each region.\n",
    "\n",
    "**Results and recommendation:**\n",
    "- The only region that demostrated am acceptable loss risk of less than 2.5% is `Region 2`.\n",
    "- Accordingly, `Region 2` with 430 million rubles of potential profit and 1.9% risk of loss is recommended for development."
   ]
  },
  {
   "cell_type": "markdown",
   "metadata": {},
   "source": [
    "-------------\n",
    "\n",
    "End of notebook"
   ]
  }
 ],
 "metadata": {
  "kernelspec": {
   "display_name": "Python 3",
   "language": "python",
   "name": "python3"
  },
  "language_info": {
   "codemirror_mode": {
    "name": "ipython",
    "version": 3
   },
   "file_extension": ".py",
   "mimetype": "text/x-python",
   "name": "python",
   "nbconvert_exporter": "python",
   "pygments_lexer": "ipython3",
   "version": "3.7.3"
  },
  "nbTranslate": {
   "displayLangs": [],
   "hotkey": "alt-t",
   "langInMainMenu": true,
   "sourceLang": "ru",
   "targetLang": "en",
   "useGoogleTranslate": true
  },
  "toc": {
   "base_numbering": 1,
   "nav_menu": {},
   "number_sections": true,
   "sideBar": true,
   "skip_h1_title": false,
   "title_cell": "Table of Contents",
   "title_sidebar": "Contents",
   "toc_cell": false,
   "toc_position": {},
   "toc_section_display": true,
   "toc_window_display": false
  }
 },
 "nbformat": 4,
 "nbformat_minor": 2
}
