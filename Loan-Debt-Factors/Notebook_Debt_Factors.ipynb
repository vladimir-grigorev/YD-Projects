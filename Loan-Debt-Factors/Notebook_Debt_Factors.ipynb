{
 "cells": [
  {
   "cell_type": "markdown",
   "metadata": {},
   "source": [
    "## Project\n",
    "### Analyzing (in)solvency factors for the credit department of a bank\n",
    "\n",
    "**Client:** the credit and dunning department of a bank.\n",
    "\n",
    "**Data:** bank data on customer's solvency. \n",
    "\n",
    "**Task:**\n",
    "based on customer solvency statistics, investigate whether the following factors influence the likelihood of repaying a loan on time:\n",
    "1. marital status\n",
    "2. number of children\n",
    "3. level of income\n",
    "4. purpose of loan\n",
    "\n",
    "------------"
   ]
  },
  {
   "cell_type": "markdown",
   "metadata": {},
   "source": [
    "### Table of Contents\n",
    "\n",
    "1. [General Information](#step1)\n",
    "2. [Data Preprocessing](#preprocessing) <br>\n",
    "    2.1. [Handling Missing Values](#missing) <br>\n",
    "    2.2. [Correcting Data Type(s)](#types) <br>\n",
    "    2.3. [Handling Duplicates](#duplicates) <br>\n",
    "    2.4. [Lemmatization](#lemmatization) <br>\n",
    "    2.5. [Categorizing Data](#categorization) <br>\n",
    "3. [Analysis of Factors](#analysis) <br>\n",
    "    3.1. [Number of Children](#children) <br>\n",
    "    3.2. [Marital Status](#marital) <br>\n",
    "    3.3. [Income Level](#income) <br>\n",
    "    3.4. [Loan Purpose](#purposes) <br>\n",
    "4. [Final Summary](#final_summary)\n",
    "5. [Backup](#backup)\n",
    "\n",
    "<a name=\"step1\"></a>"
   ]
  },
  {
   "cell_type": "code",
   "execution_count": 1,
   "metadata": {},
   "outputs": [],
   "source": [
    "# standard libraries\n",
    "import pandas as pd\n",
    "import numpy as np\n",
    "\n",
    "# for lemmatization\n",
    "from pymystem3 import Mystem \n",
    "\n",
    "# for progress tracking\n",
    "from tqdm import tqdm\n",
    "\n",
    "# for counting values\n",
    "from collections import Counter\n",
    "\n",
    "# for visualizations\n",
    "import matplotlib.pyplot as plt"
   ]
  },
  {
   "cell_type": "markdown",
   "metadata": {
    "lang": "en"
   },
   "source": [
    "### 1. General Information <a name=\"step1\"></a>"
   ]
  },
  {
   "cell_type": "code",
   "execution_count": 2,
   "metadata": {},
   "outputs": [
    {
     "data": {
      "text/html": [
       "<div>\n",
       "<style scoped>\n",
       "    .dataframe tbody tr th:only-of-type {\n",
       "        vertical-align: middle;\n",
       "    }\n",
       "\n",
       "    .dataframe tbody tr th {\n",
       "        vertical-align: top;\n",
       "    }\n",
       "\n",
       "    .dataframe thead th {\n",
       "        text-align: right;\n",
       "    }\n",
       "</style>\n",
       "<table border=\"1\" class=\"dataframe\">\n",
       "  <thead>\n",
       "    <tr style=\"text-align: right;\">\n",
       "      <th></th>\n",
       "      <th>children</th>\n",
       "      <th>days_employed</th>\n",
       "      <th>dob_years</th>\n",
       "      <th>education</th>\n",
       "      <th>education_id</th>\n",
       "      <th>family_status</th>\n",
       "      <th>family_status_id</th>\n",
       "      <th>gender</th>\n",
       "      <th>income_type</th>\n",
       "      <th>debt</th>\n",
       "      <th>total_income</th>\n",
       "      <th>purpose</th>\n",
       "    </tr>\n",
       "  </thead>\n",
       "  <tbody>\n",
       "    <tr>\n",
       "      <th>0</th>\n",
       "      <td>1</td>\n",
       "      <td>-8437.673028</td>\n",
       "      <td>42</td>\n",
       "      <td>высшее</td>\n",
       "      <td>0</td>\n",
       "      <td>женат / замужем</td>\n",
       "      <td>0</td>\n",
       "      <td>F</td>\n",
       "      <td>сотрудник</td>\n",
       "      <td>0</td>\n",
       "      <td>253875.639453</td>\n",
       "      <td>покупка жилья</td>\n",
       "    </tr>\n",
       "    <tr>\n",
       "      <th>1</th>\n",
       "      <td>1</td>\n",
       "      <td>-4024.803754</td>\n",
       "      <td>36</td>\n",
       "      <td>среднее</td>\n",
       "      <td>1</td>\n",
       "      <td>женат / замужем</td>\n",
       "      <td>0</td>\n",
       "      <td>F</td>\n",
       "      <td>сотрудник</td>\n",
       "      <td>0</td>\n",
       "      <td>112080.014102</td>\n",
       "      <td>приобретение автомобиля</td>\n",
       "    </tr>\n",
       "    <tr>\n",
       "      <th>2</th>\n",
       "      <td>0</td>\n",
       "      <td>-5623.422610</td>\n",
       "      <td>33</td>\n",
       "      <td>Среднее</td>\n",
       "      <td>1</td>\n",
       "      <td>женат / замужем</td>\n",
       "      <td>0</td>\n",
       "      <td>M</td>\n",
       "      <td>сотрудник</td>\n",
       "      <td>0</td>\n",
       "      <td>145885.952297</td>\n",
       "      <td>покупка жилья</td>\n",
       "    </tr>\n",
       "    <tr>\n",
       "      <th>3</th>\n",
       "      <td>3</td>\n",
       "      <td>-4124.747207</td>\n",
       "      <td>32</td>\n",
       "      <td>среднее</td>\n",
       "      <td>1</td>\n",
       "      <td>женат / замужем</td>\n",
       "      <td>0</td>\n",
       "      <td>M</td>\n",
       "      <td>сотрудник</td>\n",
       "      <td>0</td>\n",
       "      <td>267628.550329</td>\n",
       "      <td>дополнительное образование</td>\n",
       "    </tr>\n",
       "    <tr>\n",
       "      <th>4</th>\n",
       "      <td>0</td>\n",
       "      <td>340266.072047</td>\n",
       "      <td>53</td>\n",
       "      <td>среднее</td>\n",
       "      <td>1</td>\n",
       "      <td>гражданский брак</td>\n",
       "      <td>1</td>\n",
       "      <td>F</td>\n",
       "      <td>пенсионер</td>\n",
       "      <td>0</td>\n",
       "      <td>158616.077870</td>\n",
       "      <td>сыграть свадьбу</td>\n",
       "    </tr>\n",
       "  </tbody>\n",
       "</table>\n",
       "</div>"
      ],
      "text/plain": [
       "   children  days_employed  dob_years education  education_id  \\\n",
       "0         1   -8437.673028         42    высшее             0   \n",
       "1         1   -4024.803754         36   среднее             1   \n",
       "2         0   -5623.422610         33   Среднее             1   \n",
       "3         3   -4124.747207         32   среднее             1   \n",
       "4         0  340266.072047         53   среднее             1   \n",
       "\n",
       "      family_status  family_status_id gender income_type  debt   total_income  \\\n",
       "0   женат / замужем                 0      F   сотрудник     0  253875.639453   \n",
       "1   женат / замужем                 0      F   сотрудник     0  112080.014102   \n",
       "2   женат / замужем                 0      M   сотрудник     0  145885.952297   \n",
       "3   женат / замужем                 0      M   сотрудник     0  267628.550329   \n",
       "4  гражданский брак                 1      F   пенсионер     0  158616.077870   \n",
       "\n",
       "                      purpose  \n",
       "0               покупка жилья  \n",
       "1     приобретение автомобиля  \n",
       "2               покупка жилья  \n",
       "3  дополнительное образование  \n",
       "4             сыграть свадьбу  "
      ]
     },
     "execution_count": 2,
     "metadata": {},
     "output_type": "execute_result"
    }
   ],
   "source": [
    "# opening the file and reviewing the first rows\n",
    "df = pd.read_csv(\"data.csv\")\n",
    "\n",
    "df.head()"
   ]
  },
  {
   "cell_type": "code",
   "execution_count": 3,
   "metadata": {},
   "outputs": [
    {
     "name": "stdout",
     "output_type": "stream",
     "text": [
      "<class 'pandas.core.frame.DataFrame'>\n",
      "RangeIndex: 21525 entries, 0 to 21524\n",
      "Data columns (total 12 columns):\n",
      " #   Column            Non-Null Count  Dtype  \n",
      "---  ------            --------------  -----  \n",
      " 0   children          21525 non-null  int64  \n",
      " 1   days_employed     19351 non-null  float64\n",
      " 2   dob_years         21525 non-null  int64  \n",
      " 3   education         21525 non-null  object \n",
      " 4   education_id      21525 non-null  int64  \n",
      " 5   family_status     21525 non-null  object \n",
      " 6   family_status_id  21525 non-null  int64  \n",
      " 7   gender            21525 non-null  object \n",
      " 8   income_type       21525 non-null  object \n",
      " 9   debt              21525 non-null  int64  \n",
      " 10  total_income      19351 non-null  float64\n",
      " 11  purpose           21525 non-null  object \n",
      "dtypes: float64(2), int64(5), object(5)\n",
      "memory usage: 2.0+ MB\n"
     ]
    }
   ],
   "source": [
    "df.info()"
   ]
  },
  {
   "cell_type": "markdown",
   "metadata": {
    "lang": "en"
   },
   "source": [
    "-----\n",
    "\n",
    "**Interim Summary**\n",
    "\n",
    "At first glance, the data reveals the following:\n",
    "- the dataset consists of a total of 12 variables and 21525 observations;\n",
    "- some variables contain missing values: *days_employed*, *total_ income*\n",
    "- there is a suspicion that some variables are of the wrong type: for example, *days_employed* makes sense to make an integer\n",
    "- it is also striking that some variables are written in an inappropriate format: for example, *days_employed* has got negative values, and the some other fraction of obsevations exceeds hundreds of thousands of days (which does not seem to be a plausible value)\n",
    "\n",
    "-----"
   ]
  },
  {
   "cell_type": "markdown",
   "metadata": {},
   "source": [
    "### 2. Data Preprocessing <a name=\"preprocessing\"></a>"
   ]
  },
  {
   "cell_type": "markdown",
   "metadata": {},
   "source": [
    "#### 2.1. Handling Missing Values <a name=\"missing\"></a>"
   ]
  },
  {
   "cell_type": "markdown",
   "metadata": {},
   "source": [
    "###### 2.1.1. Straight* Missing Values\n",
    "\n",
    "(* already marked as NaN)"
   ]
  },
  {
   "cell_type": "code",
   "execution_count": 4,
   "metadata": {},
   "outputs": [
    {
     "name": "stdout",
     "output_type": "stream",
     "text": [
      "Total number of rows with missing values: 2174\n",
      "Share of such rows among all observations: 10.1%\n"
     ]
    }
   ],
   "source": [
    "# counting missing values\n",
    "missing_values_sum = df[\"total_income\"].isna().sum()\n",
    "print(\"Total number of rows with missing values:\", missing_values_sum)\n",
    "print(\"Share of such rows among all observations: {:.1%}\".format(missing_values_sum / len(df)))"
   ]
  },
  {
   "cell_type": "markdown",
   "metadata": {
    "lang": "en"
   },
   "source": [
    "-------\n",
    "\n",
    "**Interim Summary**\n",
    "\n",
    "As it was revealed in Step 1, the variable `days_employed` seems to have inappropriate values, e.i. there are negative and very large values.\n",
    "\n",
    "As shown by visual analysis of the variable ([Backup](#backupvisual)):\n",
    "- large values are similar to noise and it is very difficult to attribute them to any logical age equivalent;\n",
    "- negative values are similar to real data (but with an accidentally added minus)\n",
    "\n",
    "Thus, we will convert very large values to NaN.\n",
    "\n",
    "------"
   ]
  },
  {
   "cell_type": "code",
   "execution_count": 5,
   "metadata": {},
   "outputs": [],
   "source": [
    "# let us create corresponding funtion which converts certain values to NaN\n",
    "def nan_converter(n):\n",
    "    if n > 0:\n",
    "        return np.nan\n",
    "    else:\n",
    "        return n"
   ]
  },
  {
   "cell_type": "code",
   "execution_count": 6,
   "metadata": {},
   "outputs": [],
   "source": [
    "# applying the function\n",
    "df[\"days_employed\"] = df[\"days_employed\"].apply(nan_converter)"
   ]
  },
  {
   "cell_type": "code",
   "execution_count": 7,
   "metadata": {},
   "outputs": [
    {
     "data": {
      "text/html": [
       "<div>\n",
       "<style scoped>\n",
       "    .dataframe tbody tr th:only-of-type {\n",
       "        vertical-align: middle;\n",
       "    }\n",
       "\n",
       "    .dataframe tbody tr th {\n",
       "        vertical-align: top;\n",
       "    }\n",
       "\n",
       "    .dataframe thead th {\n",
       "        text-align: right;\n",
       "    }\n",
       "</style>\n",
       "<table border=\"1\" class=\"dataframe\">\n",
       "  <thead>\n",
       "    <tr style=\"text-align: right;\">\n",
       "      <th></th>\n",
       "      <th>children</th>\n",
       "      <th>days_employed</th>\n",
       "      <th>dob_years</th>\n",
       "      <th>education</th>\n",
       "      <th>education_id</th>\n",
       "      <th>family_status</th>\n",
       "      <th>family_status_id</th>\n",
       "      <th>gender</th>\n",
       "      <th>income_type</th>\n",
       "      <th>debt</th>\n",
       "      <th>total_income</th>\n",
       "      <th>purpose</th>\n",
       "    </tr>\n",
       "  </thead>\n",
       "  <tbody>\n",
       "    <tr>\n",
       "      <th>0</th>\n",
       "      <td>1</td>\n",
       "      <td>-8437.673028</td>\n",
       "      <td>42</td>\n",
       "      <td>высшее</td>\n",
       "      <td>0</td>\n",
       "      <td>женат / замужем</td>\n",
       "      <td>0</td>\n",
       "      <td>F</td>\n",
       "      <td>сотрудник</td>\n",
       "      <td>0</td>\n",
       "      <td>253875.639453</td>\n",
       "      <td>покупка жилья</td>\n",
       "    </tr>\n",
       "    <tr>\n",
       "      <th>1</th>\n",
       "      <td>1</td>\n",
       "      <td>-4024.803754</td>\n",
       "      <td>36</td>\n",
       "      <td>среднее</td>\n",
       "      <td>1</td>\n",
       "      <td>женат / замужем</td>\n",
       "      <td>0</td>\n",
       "      <td>F</td>\n",
       "      <td>сотрудник</td>\n",
       "      <td>0</td>\n",
       "      <td>112080.014102</td>\n",
       "      <td>приобретение автомобиля</td>\n",
       "    </tr>\n",
       "    <tr>\n",
       "      <th>2</th>\n",
       "      <td>0</td>\n",
       "      <td>-5623.422610</td>\n",
       "      <td>33</td>\n",
       "      <td>Среднее</td>\n",
       "      <td>1</td>\n",
       "      <td>женат / замужем</td>\n",
       "      <td>0</td>\n",
       "      <td>M</td>\n",
       "      <td>сотрудник</td>\n",
       "      <td>0</td>\n",
       "      <td>145885.952297</td>\n",
       "      <td>покупка жилья</td>\n",
       "    </tr>\n",
       "    <tr>\n",
       "      <th>3</th>\n",
       "      <td>3</td>\n",
       "      <td>-4124.747207</td>\n",
       "      <td>32</td>\n",
       "      <td>среднее</td>\n",
       "      <td>1</td>\n",
       "      <td>женат / замужем</td>\n",
       "      <td>0</td>\n",
       "      <td>M</td>\n",
       "      <td>сотрудник</td>\n",
       "      <td>0</td>\n",
       "      <td>267628.550329</td>\n",
       "      <td>дополнительное образование</td>\n",
       "    </tr>\n",
       "    <tr>\n",
       "      <th>4</th>\n",
       "      <td>0</td>\n",
       "      <td>NaN</td>\n",
       "      <td>53</td>\n",
       "      <td>среднее</td>\n",
       "      <td>1</td>\n",
       "      <td>гражданский брак</td>\n",
       "      <td>1</td>\n",
       "      <td>F</td>\n",
       "      <td>пенсионер</td>\n",
       "      <td>0</td>\n",
       "      <td>158616.077870</td>\n",
       "      <td>сыграть свадьбу</td>\n",
       "    </tr>\n",
       "  </tbody>\n",
       "</table>\n",
       "</div>"
      ],
      "text/plain": [
       "   children  days_employed  dob_years education  education_id  \\\n",
       "0         1   -8437.673028         42    высшее             0   \n",
       "1         1   -4024.803754         36   среднее             1   \n",
       "2         0   -5623.422610         33   Среднее             1   \n",
       "3         3   -4124.747207         32   среднее             1   \n",
       "4         0            NaN         53   среднее             1   \n",
       "\n",
       "      family_status  family_status_id gender income_type  debt   total_income  \\\n",
       "0   женат / замужем                 0      F   сотрудник     0  253875.639453   \n",
       "1   женат / замужем                 0      F   сотрудник     0  112080.014102   \n",
       "2   женат / замужем                 0      M   сотрудник     0  145885.952297   \n",
       "3   женат / замужем                 0      M   сотрудник     0  267628.550329   \n",
       "4  гражданский брак                 1      F   пенсионер     0  158616.077870   \n",
       "\n",
       "                      purpose  \n",
       "0               покупка жилья  \n",
       "1     приобретение автомобиля  \n",
       "2               покупка жилья  \n",
       "3  дополнительное образование  \n",
       "4             сыграть свадьбу  "
      ]
     },
     "execution_count": 7,
     "metadata": {},
     "output_type": "execute_result"
    }
   ],
   "source": [
    "# checking results\n",
    "df.head(5)"
   ]
  },
  {
   "cell_type": "code",
   "execution_count": 8,
   "metadata": {},
   "outputs": [
    {
     "name": "stdout",
     "output_type": "stream",
     "text": [
      "Total number of rows with missing values: 5619\n",
      "Share of such rows among all observations: 26.1%\n"
     ]
    }
   ],
   "source": [
    "missing_values_sum = df[\"days_employed\"].isna().sum()\n",
    "print(\"Total number of rows with missing values:\", missing_values_sum)\n",
    "print(\"Share of such rows among all observations: {:.1%}\".format(missing_values_sum / len(df)))"
   ]
  },
  {
   "cell_type": "markdown",
   "metadata": {},
   "source": [
    "Let us handle NaN values for variable `total_income`"
   ]
  },
  {
   "cell_type": "code",
   "execution_count": 9,
   "metadata": {
    "scrolled": true
   },
   "outputs": [
    {
     "data": {
      "text/html": [
       "<div>\n",
       "<style scoped>\n",
       "    .dataframe tbody tr th:only-of-type {\n",
       "        vertical-align: middle;\n",
       "    }\n",
       "\n",
       "    .dataframe tbody tr th {\n",
       "        vertical-align: top;\n",
       "    }\n",
       "\n",
       "    .dataframe thead th {\n",
       "        text-align: right;\n",
       "    }\n",
       "</style>\n",
       "<table border=\"1\" class=\"dataframe\">\n",
       "  <thead>\n",
       "    <tr style=\"text-align: right;\">\n",
       "      <th></th>\n",
       "      <th>children</th>\n",
       "      <th>days_employed</th>\n",
       "      <th>dob_years</th>\n",
       "      <th>education</th>\n",
       "      <th>education_id</th>\n",
       "      <th>family_status</th>\n",
       "      <th>family_status_id</th>\n",
       "      <th>gender</th>\n",
       "      <th>income_type</th>\n",
       "      <th>debt</th>\n",
       "      <th>total_income</th>\n",
       "      <th>purpose</th>\n",
       "    </tr>\n",
       "  </thead>\n",
       "  <tbody>\n",
       "    <tr>\n",
       "      <th>21489</th>\n",
       "      <td>2</td>\n",
       "      <td>NaN</td>\n",
       "      <td>47</td>\n",
       "      <td>Среднее</td>\n",
       "      <td>1</td>\n",
       "      <td>женат / замужем</td>\n",
       "      <td>0</td>\n",
       "      <td>M</td>\n",
       "      <td>компаньон</td>\n",
       "      <td>0</td>\n",
       "      <td>NaN</td>\n",
       "      <td>сделка с автомобилем</td>\n",
       "    </tr>\n",
       "    <tr>\n",
       "      <th>21495</th>\n",
       "      <td>1</td>\n",
       "      <td>NaN</td>\n",
       "      <td>50</td>\n",
       "      <td>среднее</td>\n",
       "      <td>1</td>\n",
       "      <td>гражданский брак</td>\n",
       "      <td>1</td>\n",
       "      <td>F</td>\n",
       "      <td>сотрудник</td>\n",
       "      <td>0</td>\n",
       "      <td>NaN</td>\n",
       "      <td>свадьба</td>\n",
       "    </tr>\n",
       "    <tr>\n",
       "      <th>21497</th>\n",
       "      <td>0</td>\n",
       "      <td>NaN</td>\n",
       "      <td>48</td>\n",
       "      <td>ВЫСШЕЕ</td>\n",
       "      <td>0</td>\n",
       "      <td>женат / замужем</td>\n",
       "      <td>0</td>\n",
       "      <td>F</td>\n",
       "      <td>компаньон</td>\n",
       "      <td>0</td>\n",
       "      <td>NaN</td>\n",
       "      <td>строительство недвижимости</td>\n",
       "    </tr>\n",
       "    <tr>\n",
       "      <th>21502</th>\n",
       "      <td>1</td>\n",
       "      <td>NaN</td>\n",
       "      <td>42</td>\n",
       "      <td>среднее</td>\n",
       "      <td>1</td>\n",
       "      <td>женат / замужем</td>\n",
       "      <td>0</td>\n",
       "      <td>F</td>\n",
       "      <td>сотрудник</td>\n",
       "      <td>0</td>\n",
       "      <td>NaN</td>\n",
       "      <td>строительство жилой недвижимости</td>\n",
       "    </tr>\n",
       "    <tr>\n",
       "      <th>21510</th>\n",
       "      <td>2</td>\n",
       "      <td>NaN</td>\n",
       "      <td>28</td>\n",
       "      <td>среднее</td>\n",
       "      <td>1</td>\n",
       "      <td>женат / замужем</td>\n",
       "      <td>0</td>\n",
       "      <td>F</td>\n",
       "      <td>сотрудник</td>\n",
       "      <td>0</td>\n",
       "      <td>NaN</td>\n",
       "      <td>приобретение автомобиля</td>\n",
       "    </tr>\n",
       "  </tbody>\n",
       "</table>\n",
       "</div>"
      ],
      "text/plain": [
       "       children  days_employed  dob_years education  education_id  \\\n",
       "21489         2            NaN         47   Среднее             1   \n",
       "21495         1            NaN         50   среднее             1   \n",
       "21497         0            NaN         48    ВЫСШЕЕ             0   \n",
       "21502         1            NaN         42   среднее             1   \n",
       "21510         2            NaN         28   среднее             1   \n",
       "\n",
       "          family_status  family_status_id gender income_type  debt  \\\n",
       "21489   женат / замужем                 0      M   компаньон     0   \n",
       "21495  гражданский брак                 1      F   сотрудник     0   \n",
       "21497   женат / замужем                 0      F   компаньон     0   \n",
       "21502   женат / замужем                 0      F   сотрудник     0   \n",
       "21510   женат / замужем                 0      F   сотрудник     0   \n",
       "\n",
       "       total_income                           purpose  \n",
       "21489           NaN              сделка с автомобилем  \n",
       "21495           NaN                           свадьба  \n",
       "21497           NaN        строительство недвижимости  \n",
       "21502           NaN  строительство жилой недвижимости  \n",
       "21510           NaN           приобретение автомобиля  "
      ]
     },
     "execution_count": 9,
     "metadata": {},
     "output_type": "execute_result"
    }
   ],
   "source": [
    "# finding observations with missing values and saving them in a separate dataframe for subsequent analysis\n",
    "df_missing = df[df[\"total_income\"].isna()]\n",
    "df_missing.tail()"
   ]
  },
  {
   "cell_type": "markdown",
   "metadata": {
    "lang": "en"
   },
   "source": [
    "----\n",
    "\n",
    "**Interim Analysis**\n",
    "\n",
    "Missing values are based in two columns:\n",
    "- total work experience in days (`days_employed`)\n",
    "- monthly income (`total_income`)\n",
    "\n",
    "The main hypothesis is that these values are accidental, e.i. either this information for a given customer is stored on another medium within the credit department, or it is lost. It is difficult to imagine that such data as work experience and monthly income were not collected when the loan was issued.\n",
    "    \n",
    "-----"
   ]
  },
  {
   "cell_type": "markdown",
   "metadata": {},
   "source": [
    "Verifying whether variables are distributed in the same (or comparable manner) in the full dataset and the dataset with missing values. Below the analysis for `income_type`. Analysis for other variables can be found in [Backup](#backupmissing).\n",
    "\n",
    "The approach is to calculate share of possile values for `income_type` in full dataset and in the dataset with missing values. Afterwards, we can visually compare if the difference is significant."
   ]
  },
  {
   "cell_type": "code",
   "execution_count": 10,
   "metadata": {},
   "outputs": [
    {
     "data": {
      "text/html": [
       "<div>\n",
       "<style scoped>\n",
       "    .dataframe tbody tr th:only-of-type {\n",
       "        vertical-align: middle;\n",
       "    }\n",
       "\n",
       "    .dataframe tbody tr th {\n",
       "        vertical-align: top;\n",
       "    }\n",
       "\n",
       "    .dataframe thead th {\n",
       "        text-align: right;\n",
       "    }\n",
       "</style>\n",
       "<table border=\"1\" class=\"dataframe\">\n",
       "  <thead>\n",
       "    <tr style=\"text-align: right;\">\n",
       "      <th></th>\n",
       "      <th>share_full</th>\n",
       "      <th>share_missing</th>\n",
       "    </tr>\n",
       "  </thead>\n",
       "  <tbody>\n",
       "    <tr>\n",
       "      <th>безработный</th>\n",
       "      <td>0.000</td>\n",
       "      <td>NaN</td>\n",
       "    </tr>\n",
       "    <tr>\n",
       "      <th>в декрете</th>\n",
       "      <td>0.000</td>\n",
       "      <td>NaN</td>\n",
       "    </tr>\n",
       "    <tr>\n",
       "      <th>госслужащий</th>\n",
       "      <td>0.068</td>\n",
       "      <td>0.068</td>\n",
       "    </tr>\n",
       "    <tr>\n",
       "      <th>компаньон</th>\n",
       "      <td>0.236</td>\n",
       "      <td>0.234</td>\n",
       "    </tr>\n",
       "    <tr>\n",
       "      <th>пенсионер</th>\n",
       "      <td>0.179</td>\n",
       "      <td>0.190</td>\n",
       "    </tr>\n",
       "    <tr>\n",
       "      <th>предприниматель</th>\n",
       "      <td>0.000</td>\n",
       "      <td>0.000</td>\n",
       "    </tr>\n",
       "    <tr>\n",
       "      <th>сотрудник</th>\n",
       "      <td>0.517</td>\n",
       "      <td>0.508</td>\n",
       "    </tr>\n",
       "    <tr>\n",
       "      <th>студент</th>\n",
       "      <td>0.000</td>\n",
       "      <td>NaN</td>\n",
       "    </tr>\n",
       "  </tbody>\n",
       "</table>\n",
       "</div>"
      ],
      "text/plain": [
       "                 share_full  share_missing\n",
       "безработный           0.000            NaN\n",
       "в декрете             0.000            NaN\n",
       "госслужащий           0.068          0.068\n",
       "компаньон             0.236          0.234\n",
       "пенсионер             0.179          0.190\n",
       "предприниматель       0.000          0.000\n",
       "сотрудник             0.517          0.508\n",
       "студент               0.000            NaN"
      ]
     },
     "execution_count": 10,
     "metadata": {},
     "output_type": "execute_result"
    }
   ],
   "source": [
    "income_type_count_missing = pd.DataFrame(df_missing[\"income_type\"].value_counts().sort_values())\n",
    "income_type_count_missing[\"share_missing\"] = income_type_count_missing[\"income_type\"] / df_missing[\"income_type\"].value_counts().sum()\n",
    "\n",
    "income_type_count_full = pd.DataFrame(df[\"income_type\"].value_counts().sort_values())\n",
    "income_type_count_full[\"share_full\"] = income_type_count_full[\"income_type\"] / df[\"income_type\"].value_counts().sum()\n",
    "\n",
    "income_type_count_full.merge(income_type_count_missing, left_index=True, right_index=True, how=\"outer\").round(3)[[\"share_full\", \"share_missing\"]]"
   ]
  },
  {
   "cell_type": "markdown",
   "metadata": {
    "lang": "en"
   },
   "source": [
    "-----\n",
    "\n",
    "**Interim Analysis**\n",
    "\n",
    "Comparison of the rows with missing values and the entire dataset demonstrates the randomness of the missing data, since the difference in shares for each category of variables is minimal (the largest: 0.009 percentage points in the category \"employee\")\n",
    " \n",
    "**Approach to Imputing Missing Values**\n",
    "    \n",
    "We fill in the missing values based on group medians. The groups median will be found  based on the available characteristics - age, education, gender, marital status and source of income.\n",
    "\n",
    "-------------"
   ]
  },
  {
   "cell_type": "markdown",
   "metadata": {
    "lang": "en"
   },
   "source": [
    "First, we categorize the `dob_years` variable to get a better variable for grouping according to age.\n",
    "Let's try to combine them into five-year preiods: 16-20, 21-25 and so on.\n",
    "Let us define the corresponding function."
   ]
  },
  {
   "cell_type": "code",
   "execution_count": 11,
   "metadata": {},
   "outputs": [],
   "source": [
    "# Defining the function\n",
    "ages_groups = list(range(16, 101, 5))\n",
    "def age_grouping(age):\n",
    "    for n in ages_groups:\n",
    "        if age in range(n, n+5):\n",
    "            return ages_groups.index(n)"
   ]
  },
  {
   "cell_type": "markdown",
   "metadata": {
    "lang": "en"
   },
   "source": [
    "Let's apply the function to the variable `dob_years` and create a new variable `dob_years_group`"
   ]
  },
  {
   "cell_type": "code",
   "execution_count": 12,
   "metadata": {},
   "outputs": [
    {
     "data": {
      "text/html": [
       "<div>\n",
       "<style scoped>\n",
       "    .dataframe tbody tr th:only-of-type {\n",
       "        vertical-align: middle;\n",
       "    }\n",
       "\n",
       "    .dataframe tbody tr th {\n",
       "        vertical-align: top;\n",
       "    }\n",
       "\n",
       "    .dataframe thead th {\n",
       "        text-align: right;\n",
       "    }\n",
       "</style>\n",
       "<table border=\"1\" class=\"dataframe\">\n",
       "  <thead>\n",
       "    <tr style=\"text-align: right;\">\n",
       "      <th></th>\n",
       "      <th>children</th>\n",
       "      <th>days_employed</th>\n",
       "      <th>dob_years</th>\n",
       "      <th>education</th>\n",
       "      <th>education_id</th>\n",
       "      <th>family_status</th>\n",
       "      <th>family_status_id</th>\n",
       "      <th>gender</th>\n",
       "      <th>income_type</th>\n",
       "      <th>debt</th>\n",
       "      <th>total_income</th>\n",
       "      <th>purpose</th>\n",
       "      <th>dob_years_group</th>\n",
       "    </tr>\n",
       "  </thead>\n",
       "  <tbody>\n",
       "    <tr>\n",
       "      <th>21523</th>\n",
       "      <td>3</td>\n",
       "      <td>-3112.481705</td>\n",
       "      <td>38</td>\n",
       "      <td>среднее</td>\n",
       "      <td>1</td>\n",
       "      <td>женат / замужем</td>\n",
       "      <td>0</td>\n",
       "      <td>M</td>\n",
       "      <td>сотрудник</td>\n",
       "      <td>1</td>\n",
       "      <td>244093.050500</td>\n",
       "      <td>на покупку своего автомобиля</td>\n",
       "      <td>4.0</td>\n",
       "    </tr>\n",
       "    <tr>\n",
       "      <th>21524</th>\n",
       "      <td>2</td>\n",
       "      <td>-1984.507589</td>\n",
       "      <td>40</td>\n",
       "      <td>среднее</td>\n",
       "      <td>1</td>\n",
       "      <td>женат / замужем</td>\n",
       "      <td>0</td>\n",
       "      <td>F</td>\n",
       "      <td>сотрудник</td>\n",
       "      <td>0</td>\n",
       "      <td>82047.418899</td>\n",
       "      <td>на покупку автомобиля</td>\n",
       "      <td>4.0</td>\n",
       "    </tr>\n",
       "  </tbody>\n",
       "</table>\n",
       "</div>"
      ],
      "text/plain": [
       "       children  days_employed  dob_years education  education_id  \\\n",
       "21523         3   -3112.481705         38   среднее             1   \n",
       "21524         2   -1984.507589         40   среднее             1   \n",
       "\n",
       "         family_status  family_status_id gender income_type  debt  \\\n",
       "21523  женат / замужем                 0      M   сотрудник     1   \n",
       "21524  женат / замужем                 0      F   сотрудник     0   \n",
       "\n",
       "        total_income                       purpose  dob_years_group  \n",
       "21523  244093.050500  на покупку своего автомобиля              4.0  \n",
       "21524   82047.418899         на покупку автомобиля              4.0  "
      ]
     },
     "execution_count": 12,
     "metadata": {},
     "output_type": "execute_result"
    }
   ],
   "source": [
    "# applying the function\n",
    "df[\"dob_years_group\"] = df[\"dob_years\"].apply(age_grouping)\n",
    "df.tail(2)"
   ]
  },
  {
   "cell_type": "markdown",
   "metadata": {},
   "source": [
    "Imputing NaN for monthly income data"
   ]
  },
  {
   "cell_type": "code",
   "execution_count": 13,
   "metadata": {},
   "outputs": [],
   "source": [
    "df['total_income'] = df.groupby([\"gender\", \n",
    "                                     \"family_status_id\", \n",
    "                                     \"education_id\", \n",
    "                                     \"income_type\", \n",
    "                                     \"dob_years_group\"])['total_income'].apply(lambda x: x.fillna(x.median()))"
   ]
  },
  {
   "cell_type": "markdown",
   "metadata": {},
   "source": [
    "Imputing NaN for work experience data"
   ]
  },
  {
   "cell_type": "code",
   "execution_count": 14,
   "metadata": {},
   "outputs": [],
   "source": [
    "df['days_employed'] = df.groupby([\"gender\", \n",
    "                                     \"family_status_id\", \n",
    "                                     \"education_id\", \n",
    "                                     \"income_type\", \n",
    "                                     \"dob_years_group\"])['days_employed'].apply(lambda x: x.fillna(x.median()))"
   ]
  },
  {
   "cell_type": "markdown",
   "metadata": {},
   "source": [
    "###### 2.1.1. Implicit* Missing Values\n",
    "\n",
    "(* Zeros or impossible values)"
   ]
  },
  {
   "cell_type": "markdown",
   "metadata": {},
   "source": [
    "Counting missing values"
   ]
  },
  {
   "cell_type": "code",
   "execution_count": 15,
   "metadata": {
    "scrolled": false
   },
   "outputs": [
    {
     "name": "stdout",
     "output_type": "stream",
     "text": [
      "Number of missing values: 125\n",
      "\n"
     ]
    },
    {
     "data": {
      "text/html": [
       "<div>\n",
       "<style scoped>\n",
       "    .dataframe tbody tr th:only-of-type {\n",
       "        vertical-align: middle;\n",
       "    }\n",
       "\n",
       "    .dataframe tbody tr th {\n",
       "        vertical-align: top;\n",
       "    }\n",
       "\n",
       "    .dataframe thead th {\n",
       "        text-align: right;\n",
       "    }\n",
       "</style>\n",
       "<table border=\"1\" class=\"dataframe\">\n",
       "  <thead>\n",
       "    <tr style=\"text-align: right;\">\n",
       "      <th></th>\n",
       "      <th>children</th>\n",
       "      <th>days_employed</th>\n",
       "      <th>dob_years</th>\n",
       "      <th>education</th>\n",
       "      <th>education_id</th>\n",
       "      <th>family_status</th>\n",
       "      <th>family_status_id</th>\n",
       "      <th>gender</th>\n",
       "      <th>income_type</th>\n",
       "      <th>debt</th>\n",
       "      <th>total_income</th>\n",
       "      <th>purpose</th>\n",
       "      <th>dob_years_group</th>\n",
       "    </tr>\n",
       "  </thead>\n",
       "  <tbody>\n",
       "    <tr>\n",
       "      <th>99</th>\n",
       "      <td>0</td>\n",
       "      <td>NaN</td>\n",
       "      <td>0</td>\n",
       "      <td>Среднее</td>\n",
       "      <td>1</td>\n",
       "      <td>женат / замужем</td>\n",
       "      <td>0</td>\n",
       "      <td>F</td>\n",
       "      <td>пенсионер</td>\n",
       "      <td>0</td>\n",
       "      <td>NaN</td>\n",
       "      <td>автомобиль</td>\n",
       "      <td>NaN</td>\n",
       "    </tr>\n",
       "    <tr>\n",
       "      <th>149</th>\n",
       "      <td>0</td>\n",
       "      <td>NaN</td>\n",
       "      <td>0</td>\n",
       "      <td>среднее</td>\n",
       "      <td>1</td>\n",
       "      <td>в разводе</td>\n",
       "      <td>3</td>\n",
       "      <td>F</td>\n",
       "      <td>сотрудник</td>\n",
       "      <td>0</td>\n",
       "      <td>NaN</td>\n",
       "      <td>операции с жильем</td>\n",
       "      <td>NaN</td>\n",
       "    </tr>\n",
       "    <tr>\n",
       "      <th>270</th>\n",
       "      <td>3</td>\n",
       "      <td>NaN</td>\n",
       "      <td>0</td>\n",
       "      <td>среднее</td>\n",
       "      <td>1</td>\n",
       "      <td>женат / замужем</td>\n",
       "      <td>0</td>\n",
       "      <td>F</td>\n",
       "      <td>сотрудник</td>\n",
       "      <td>0</td>\n",
       "      <td>NaN</td>\n",
       "      <td>ремонт жилью</td>\n",
       "      <td>NaN</td>\n",
       "    </tr>\n",
       "    <tr>\n",
       "      <th>389</th>\n",
       "      <td>1</td>\n",
       "      <td>NaN</td>\n",
       "      <td>31</td>\n",
       "      <td>СРЕДНЕЕ</td>\n",
       "      <td>1</td>\n",
       "      <td>в разводе</td>\n",
       "      <td>3</td>\n",
       "      <td>M</td>\n",
       "      <td>госслужащий</td>\n",
       "      <td>0</td>\n",
       "      <td>NaN</td>\n",
       "      <td>дополнительное образование</td>\n",
       "      <td>3.0</td>\n",
       "    </tr>\n",
       "    <tr>\n",
       "      <th>578</th>\n",
       "      <td>0</td>\n",
       "      <td>NaN</td>\n",
       "      <td>0</td>\n",
       "      <td>среднее</td>\n",
       "      <td>1</td>\n",
       "      <td>женат / замужем</td>\n",
       "      <td>0</td>\n",
       "      <td>F</td>\n",
       "      <td>пенсионер</td>\n",
       "      <td>0</td>\n",
       "      <td>NaN</td>\n",
       "      <td>строительство собственной недвижимости</td>\n",
       "      <td>NaN</td>\n",
       "    </tr>\n",
       "  </tbody>\n",
       "</table>\n",
       "</div>"
      ],
      "text/plain": [
       "     children  days_employed  dob_years education  education_id  \\\n",
       "99          0            NaN          0   Среднее             1   \n",
       "149         0            NaN          0   среднее             1   \n",
       "270         3            NaN          0   среднее             1   \n",
       "389         1            NaN         31   СРЕДНЕЕ             1   \n",
       "578         0            NaN          0   среднее             1   \n",
       "\n",
       "       family_status  family_status_id gender  income_type  debt  \\\n",
       "99   женат / замужем                 0      F    пенсионер     0   \n",
       "149        в разводе                 3      F    сотрудник     0   \n",
       "270  женат / замужем                 0      F    сотрудник     0   \n",
       "389        в разводе                 3      M  госслужащий     0   \n",
       "578  женат / замужем                 0      F    пенсионер     0   \n",
       "\n",
       "     total_income                                 purpose  dob_years_group  \n",
       "99            NaN                              автомобиль              NaN  \n",
       "149           NaN                       операции с жильем              NaN  \n",
       "270           NaN                            ремонт жилью              NaN  \n",
       "389           NaN              дополнительное образование              3.0  \n",
       "578           NaN  строительство собственной недвижимости              NaN  "
      ]
     },
     "execution_count": 15,
     "metadata": {},
     "output_type": "execute_result"
    }
   ],
   "source": [
    "# checking missing values again\n",
    "print(\"Number of missing values:\", df[\"total_income\"].isna().sum())\n",
    "print()\n",
    "# checking the values\n",
    "df[df[\"total_income\"].isna()].head()"
   ]
  },
  {
   "cell_type": "markdown",
   "metadata": {},
   "source": [
    "Counting zero values"
   ]
  },
  {
   "cell_type": "code",
   "execution_count": 16,
   "metadata": {
    "scrolled": true
   },
   "outputs": [
    {
     "name": "stdout",
     "output_type": "stream",
     "text": [
      "Number of zero values: 101\n"
     ]
    }
   ],
   "source": [
    "# checking zero values \n",
    "print(\"Number of zero values:\", (df[\"dob_years\"] == 0).sum())"
   ]
  },
  {
   "cell_type": "markdown",
   "metadata": {},
   "source": [
    "It seems that for one part of missing values, there were no groups to calculate median on.\n",
    "As those are only 125 observations or around 0.5% of all rows, we can delete them without losing much information"
   ]
  },
  {
   "cell_type": "code",
   "execution_count": 17,
   "metadata": {},
   "outputs": [],
   "source": [
    "df.dropna(inplace=True)\n",
    "df = df.reset_index(drop=True)"
   ]
  },
  {
   "cell_type": "markdown",
   "metadata": {},
   "source": [
    "The `dob_years` variable has got a zero for certain observations, although it should not be possible. \n",
    "Probably, zero corresponds to an unwillingness of the customer to provide data or simply to a lack of relevant data in the system. There is a total of 101 rows with such zeros (0.47% of the dataset). These nulls can also be deleted."
   ]
  },
  {
   "cell_type": "code",
   "execution_count": 18,
   "metadata": {},
   "outputs": [],
   "source": [
    "df = df[df[\"dob_years\"] != 0].reset_index(drop=True)"
   ]
  },
  {
   "cell_type": "markdown",
   "metadata": {},
   "source": [
    "Looking at unique values of all other variable to see if there are any anomalies that can also be attributed to implicit missing values"
   ]
  },
  {
   "cell_type": "code",
   "execution_count": 19,
   "metadata": {
    "scrolled": true
   },
   "outputs": [
    {
     "name": "stdout",
     "output_type": "stream",
     "text": [
      "children\n",
      "[ 1  0  3  2 -1  4 20  5]\n",
      "\n",
      "days_employed\n",
      "[-8437.67302776 -4024.80375385 -5623.42261023 ... -4529.31666318\n",
      " -2113.3468877  -3112.4817052 ]\n",
      "\n",
      "dob_years\n",
      "[42 36 33 32 27 43 50 35 41 40 54 56 26 48 24 21 28 47 34 25 31 30 20 49\n",
      " 37 45 61 44 53 46 23 38 52 39 51 62 29 59 55 64 58 60 22 63 69 57 65 19\n",
      " 67 71 66 72 68 70 75 74 73]\n",
      "\n",
      "education\n",
      "['высшее' 'среднее' 'Среднее' 'СРЕДНЕЕ' 'ВЫСШЕЕ' 'неоконченное высшее'\n",
      " 'начальное' 'Высшее' 'НЕОКОНЧЕННОЕ ВЫСШЕЕ' 'Неоконченное высшее'\n",
      " 'НАЧАЛЬНОЕ' 'Начальное' 'УЧЕНАЯ СТЕПЕНЬ' 'ученая степень']\n",
      "\n",
      "education_id\n",
      "[0 1 2 3 4]\n",
      "\n",
      "family_status\n",
      "['женат / замужем' 'гражданский брак' 'в разводе' 'Не женат / не замужем'\n",
      " 'вдовец / вдова']\n",
      "\n",
      "family_status_id\n",
      "[0 1 3 4 2]\n",
      "\n",
      "gender\n",
      "['F' 'M' 'XNA']\n",
      "\n",
      "income_type\n",
      "['сотрудник' 'компаньон' 'госслужащий' 'студент' 'предприниматель'\n",
      " 'в декрете']\n",
      "\n",
      "debt\n",
      "[0 1]\n",
      "\n",
      "total_income\n",
      "[253875.6394526  112080.01410244 145885.95229686 ...  89672.56115303\n",
      " 244093.05050043  82047.41889948]\n",
      "\n",
      "purpose\n",
      "['покупка жилья' 'приобретение автомобиля' 'дополнительное образование'\n",
      " 'операции с жильем' 'образование' 'на проведение свадьбы'\n",
      " 'покупка жилья для семьи' 'покупка недвижимости'\n",
      " 'покупка коммерческой недвижимости' 'покупка жилой недвижимости'\n",
      " 'строительство собственной недвижимости' 'недвижимость'\n",
      " 'строительство недвижимости' 'на покупку своего автомобиля'\n",
      " 'на покупку подержанного автомобиля' 'сыграть свадьбу' 'жилье'\n",
      " 'операции со своей недвижимостью' 'автомобили' 'заняться образованием'\n",
      " 'сделка с подержанным автомобилем' 'получение образования' 'автомобиль'\n",
      " 'свадьба' 'получение дополнительного образования' 'покупка своего жилья'\n",
      " 'операции с недвижимостью' 'получение высшего образования'\n",
      " 'операции с коммерческой недвижимостью' 'свой автомобиль'\n",
      " 'сделка с автомобилем' 'профильное образование' 'высшее образование'\n",
      " 'на покупку автомобиля' 'покупка жилья для сдачи'\n",
      " 'строительство жилой недвижимости' 'ремонт жилью'\n",
      " 'заняться высшим образованием']\n",
      "\n",
      "dob_years_group\n",
      "[ 5.  4.  3.  2.  6.  7.  8.  1.  0.  9. 10. 11.]\n",
      "\n"
     ]
    }
   ],
   "source": [
    "# \n",
    "for col in list(df.columns):\n",
    "    print(col)\n",
    "    print(df[col].unique())\n",
    "    print()"
   ]
  },
  {
   "cell_type": "markdown",
   "metadata": {
    "lang": "en"
   },
   "source": [
    "-----\n",
    "\n",
    "**Interim Analysis**\n",
    "\n",
    "Three problems were identified among following variables:\n",
    "\n",
    "- First, the variable `children`. The number of children in some cases is -1 and 20. If the first value is impossible, then the second is so unlikely that we'd decide to treat it as impossible also. Probably, these values were used as a marker for missing data of a particular customer.\n",
    "\n",
    "- Second, the variable `education` contains a number of categories which have the same meaning.\n",
    "\n",
    "- Third, the variable `gender` contains one `XNA` value that cannot be attributed to any of the known genders.\n",
    "\n",
    "------"
   ]
  },
  {
   "cell_type": "markdown",
   "metadata": {},
   "source": [
    "Looking into how many problematic observations we have got."
   ]
  },
  {
   "cell_type": "code",
   "execution_count": 20,
   "metadata": {},
   "outputs": [
    {
     "name": "stdout",
     "output_type": "stream",
     "text": [
      "Number of rows with 20 children: 66\n",
      "Number of rows with -1 children: 39\n",
      "Number of rows with gender XNA: 1\n"
     ]
    }
   ],
   "source": [
    "print(\"Number of rows with 20 children:\", len(df[df[\"children\"] == 20]))\n",
    "print(\"Number of rows with -1 children:\", len(df[df[\"children\"] == -1]))\n",
    "print(\"Number of rows with gender XNA:\", len(df[df[\"gender\"] == \"XNA\"]))"
   ]
  },
  {
   "cell_type": "markdown",
   "metadata": {},
   "source": [
    "Since the total number of such rows does not exceed half a percent of the entire dataset, we can delete them without significant loss of information."
   ]
  },
  {
   "cell_type": "code",
   "execution_count": 21,
   "metadata": {},
   "outputs": [],
   "source": [
    "df = df[df[\"children\"] != 20].reset_index(drop=True)\n",
    "df = df[df[\"children\"] != -1].reset_index(drop=True)\n",
    "df = df[df[\"gender\"] != \"XNA\"].reset_index(drop=True)"
   ]
  },
  {
   "cell_type": "markdown",
   "metadata": {
    "lang": "en"
   },
   "source": [
    "----------\n",
    "    \n",
    "**Interim Summary**\n",
    "\n",
    "#### 1. Handling Explicit Missing Values: NaN\n",
    "**Remove vs Replace**\n",
    "\n",
    "The original dataset found 2174 rows containing `NaN` values. The option to remove them was rejected for two reasons:\n",
    "1. Such missing values are placed in two columns: `days _employed` and `total_ income`. From a credit business standpoint, both are important.\n",
    "2. There are too many observations with missing values, e.i. around 10% of the entire dataset (if taking into account the impossible values to NaN - more than 25% of the dataset). Removing them will result in the loss of a large amount of information.\n",
    "Therefore, the option to impute them seems to be preferable.\n",
    "\n",
    "**Imputation Method**\n",
    "\n",
    "The missing values are non-systematic/random (see [Backup](#backupmissing) for details). The shares of various categories of variables are identical in the entire dataset and in a dataset consisting only of missing values. Hence, medians were used as imputation values. They were calculated for groups formed on the basis of different values of the variables (age, marital status, education level, gender and source of income). Unlike using one median of the entire dataset, using multiple medians by groups should keep the overall variance in the dataset higher (which is useful for further analysis).\n",
    "\n",
    "#### 2. Handling Implicit Missing Data: zeros and impossible values\n",
    "1. After step 1 from above, some rows still possesses missing balues (~120 rows or ~0.5% of the dataset), where the imputation did not work, since the corresponding group to calculate a median was not found in the data.\n",
    "2. The `dob_years` variable contains zero values. Probably, zero corresponds to the unwillingness to provide the data by the borrower or simply the absence of relevant data in the system. There are 101 such lines or 0.47% of the dataset.\n",
    "3. The variables `children` and `gender` contained (nearly) impossible values (the number of children is equal to -1 or 20, and gender is XNA). Rows with these values were removed (they took up less than half of a percent of the dataset).\n",
    "\n",
    "The rows with missing values from cases above were removed, since they correspond to the fraction of the dataset that can be neglected without significant loss of information.\n",
    "\n",
    "---------------"
   ]
  },
  {
   "cell_type": "markdown",
   "metadata": {
    "lang": "en"
   },
   "source": [
    "#### 2.2. Correcting data type(s)  <a name=\"types\"></a>"
   ]
  },
  {
   "cell_type": "markdown",
   "metadata": {
    "lang": "en"
   },
   "source": [
    "Upon initial analysis of the table, one invalid data type was identified by the variable `days_employed`.\n",
    "The number of days is an integer value while it is stored in the table as a negative floating point number."
   ]
  },
  {
   "cell_type": "code",
   "execution_count": 22,
   "metadata": {},
   "outputs": [],
   "source": [
    "# Performing corresponding correction\n",
    "df[\"days_employed\"] = df[\"days_employed\"].astype(\"int\")"
   ]
  },
  {
   "cell_type": "code",
   "execution_count": 23,
   "metadata": {},
   "outputs": [],
   "source": [
    "# Changing the sign\n",
    "df[\"days_employed\"] = abs(df[\"days_employed\"])"
   ]
  },
  {
   "cell_type": "markdown",
   "metadata": {
    "lang": "en"
   },
   "source": [
    "-----\n",
    "\n",
    "**Interim Summary**\n",
    "\n",
    "The variable `days_employed` was written in the original dataset as a negative floating point value, although it must be a positive integer value. The data type and sign in front of the value were changed accordingly.\n",
    "\n",
    "-----"
   ]
  },
  {
   "cell_type": "markdown",
   "metadata": {
    "lang": "en"
   },
   "source": [
    "#### 2.3. Handling Duplicates  <a name=\"duplicates\"></a>"
   ]
  },
  {
   "cell_type": "markdown",
   "metadata": {
    "lang": "en"
   },
   "source": [
    "Before we start looking for duplicates, let's find out if there may be upper/lower case issues with string variables. \n",
    "The table contains case-sensitive variables: education, family_status, purpose.\n",
    "Let's see if there are problems associated with them."
   ]
  },
  {
   "cell_type": "code",
   "execution_count": 24,
   "metadata": {},
   "outputs": [
    {
     "name": "stdout",
     "output_type": "stream",
     "text": [
      "Unique values of 'education': ['высшее', 'среднее', 'Среднее', 'СРЕДНЕЕ', 'ВЫСШЕЕ', 'неоконченное высшее', 'начальное', 'Высшее', 'НЕОКОНЧЕННОЕ ВЫСШЕЕ', 'Неоконченное высшее', 'НАЧАЛЬНОЕ', 'Начальное', 'УЧЕНАЯ СТЕПЕНЬ', 'ученая степень']\n",
      "\n",
      "Unique values of 'family_status': ['женат / замужем', 'гражданский брак', 'в разводе', 'Не женат / не замужем', 'вдовец / вдова']\n",
      "\n",
      "Unique values of 'purpose': ['покупка жилья', 'приобретение автомобиля', 'дополнительное образование', 'операции с жильем', 'образование', 'на проведение свадьбы', 'покупка жилья для семьи', 'покупка недвижимости', 'покупка коммерческой недвижимости', 'покупка жилой недвижимости', 'строительство собственной недвижимости', 'недвижимость', 'строительство недвижимости', 'на покупку своего автомобиля', 'на покупку подержанного автомобиля', 'сыграть свадьбу', 'жилье', 'операции со своей недвижимостью', 'автомобили', 'заняться образованием', 'сделка с подержанным автомобилем', 'получение образования', 'автомобиль', 'свадьба', 'получение дополнительного образования', 'покупка своего жилья', 'операции с недвижимостью', 'получение высшего образования', 'операции с коммерческой недвижимостью', 'свой автомобиль', 'сделка с автомобилем', 'профильное образование', 'высшее образование', 'на покупку автомобиля', 'покупка жилья для сдачи', 'строительство жилой недвижимости', 'ремонт жилью', 'заняться высшим образованием']\n"
     ]
    }
   ],
   "source": [
    "print(\"Unique values of 'education':\", list(df[\"education\"].unique()))\n",
    "print()\n",
    "print(\"Unique values of 'family_status':\", list(df[\"family_status\"].unique()))\n",
    "print()\n",
    "print(\"Unique values of 'purpose':\", list(df[\"purpose\"].unique()))"
   ]
  },
  {
   "cell_type": "markdown",
   "metadata": {
    "lang": "en"
   },
   "source": [
    "The `education` variable has got the case-sensitivity issue.\n",
    "Let's lowercase it."
   ]
  },
  {
   "cell_type": "code",
   "execution_count": 25,
   "metadata": {},
   "outputs": [],
   "source": [
    "df[\"education\"] = df[\"education\"].str.lower()     "
   ]
  },
  {
   "cell_type": "markdown",
   "metadata": {},
   "source": [
    "Calculating number of duplicates"
   ]
  },
  {
   "cell_type": "code",
   "execution_count": 26,
   "metadata": {},
   "outputs": [
    {
     "name": "stdout",
     "output_type": "stream",
     "text": [
      "Number of duplicates: 44\n"
     ]
    }
   ],
   "source": [
    "print(\"Number of duplicates:\", len(df[df.duplicated()]))"
   ]
  },
  {
   "cell_type": "markdown",
   "metadata": {},
   "source": [
    "Removing the duplicated rows as they only constitute 0.25% of the dataset and won't cause any meaningful loss of information."
   ]
  },
  {
   "cell_type": "markdown",
   "metadata": {
    "lang": "en"
   },
   "source": [
    "-------\n",
    "\n",
    "**Interim Summary**\n",
    "\n",
    "In order to be able to detect duplicates written using different registers, we checked the unique values of string variables. Indeed, the `education` variable contained 15 unique values with only 5 possible ones (for example, there are 3 different spellings of one of the categories, e.g. average, AVERAGE, Average). After applying lowercase to the variable, the number of unique values returned to 5. For other string variables, the issue was not found.\n",
    "\n",
    "----------"
   ]
  },
  {
   "cell_type": "markdown",
   "metadata": {},
   "source": [
    "#### 2.4. Lemmatization <a name=\"lemmatization\"></a>"
   ]
  },
  {
   "cell_type": "markdown",
   "metadata": {},
   "source": [
    "Variable `purpose` describes the purpose for getting the loan. The customers could formulate it themselves. Hence, the values are not standardized/pre-defined. To be able to generalize them, we'd need to first lemmatize them."
   ]
  },
  {
   "cell_type": "code",
   "execution_count": 27,
   "metadata": {},
   "outputs": [
    {
     "name": "stderr",
     "output_type": "stream",
     "text": [
      "100%|██████████| 38/38 [00:53<00:00,  1.42s/it]\n"
     ]
    }
   ],
   "source": [
    "# lemmatizing data on purpose\n",
    "m = Mystem()\n",
    "\n",
    "unique_purposes = list(df[\"purpose\"].unique())\n",
    "unique_purposes_lemmatized = []\n",
    "unique_purposes_lemmatized_pooled = []\n",
    "\n",
    "for purpose in tqdm(unique_purposes):\n",
    "    lemmas = m.lemmatize(purpose)\n",
    "    unique_purposes_lemmatized.append(lemmas)\n",
    "    unique_purposes_lemmatized_pooled.extend(lemmas)\n",
    "    \n",
    "# let's save unique values and their lemmatized forms in a separate dataframe\n",
    "purpose_lemmas = pd.DataFrame([unique_purposes, unique_purposes_lemmatized]).T.rename(columns={0:\"purpose\", 1: \"purpose_lemmatized\"})"
   ]
  },
  {
   "cell_type": "code",
   "execution_count": 28,
   "metadata": {},
   "outputs": [
    {
     "name": "stdout",
     "output_type": "stream",
     "text": [
      "Lemmatized Data:\n",
      "[['покупка', ' ', 'жилье', '\\n'], ['приобретение', ' ', 'автомобиль', '\\n'], ['дополнительный', ' ', 'образование', '\\n'], ['операция', ' ', 'с', ' ', 'жилье', '\\n'], ['образование', '\\n'], ['на', ' ', 'проведение', ' ', 'свадьба', '\\n'], ['покупка', ' ', 'жилье', ' ', 'для', ' ', 'семья', '\\n'], ['покупка', ' ', 'недвижимость', '\\n'], ['покупка', ' ', 'коммерческий', ' ', 'недвижимость', '\\n'], ['покупка', ' ', 'жилой', ' ', 'недвижимость', '\\n'], ['строительство', ' ', 'собственный', ' ', 'недвижимость', '\\n'], ['недвижимость', '\\n'], ['строительство', ' ', 'недвижимость', '\\n'], ['на', ' ', 'покупка', ' ', 'свой', ' ', 'автомобиль', '\\n'], ['на', ' ', 'покупка', ' ', 'подержать', ' ', 'автомобиль', '\\n'], ['сыграть', ' ', 'свадьба', '\\n'], ['жилье', '\\n'], ['операция', ' ', 'со', ' ', 'свой', ' ', 'недвижимость', '\\n'], ['автомобиль', '\\n'], ['заниматься', ' ', 'образование', '\\n'], ['сделка', ' ', 'с', ' ', 'подержанный', ' ', 'автомобиль', '\\n'], ['получение', ' ', 'образование', '\\n'], ['автомобиль', '\\n'], ['свадьба', '\\n'], ['получение', ' ', 'дополнительный', ' ', 'образование', '\\n'], ['покупка', ' ', 'свой', ' ', 'жилье', '\\n'], ['операция', ' ', 'с', ' ', 'недвижимость', '\\n'], ['получение', ' ', 'высокий', ' ', 'образование', '\\n'], ['операция', ' ', 'с', ' ', 'коммерческий', ' ', 'недвижимость', '\\n'], ['свой', ' ', 'автомобиль', '\\n'], ['сделка', ' ', 'с', ' ', 'автомобиль', '\\n'], ['профильный', ' ', 'образование', '\\n'], ['высокий', ' ', 'образование', '\\n'], ['на', ' ', 'покупка', ' ', 'автомобиль', '\\n'], ['покупка', ' ', 'жилье', ' ', 'для', ' ', 'сдача', '\\n'], ['строительство', ' ', 'жилой', ' ', 'недвижимость', '\\n'], ['ремонт', ' ', 'жилье', '\\n'], ['заниматься', ' ', 'высокий', ' ', 'образование', '\\n']]\n"
     ]
    }
   ],
   "source": [
    "print(\"Lemmatized Data:\")\n",
    "print(unique_purposes_lemmatized)"
   ]
  },
  {
   "cell_type": "markdown",
   "metadata": {},
   "source": [
    "Let's highlight the main purposes by counting the frequency of different words"
   ]
  },
  {
   "cell_type": "code",
   "execution_count": 29,
   "metadata": {},
   "outputs": [
    {
     "data": {
      "text/html": [
       "<div>\n",
       "<style scoped>\n",
       "    .dataframe tbody tr th:only-of-type {\n",
       "        vertical-align: middle;\n",
       "    }\n",
       "\n",
       "    .dataframe tbody tr th {\n",
       "        vertical-align: top;\n",
       "    }\n",
       "\n",
       "    .dataframe thead th {\n",
       "        text-align: right;\n",
       "    }\n",
       "</style>\n",
       "<table border=\"1\" class=\"dataframe\">\n",
       "  <thead>\n",
       "    <tr style=\"text-align: right;\">\n",
       "      <th></th>\n",
       "      <th>Frequency</th>\n",
       "    </tr>\n",
       "  </thead>\n",
       "  <tbody>\n",
       "    <tr>\n",
       "      <th></th>\n",
       "      <td>59</td>\n",
       "    </tr>\n",
       "    <tr>\n",
       "      <th>\\n</th>\n",
       "      <td>38</td>\n",
       "    </tr>\n",
       "    <tr>\n",
       "      <th>недвижимость</th>\n",
       "      <td>10</td>\n",
       "    </tr>\n",
       "    <tr>\n",
       "      <th>покупка</th>\n",
       "      <td>10</td>\n",
       "    </tr>\n",
       "    <tr>\n",
       "      <th>автомобиль</th>\n",
       "      <td>9</td>\n",
       "    </tr>\n",
       "    <tr>\n",
       "      <th>образование</th>\n",
       "      <td>9</td>\n",
       "    </tr>\n",
       "    <tr>\n",
       "      <th>жилье</th>\n",
       "      <td>7</td>\n",
       "    </tr>\n",
       "    <tr>\n",
       "      <th>с</th>\n",
       "      <td>5</td>\n",
       "    </tr>\n",
       "    <tr>\n",
       "      <th>на</th>\n",
       "      <td>4</td>\n",
       "    </tr>\n",
       "    <tr>\n",
       "      <th>свой</th>\n",
       "      <td>4</td>\n",
       "    </tr>\n",
       "    <tr>\n",
       "      <th>операция</th>\n",
       "      <td>4</td>\n",
       "    </tr>\n",
       "    <tr>\n",
       "      <th>высокий</th>\n",
       "      <td>3</td>\n",
       "    </tr>\n",
       "    <tr>\n",
       "      <th>получение</th>\n",
       "      <td>3</td>\n",
       "    </tr>\n",
       "    <tr>\n",
       "      <th>строительство</th>\n",
       "      <td>3</td>\n",
       "    </tr>\n",
       "    <tr>\n",
       "      <th>свадьба</th>\n",
       "      <td>3</td>\n",
       "    </tr>\n",
       "    <tr>\n",
       "      <th>сделка</th>\n",
       "      <td>2</td>\n",
       "    </tr>\n",
       "    <tr>\n",
       "      <th>заниматься</th>\n",
       "      <td>2</td>\n",
       "    </tr>\n",
       "    <tr>\n",
       "      <th>коммерческий</th>\n",
       "      <td>2</td>\n",
       "    </tr>\n",
       "    <tr>\n",
       "      <th>жилой</th>\n",
       "      <td>2</td>\n",
       "    </tr>\n",
       "    <tr>\n",
       "      <th>для</th>\n",
       "      <td>2</td>\n",
       "    </tr>\n",
       "    <tr>\n",
       "      <th>дополнительный</th>\n",
       "      <td>2</td>\n",
       "    </tr>\n",
       "    <tr>\n",
       "      <th>собственный</th>\n",
       "      <td>1</td>\n",
       "    </tr>\n",
       "    <tr>\n",
       "      <th>семья</th>\n",
       "      <td>1</td>\n",
       "    </tr>\n",
       "    <tr>\n",
       "      <th>подержать</th>\n",
       "      <td>1</td>\n",
       "    </tr>\n",
       "    <tr>\n",
       "      <th>сыграть</th>\n",
       "      <td>1</td>\n",
       "    </tr>\n",
       "    <tr>\n",
       "      <th>со</th>\n",
       "      <td>1</td>\n",
       "    </tr>\n",
       "    <tr>\n",
       "      <th>проведение</th>\n",
       "      <td>1</td>\n",
       "    </tr>\n",
       "    <tr>\n",
       "      <th>подержанный</th>\n",
       "      <td>1</td>\n",
       "    </tr>\n",
       "    <tr>\n",
       "      <th>приобретение</th>\n",
       "      <td>1</td>\n",
       "    </tr>\n",
       "    <tr>\n",
       "      <th>профильный</th>\n",
       "      <td>1</td>\n",
       "    </tr>\n",
       "    <tr>\n",
       "      <th>сдача</th>\n",
       "      <td>1</td>\n",
       "    </tr>\n",
       "    <tr>\n",
       "      <th>ремонт</th>\n",
       "      <td>1</td>\n",
       "    </tr>\n",
       "  </tbody>\n",
       "</table>\n",
       "</div>"
      ],
      "text/plain": [
       "                Frequency\n",
       "                       59\n",
       "\\n                     38\n",
       "недвижимость           10\n",
       "покупка                10\n",
       "автомобиль              9\n",
       "образование             9\n",
       "жилье                   7\n",
       "с                       5\n",
       "на                      4\n",
       "свой                    4\n",
       "операция                4\n",
       "высокий                 3\n",
       "получение               3\n",
       "строительство           3\n",
       "свадьба                 3\n",
       "сделка                  2\n",
       "заниматься              2\n",
       "коммерческий            2\n",
       "жилой                   2\n",
       "для                     2\n",
       "дополнительный          2\n",
       "собственный             1\n",
       "семья                   1\n",
       "подержать               1\n",
       "сыграть                 1\n",
       "со                      1\n",
       "проведение              1\n",
       "подержанный             1\n",
       "приобретение            1\n",
       "профильный              1\n",
       "сдача                   1\n",
       "ремонт                  1"
      ]
     },
     "execution_count": 29,
     "metadata": {},
     "output_type": "execute_result"
    }
   ],
   "source": [
    "freq_sum = pd.DataFrame.from_dict(Counter(unique_purposes_lemmatized_pooled), orient='index', columns=['Frequency'])\n",
    "freq_sum.sort_values('Frequency', ascending=False)"
   ]
  },
  {
   "cell_type": "markdown",
   "metadata": {},
   "source": [
    "---------------\n",
    "\n",
    "**Interim Summary**\n",
    "\n",
    "The lemmatization of the variable `purpose` helped identify a number of 'standard' loan purposes:\n",
    "- purchasing car\n",
    "- building/buying property \n",
    "- repairing home \n",
    "- education\n",
    "- wedding\n",
    "- business (purchase of commercial real estate, deal finance)\n",
    "\n",
    "-----------"
   ]
  },
  {
   "cell_type": "markdown",
   "metadata": {},
   "source": [
    "#### 2.5. Categorizing Data <a name=\"categorization\"></a>\n",
    "\n",
    "*2.5.1. Adding categories based on loan purpose*\n",
    "\n",
    "Let's categorize the data on the purpose of the loan using the categories obtained on the previous step. First, let's form a table with \n",
    "\n",
    "(1) standardized loan objectives; \n",
    "\n",
    "(2) *keys* that can be used to relate the standardized objectives to the real data, and \n",
    "\n",
    "(3) category numbers."
   ]
  },
  {
   "cell_type": "code",
   "execution_count": 30,
   "metadata": {},
   "outputs": [
    {
     "data": {
      "text/html": [
       "<div>\n",
       "<style scoped>\n",
       "    .dataframe tbody tr th:only-of-type {\n",
       "        vertical-align: middle;\n",
       "    }\n",
       "\n",
       "    .dataframe tbody tr th {\n",
       "        vertical-align: top;\n",
       "    }\n",
       "\n",
       "    .dataframe thead th {\n",
       "        text-align: right;\n",
       "    }\n",
       "</style>\n",
       "<table border=\"1\" class=\"dataframe\">\n",
       "  <thead>\n",
       "    <tr style=\"text-align: right;\">\n",
       "      <th></th>\n",
       "      <th>purpose_id</th>\n",
       "      <th>purpose_standard</th>\n",
       "      <th>purpose_key</th>\n",
       "    </tr>\n",
       "  </thead>\n",
       "  <tbody>\n",
       "    <tr>\n",
       "      <th>0</th>\n",
       "      <td>0</td>\n",
       "      <td>buy a car</td>\n",
       "      <td>автомобиль</td>\n",
       "    </tr>\n",
       "    <tr>\n",
       "      <th>1</th>\n",
       "      <td>1</td>\n",
       "      <td>buy/build property</td>\n",
       "      <td>[жилье, недвижимость]</td>\n",
       "    </tr>\n",
       "    <tr>\n",
       "      <th>2</th>\n",
       "      <td>2</td>\n",
       "      <td>repair property</td>\n",
       "      <td>ремонт</td>\n",
       "    </tr>\n",
       "    <tr>\n",
       "      <th>3</th>\n",
       "      <td>3</td>\n",
       "      <td>education</td>\n",
       "      <td>образование</td>\n",
       "    </tr>\n",
       "    <tr>\n",
       "      <th>4</th>\n",
       "      <td>4</td>\n",
       "      <td>wedding</td>\n",
       "      <td>свадьба</td>\n",
       "    </tr>\n",
       "    <tr>\n",
       "      <th>5</th>\n",
       "      <td>5</td>\n",
       "      <td>business (purchase of commercial real estate, ...</td>\n",
       "      <td>[сделка, коммерческий, сдача]</td>\n",
       "    </tr>\n",
       "  </tbody>\n",
       "</table>\n",
       "</div>"
      ],
      "text/plain": [
       "   purpose_id                                   purpose_standard  \\\n",
       "0           0                                          buy a car   \n",
       "1           1                                 buy/build property   \n",
       "2           2                                    repair property   \n",
       "3           3                                          education   \n",
       "4           4                                            wedding   \n",
       "5           5  business (purchase of commercial real estate, ...   \n",
       "\n",
       "                     purpose_key  \n",
       "0                     автомобиль  \n",
       "1          [жилье, недвижимость]  \n",
       "2                         ремонт  \n",
       "3                    образование  \n",
       "4                        свадьба  \n",
       "5  [сделка, коммерческий, сдача]  "
      ]
     },
     "execution_count": 30,
     "metadata": {},
     "output_type": "execute_result"
    }
   ],
   "source": [
    "purpose_categories = [\n",
    "\"buy a car\",\n",
    "\"buy/build property\",\n",
    "\"repair property\",\n",
    "\"education\",\n",
    "\"wedding\",\n",
    "\"business (purchase of commercial real estate, deal finance)\"]\n",
    "purpose_keys = [\n",
    "    \"автомобиль\", [\"жилье\", \"недвижимость\"], \"ремонт\", \"образование\", \"свадьба\", [\"сделка\", \"коммерческий\", \"сдача\"]\n",
    "]\n",
    "\n",
    "purpose_dict = pd.DataFrame([purpose_categories, purpose_keys]).T.reset_index().rename(columns={1:\"purpose_key\", 0:\"purpose_standard\", \"index\":\"purpose_id\"})\n",
    "purpose_dict"
   ]
  },
  {
   "cell_type": "markdown",
   "metadata": {},
   "source": [
    "Once we have the dictionary for categories, we map them to the unique values of the variable `purpose`. \n",
    "*Disclaimer:* this could theoretically be done immediately on a original dataset, but it would be very expensive in terms of computational resources. Here is why I decided to firstly create the dictionary table.\n",
    "\n",
    "Let's create a function for mapping the table above with the original dataset."
   ]
  },
  {
   "cell_type": "code",
   "execution_count": 31,
   "metadata": {},
   "outputs": [],
   "source": [
    "def purpose_attributor(line):\n",
    "    if (\"сделка\" in line) or (\"коммерческий\" in line) or(\"сдача\" in line):\n",
    "        return 5\n",
    "    elif \"свадьба\" in line:\n",
    "        return 4\n",
    "    elif \"образование\" in line:\n",
    "        return 3\n",
    "    elif \"ремонт\" in line:\n",
    "        return 2\n",
    "    elif (\"жилье\" in line) or (\"недвижимость\" in line):\n",
    "        return 1\n",
    "    elif \"автомобиль\" in line:\n",
    "        return 0        "
   ]
  },
  {
   "cell_type": "code",
   "execution_count": 32,
   "metadata": {},
   "outputs": [
    {
     "data": {
      "text/html": [
       "<div>\n",
       "<style scoped>\n",
       "    .dataframe tbody tr th:only-of-type {\n",
       "        vertical-align: middle;\n",
       "    }\n",
       "\n",
       "    .dataframe tbody tr th {\n",
       "        vertical-align: top;\n",
       "    }\n",
       "\n",
       "    .dataframe thead th {\n",
       "        text-align: right;\n",
       "    }\n",
       "</style>\n",
       "<table border=\"1\" class=\"dataframe\">\n",
       "  <thead>\n",
       "    <tr style=\"text-align: right;\">\n",
       "      <th></th>\n",
       "      <th>purpose</th>\n",
       "      <th>purpose_lemmatized</th>\n",
       "      <th>purpose_id</th>\n",
       "    </tr>\n",
       "  </thead>\n",
       "  <tbody>\n",
       "    <tr>\n",
       "      <th>0</th>\n",
       "      <td>покупка жилья</td>\n",
       "      <td>[покупка,  , жилье, \\n]</td>\n",
       "      <td>1</td>\n",
       "    </tr>\n",
       "    <tr>\n",
       "      <th>1</th>\n",
       "      <td>приобретение автомобиля</td>\n",
       "      <td>[приобретение,  , автомобиль, \\n]</td>\n",
       "      <td>0</td>\n",
       "    </tr>\n",
       "    <tr>\n",
       "      <th>2</th>\n",
       "      <td>дополнительное образование</td>\n",
       "      <td>[дополнительный,  , образование, \\n]</td>\n",
       "      <td>3</td>\n",
       "    </tr>\n",
       "    <tr>\n",
       "      <th>3</th>\n",
       "      <td>операции с жильем</td>\n",
       "      <td>[операция,  , с,  , жилье, \\n]</td>\n",
       "      <td>1</td>\n",
       "    </tr>\n",
       "    <tr>\n",
       "      <th>4</th>\n",
       "      <td>образование</td>\n",
       "      <td>[образование, \\n]</td>\n",
       "      <td>3</td>\n",
       "    </tr>\n",
       "  </tbody>\n",
       "</table>\n",
       "</div>"
      ],
      "text/plain": [
       "                      purpose                    purpose_lemmatized  \\\n",
       "0               покупка жилья               [покупка,  , жилье, \\n]   \n",
       "1     приобретение автомобиля     [приобретение,  , автомобиль, \\n]   \n",
       "2  дополнительное образование  [дополнительный,  , образование, \\n]   \n",
       "3           операции с жильем        [операция,  , с,  , жилье, \\n]   \n",
       "4                 образование                     [образование, \\n]   \n",
       "\n",
       "   purpose_id  \n",
       "0           1  \n",
       "1           0  \n",
       "2           3  \n",
       "3           1  \n",
       "4           3  "
      ]
     },
     "execution_count": 32,
     "metadata": {},
     "output_type": "execute_result"
    }
   ],
   "source": [
    "# применим функцию к нашему словарю целей\n",
    "purpose_lemmas[\"purpose_id\"] = purpose_lemmas[\"purpose_lemmatized\"].apply(purpose_attributor)\n",
    "purpose_lemmas.head()"
   ]
  },
  {
   "cell_type": "markdown",
   "metadata": {},
   "source": [
    "Using the `purposs_lemma` dataframe created above, we add the lemmatized purpose to our original dataset. "
   ]
  },
  {
   "cell_type": "code",
   "execution_count": 33,
   "metadata": {
    "scrolled": true
   },
   "outputs": [
    {
     "data": {
      "text/html": [
       "<div>\n",
       "<style scoped>\n",
       "    .dataframe tbody tr th:only-of-type {\n",
       "        vertical-align: middle;\n",
       "    }\n",
       "\n",
       "    .dataframe tbody tr th {\n",
       "        vertical-align: top;\n",
       "    }\n",
       "\n",
       "    .dataframe thead th {\n",
       "        text-align: right;\n",
       "    }\n",
       "</style>\n",
       "<table border=\"1\" class=\"dataframe\">\n",
       "  <thead>\n",
       "    <tr style=\"text-align: right;\">\n",
       "      <th></th>\n",
       "      <th>children</th>\n",
       "      <th>days_employed</th>\n",
       "      <th>dob_years</th>\n",
       "      <th>education</th>\n",
       "      <th>education_id</th>\n",
       "      <th>family_status</th>\n",
       "      <th>family_status_id</th>\n",
       "      <th>gender</th>\n",
       "      <th>income_type</th>\n",
       "      <th>debt</th>\n",
       "      <th>total_income</th>\n",
       "      <th>purpose</th>\n",
       "      <th>dob_years_group</th>\n",
       "      <th>purpose_lemmatized</th>\n",
       "      <th>purpose_id</th>\n",
       "    </tr>\n",
       "  </thead>\n",
       "  <tbody>\n",
       "    <tr>\n",
       "      <th>17455</th>\n",
       "      <td>1</td>\n",
       "      <td>2351</td>\n",
       "      <td>37</td>\n",
       "      <td>ученая степень</td>\n",
       "      <td>4</td>\n",
       "      <td>в разводе</td>\n",
       "      <td>3</td>\n",
       "      <td>M</td>\n",
       "      <td>сотрудник</td>\n",
       "      <td>0</td>\n",
       "      <td>115949.039788</td>\n",
       "      <td>покупка коммерческой недвижимости</td>\n",
       "      <td>4.0</td>\n",
       "      <td>[покупка,  , коммерческий,  , недвижимость, \\n]</td>\n",
       "      <td>5</td>\n",
       "    </tr>\n",
       "    <tr>\n",
       "      <th>17456</th>\n",
       "      <td>1</td>\n",
       "      <td>4529</td>\n",
       "      <td>43</td>\n",
       "      <td>среднее</td>\n",
       "      <td>1</td>\n",
       "      <td>гражданский брак</td>\n",
       "      <td>1</td>\n",
       "      <td>F</td>\n",
       "      <td>компаньон</td>\n",
       "      <td>0</td>\n",
       "      <td>224791.862382</td>\n",
       "      <td>операции с жильем</td>\n",
       "      <td>5.0</td>\n",
       "      <td>[операция,  , с,  , жилье, \\n]</td>\n",
       "      <td>1</td>\n",
       "    </tr>\n",
       "    <tr>\n",
       "      <th>17457</th>\n",
       "      <td>1</td>\n",
       "      <td>2113</td>\n",
       "      <td>38</td>\n",
       "      <td>среднее</td>\n",
       "      <td>1</td>\n",
       "      <td>гражданский брак</td>\n",
       "      <td>1</td>\n",
       "      <td>M</td>\n",
       "      <td>сотрудник</td>\n",
       "      <td>1</td>\n",
       "      <td>89672.561153</td>\n",
       "      <td>недвижимость</td>\n",
       "      <td>4.0</td>\n",
       "      <td>[недвижимость, \\n]</td>\n",
       "      <td>1</td>\n",
       "    </tr>\n",
       "    <tr>\n",
       "      <th>17458</th>\n",
       "      <td>3</td>\n",
       "      <td>3112</td>\n",
       "      <td>38</td>\n",
       "      <td>среднее</td>\n",
       "      <td>1</td>\n",
       "      <td>женат / замужем</td>\n",
       "      <td>0</td>\n",
       "      <td>M</td>\n",
       "      <td>сотрудник</td>\n",
       "      <td>1</td>\n",
       "      <td>244093.050500</td>\n",
       "      <td>на покупку своего автомобиля</td>\n",
       "      <td>4.0</td>\n",
       "      <td>[на,  , покупка,  , свой,  , автомобиль, \\n]</td>\n",
       "      <td>0</td>\n",
       "    </tr>\n",
       "    <tr>\n",
       "      <th>17459</th>\n",
       "      <td>2</td>\n",
       "      <td>1984</td>\n",
       "      <td>40</td>\n",
       "      <td>среднее</td>\n",
       "      <td>1</td>\n",
       "      <td>женат / замужем</td>\n",
       "      <td>0</td>\n",
       "      <td>F</td>\n",
       "      <td>сотрудник</td>\n",
       "      <td>0</td>\n",
       "      <td>82047.418899</td>\n",
       "      <td>на покупку автомобиля</td>\n",
       "      <td>4.0</td>\n",
       "      <td>[на,  , покупка,  , автомобиль, \\n]</td>\n",
       "      <td>0</td>\n",
       "    </tr>\n",
       "  </tbody>\n",
       "</table>\n",
       "</div>"
      ],
      "text/plain": [
       "       children  days_employed  dob_years       education  education_id  \\\n",
       "17455         1           2351         37  ученая степень             4   \n",
       "17456         1           4529         43         среднее             1   \n",
       "17457         1           2113         38         среднее             1   \n",
       "17458         3           3112         38         среднее             1   \n",
       "17459         2           1984         40         среднее             1   \n",
       "\n",
       "          family_status  family_status_id gender income_type  debt  \\\n",
       "17455         в разводе                 3      M   сотрудник     0   \n",
       "17456  гражданский брак                 1      F   компаньон     0   \n",
       "17457  гражданский брак                 1      M   сотрудник     1   \n",
       "17458   женат / замужем                 0      M   сотрудник     1   \n",
       "17459   женат / замужем                 0      F   сотрудник     0   \n",
       "\n",
       "        total_income                            purpose  dob_years_group  \\\n",
       "17455  115949.039788  покупка коммерческой недвижимости              4.0   \n",
       "17456  224791.862382                  операции с жильем              5.0   \n",
       "17457   89672.561153                       недвижимость              4.0   \n",
       "17458  244093.050500       на покупку своего автомобиля              4.0   \n",
       "17459   82047.418899              на покупку автомобиля              4.0   \n",
       "\n",
       "                                    purpose_lemmatized  purpose_id  \n",
       "17455  [покупка,  , коммерческий,  , недвижимость, \\n]           5  \n",
       "17456                   [операция,  , с,  , жилье, \\n]           1  \n",
       "17457                               [недвижимость, \\n]           1  \n",
       "17458     [на,  , покупка,  , свой,  , автомобиль, \\n]           0  \n",
       "17459              [на,  , покупка,  , автомобиль, \\n]           0  "
      ]
     },
     "execution_count": 33,
     "metadata": {},
     "output_type": "execute_result"
    }
   ],
   "source": [
    "df = df.merge(purpose_lemmas, on=\"purpose\", how=\"left\")\n",
    "df.tail()"
   ]
  },
  {
   "cell_type": "markdown",
   "metadata": {},
   "source": [
    "*2.5.2. Adding categories based on monthly income*\n",
    "\n",
    "Let's define categories first."
   ]
  },
  {
   "cell_type": "code",
   "execution_count": 34,
   "metadata": {},
   "outputs": [],
   "source": [
    "bins = [0, 50000, 100000, 250000, 500000, np.inf]\n",
    "names = ['<50K', '50-100K', '100-250K', '250-500K', '500K']\n",
    "\n",
    "df['total_income_category'] = pd.cut(df['total_income'], bins, labels=names)"
   ]
  },
  {
   "cell_type": "code",
   "execution_count": 35,
   "metadata": {},
   "outputs": [
    {
     "data": {
      "text/plain": [
       "total_income_category\n",
       "<50K          192\n",
       "50-100K      2968\n",
       "100-250K    11753\n",
       "250-500K     2343\n",
       "500K          204\n",
       "Name: debt, dtype: int64"
      ]
     },
     "execution_count": 35,
     "metadata": {},
     "output_type": "execute_result"
    }
   ],
   "source": [
    "# Посмотрим на величину сформированных групп\n",
    "df.groupby([\"total_income_category\"])[\"debt\"].count()"
   ]
  },
  {
   "cell_type": "markdown",
   "metadata": {
    "lang": "en"
   },
   "source": [
    "---------------\n",
    "    \n",
    "**Interim Summary**\n",
    "\n",
    "The data were categorized according to two essential parameters: the purpose of the loan and the borrower's income.\n",
    "\n",
    "*Purpose of the loan.* At the stage of lemmatization, 5 different purposes were identified.\n",
    "\n",
    "*Borrower's income.* Five groups were identified by income level in rubles: <50k, 50k-100k, 100k-250k, 250k-500k, 500k+.\n",
    "The largest group of borrowers turned out to be the middle group with an income of 100k-250k rubles. The number of other categories decreases if we move both upwards and downwards.\n",
    "\n",
    "-------------"
   ]
  },
  {
   "cell_type": "markdown",
   "metadata": {},
   "source": [
    "### 3. Analysis of Factors of Successful Loan Repayment <a name=\"analysis\"></a>"
   ]
  },
  {
   "cell_type": "markdown",
   "metadata": {
    "lang": "en"
   },
   "source": [
    "#### 3.1. Is there a relationship between the presence of children and the loan payment overdues? <a name=\"children\"></a>"
   ]
  },
  {
   "cell_type": "code",
   "execution_count": 36,
   "metadata": {},
   "outputs": [
    {
     "name": "stdout",
     "output_type": "stream",
     "text": [
      "Share of overdue loans among childless borrowers: 8.15%\n",
      "Share of overdue loans among borrowers with children: 9.34%\n"
     ]
    }
   ],
   "source": [
    "print(\"Share of overdue loans among childless borrowers: {:.2%}\".format(df[df[\"children\"] == 0][\"debt\"].mean()))\n",
    "print(\"Share of overdue loans among borrowers with children: {:.2%}\".format(df[df[\"children\"] > 0][\"debt\"].mean()))"
   ]
  },
  {
   "cell_type": "markdown",
   "metadata": {},
   "source": [
    "---\n",
    "The presence of children is associated with a higher proportion of delinquent loans. This is probably due to the high costs associated with the size of the family.\n",
    "\n",
    "---"
   ]
  },
  {
   "cell_type": "markdown",
   "metadata": {
    "lang": "en"
   },
   "source": [
    "#### 3.2. Is there a relationship between marital status and loan repayment overdues? <a name=\"marital\"></a>"
   ]
  },
  {
   "cell_type": "code",
   "execution_count": 37,
   "metadata": {},
   "outputs": [
    {
     "data": {
      "text/html": [
       "<style  type=\"text/css\" >\n",
       "</style><table id=\"T_757fde62_eaf6_11eb_94f5_f83441993b98\" ><thead>    <tr>        <th class=\"blank level0\" ></th>        <th class=\"col_heading level0 col0\" >family_status</th>        <th class=\"col_heading level0 col1\" >share of overdues</th>    </tr></thead><tbody>\n",
       "                <tr>\n",
       "                        <th id=\"T_757fde62_eaf6_11eb_94f5_f83441993b98level0_row0\" class=\"row_heading level0 row0\" >0</th>\n",
       "                        <td id=\"T_757fde62_eaf6_11eb_94f5_f83441993b98row0_col0\" class=\"data row0 col0\" >вдовец / вдова</td>\n",
       "                        <td id=\"T_757fde62_eaf6_11eb_94f5_f83441993b98row0_col1\" class=\"data row0 col1\" >6.20%</td>\n",
       "            </tr>\n",
       "            <tr>\n",
       "                        <th id=\"T_757fde62_eaf6_11eb_94f5_f83441993b98level0_row1\" class=\"row_heading level0 row1\" >1</th>\n",
       "                        <td id=\"T_757fde62_eaf6_11eb_94f5_f83441993b98row1_col0\" class=\"data row1 col0\" >в разводе</td>\n",
       "                        <td id=\"T_757fde62_eaf6_11eb_94f5_f83441993b98row1_col1\" class=\"data row1 col1\" >7.20%</td>\n",
       "            </tr>\n",
       "            <tr>\n",
       "                        <th id=\"T_757fde62_eaf6_11eb_94f5_f83441993b98level0_row2\" class=\"row_heading level0 row2\" >2</th>\n",
       "                        <td id=\"T_757fde62_eaf6_11eb_94f5_f83441993b98row2_col0\" class=\"data row2 col0\" >женат / замужем</td>\n",
       "                        <td id=\"T_757fde62_eaf6_11eb_94f5_f83441993b98row2_col1\" class=\"data row2 col1\" >7.90%</td>\n",
       "            </tr>\n",
       "            <tr>\n",
       "                        <th id=\"T_757fde62_eaf6_11eb_94f5_f83441993b98level0_row3\" class=\"row_heading level0 row3\" >3</th>\n",
       "                        <td id=\"T_757fde62_eaf6_11eb_94f5_f83441993b98row3_col0\" class=\"data row3 col0\" >гражданский брак</td>\n",
       "                        <td id=\"T_757fde62_eaf6_11eb_94f5_f83441993b98row3_col1\" class=\"data row3 col1\" >10.00%</td>\n",
       "            </tr>\n",
       "            <tr>\n",
       "                        <th id=\"T_757fde62_eaf6_11eb_94f5_f83441993b98level0_row4\" class=\"row_heading level0 row4\" >4</th>\n",
       "                        <td id=\"T_757fde62_eaf6_11eb_94f5_f83441993b98row4_col0\" class=\"data row4 col0\" >Не женат / не замужем</td>\n",
       "                        <td id=\"T_757fde62_eaf6_11eb_94f5_f83441993b98row4_col1\" class=\"data row4 col1\" >10.50%</td>\n",
       "            </tr>\n",
       "    </tbody></table>"
      ],
      "text/plain": [
       "<pandas.io.formats.style.Styler at 0x126e1b30c50>"
      ]
     },
     "execution_count": 37,
     "metadata": {},
     "output_type": "execute_result"
    }
   ],
   "source": [
    "family_impact = df.groupby(\"family_status\")[\"debt\"].mean().round(3).sort_values().reset_index()\n",
    "family_impact.rename(columns={'debt':'share of overdues'}).style.format({'share of overdues': '{:.2%}'})"
   ]
  },
  {
   "cell_type": "markdown",
   "metadata": {
    "lang": "en"
   },
   "source": [
    "------------\n",
    "Loans taken by people who are or were previously in a 'formalized' relationship are less likely to be overdue. Conversely, singles or borrowers living in a civil marriage are more prone to overdue the loan payments.\n",
    "\n",
    "----------"
   ]
  },
  {
   "cell_type": "markdown",
   "metadata": {
    "lang": "en"
   },
   "source": [
    "#### 3.3. Is there a relationship between income level and loan repayment overdues? <a name=\"income\"></a>"
   ]
  },
  {
   "cell_type": "code",
   "execution_count": 38,
   "metadata": {},
   "outputs": [
    {
     "data": {
      "image/png": "[encoded data removed]",
      "text/plain": [
       "<Figure size 648x360 with 1 Axes>"
      ]
     },
     "metadata": {},
     "output_type": "display_data"
    }
   ],
   "source": [
    "# summarizing the data on overdues by getting share of overdues by each income category\n",
    "income_impact = df.groupby([\"total_income_category\"])[\"debt\"].mean().reset_index()\n",
    "\n",
    "# converting share to percentage\n",
    "income_impact[\"debt\"] = income_impact[\"debt\"] * 100\n",
    "\n",
    "# styling the graph\n",
    "plt.style.use('ggplot')\n",
    "plt.figure(figsize=(9, 5))\n",
    "plt.plot(list(income_impact[\"total_income_category\"]), list(income_impact[\"debt\"]))\n",
    "plt.title(\"Share of overdue loans by income groups\")\n",
    "plt.xlabel(\"Income levels, rubles per month\")\n",
    "plt.ylabel(\"Share of loans with debt, %\");"
   ]
  },
  {
   "cell_type": "markdown",
   "metadata": {
    "lang": "en"
   },
   "source": [
    "-----------\n",
    "Income level and Overdue loans are inter-connected not linearly to each other. The largest share of overdue loans is among people with a monthly income of 50-100K. The share of overdue loans rises both with an increase and a decrease in income from this level. These stylyzed fact might be explained as following:\n",
    "\n",
    "- Clients with lower income are likely to be more disciplined in planning their expenses.\n",
    "- Clients with income above 100K have more resources to repay the loan (even if they get additional non-anticipated expenses).\n",
    "\n",
    "------------"
   ]
  },
  {
   "cell_type": "markdown",
   "metadata": {
    "lang": "en"
   },
   "source": [
    "#### 3.4. How do different purposes of a loan affect its repayment on time? <a name=\"purposes\"></a>"
   ]
  },
  {
   "cell_type": "markdown",
   "metadata": {},
   "source": [
    "Let's calculate the share of overdue loans among all issued loans by purpose category"
   ]
  },
  {
   "cell_type": "code",
   "execution_count": 39,
   "metadata": {},
   "outputs": [
    {
     "data": {
      "text/html": [
       "<style  type=\"text/css\" >\n",
       "</style><table id=\"T_75c8a3c0_eaf6_11eb_98b1_f83441993b98\" ><thead>    <tr>        <th class=\"blank level0\" ></th>        <th class=\"col_heading level0 col0\" >purpose_standard</th>        <th class=\"col_heading level0 col1\" >debt</th>    </tr></thead><tbody>\n",
       "                <tr>\n",
       "                        <th id=\"T_75c8a3c0_eaf6_11eb_98b1_f83441993b98level0_row0\" class=\"row_heading level0 row0\" >3</th>\n",
       "                        <td id=\"T_75c8a3c0_eaf6_11eb_98b1_f83441993b98row0_col0\" class=\"data row0 col0\" >education</td>\n",
       "                        <td id=\"T_75c8a3c0_eaf6_11eb_98b1_f83441993b98row0_col1\" class=\"data row0 col1\" >9.80%</td>\n",
       "            </tr>\n",
       "            <tr>\n",
       "                        <th id=\"T_75c8a3c0_eaf6_11eb_98b1_f83441993b98level0_row1\" class=\"row_heading level0 row1\" >0</th>\n",
       "                        <td id=\"T_75c8a3c0_eaf6_11eb_98b1_f83441993b98row1_col0\" class=\"data row1 col0\" >buy a car</td>\n",
       "                        <td id=\"T_75c8a3c0_eaf6_11eb_98b1_f83441993b98row1_col1\" class=\"data row1 col1\" >9.50%</td>\n",
       "            </tr>\n",
       "            <tr>\n",
       "                        <th id=\"T_75c8a3c0_eaf6_11eb_98b1_f83441993b98level0_row2\" class=\"row_heading level0 row2\" >5</th>\n",
       "                        <td id=\"T_75c8a3c0_eaf6_11eb_98b1_f83441993b98row2_col0\" class=\"data row2 col0\" >business (purchase of commercial real estate, deal finance)</td>\n",
       "                        <td id=\"T_75c8a3c0_eaf6_11eb_98b1_f83441993b98row2_col1\" class=\"data row2 col1\" >9.20%</td>\n",
       "            </tr>\n",
       "            <tr>\n",
       "                        <th id=\"T_75c8a3c0_eaf6_11eb_98b1_f83441993b98level0_row3\" class=\"row_heading level0 row3\" >4</th>\n",
       "                        <td id=\"T_75c8a3c0_eaf6_11eb_98b1_f83441993b98row3_col0\" class=\"data row3 col0\" >wedding</td>\n",
       "                        <td id=\"T_75c8a3c0_eaf6_11eb_98b1_f83441993b98row3_col1\" class=\"data row3 col1\" >8.30%</td>\n",
       "            </tr>\n",
       "            <tr>\n",
       "                        <th id=\"T_75c8a3c0_eaf6_11eb_98b1_f83441993b98level0_row4\" class=\"row_heading level0 row4\" >1</th>\n",
       "                        <td id=\"T_75c8a3c0_eaf6_11eb_98b1_f83441993b98row4_col0\" class=\"data row4 col0\" >buy/build property</td>\n",
       "                        <td id=\"T_75c8a3c0_eaf6_11eb_98b1_f83441993b98row4_col1\" class=\"data row4 col1\" >7.80%</td>\n",
       "            </tr>\n",
       "            <tr>\n",
       "                        <th id=\"T_75c8a3c0_eaf6_11eb_98b1_f83441993b98level0_row5\" class=\"row_heading level0 row5\" >2</th>\n",
       "                        <td id=\"T_75c8a3c0_eaf6_11eb_98b1_f83441993b98row5_col0\" class=\"data row5 col0\" >repair property</td>\n",
       "                        <td id=\"T_75c8a3c0_eaf6_11eb_98b1_f83441993b98row5_col1\" class=\"data row5 col1\" >6.00%</td>\n",
       "            </tr>\n",
       "    </tbody></table>"
      ],
      "text/plain": [
       "<pandas.io.formats.style.Styler at 0x126e1bb0e10>"
      ]
     },
     "execution_count": 39,
     "metadata": {},
     "output_type": "execute_result"
    }
   ],
   "source": [
    "purpose_impact = df.groupby(\"purpose_id\")[[\"purpose_id\",\"debt\"]].mean().round(3).reset_index(drop=True)\n",
    "purpose_impact = purpose_impact.merge(purpose_dict[[\"purpose_standard\", \"purpose_id\"]], on = \"purpose_id\", how=\"left\")\n",
    "purpose_impact[\"purpose_id\"] = purpose_impact[\"purpose_id\"].astype(\"int\")\n",
    "purpose_impact[[\"purpose_standard\", \"debt\"]].sort_values(\"debt\", ascending=False).style.format({'debt': '{:.2%}'})"
   ]
  },
  {
   "cell_type": "markdown",
   "metadata": {
    "lang": "en"
   },
   "source": [
    "------------\n",
    "**Interim Summary**\n",
    "\n",
    "- *The largest share* of overdue loans were taken for the purpose of obtaining education. This is probably due to the fact that such loans are most often taken by people without a stable source of income, e.i. students.\n",
    "\n",
    "- *The smallest share* is among those who take out a loan for property renovation/repair. Apparently, these are not the largest loan amounts, and also, probably, such borrowers have a stable income (since it would be difficult to assume that people who are not confident in the future would like to improve their living conditions at the expense of borrowed funds).\n",
    "\n",
    "---------------"
   ]
  },
  {
   "cell_type": "markdown",
   "metadata": {},
   "source": [
    "### 4. Final Summary <a name=\"final_summary\"></a>"
   ]
  },
  {
   "cell_type": "markdown",
   "metadata": {
    "lang": "en"
   },
   "source": [
    "**Data Preprocessing**\n",
    "\n",
    "1. The missing values (about a quarter of the rows of the entire dataset had such) were replaced with the corresponding median values grouped around variables without missing values.\n",
    "2. The purposes of obtaining a loan were standardized using lemmatization.\n",
    "3. The duplicates have been removed.\n",
    "4. The following categorizations were added:\n",
    "    - age groups;\n",
    "    - income levels;\n",
    "    - the purpose of obtaining a loan.\n",
    "\n",
    "**Preliminary analysis of the relationship of creditworthiness with various parameters**\n",
    "\n",
    "There is evidence from preliminary analysis that:\n",
    "1. For loans taken by people who are/were married, the share of overdues is lower than that of loans taken by unmarried borrowers\n",
    "2. For loans taken for various purposes, there is evidence of correspondingly varying levels of debt. Highest level of debt is asscoiated with loans issued for education.\n",
    "3. Presence of children is also associated with a slightly higher share of overdued loans.\n",
    "\n",
    "-------------------"
   ]
  },
  {
   "cell_type": "markdown",
   "metadata": {},
   "source": [
    "### Backup <a name=\"backup\"></a>"
   ]
  },
  {
   "cell_type": "markdown",
   "metadata": {},
   "source": [
    "#### Backup 1. Verifying distribution similarity for variables within the dataset with and without missing values <a name=\"backupmissing\"></a>\n",
    "\n",
    "Approach:\n",
    "1. Calculate share of overdue loans by each value of each variable in the overall dataset - `share_full`\n",
    "2. Calculate share of overdue loans by each value of each variable in the dataset with missing values - `share_missing`\n",
    "3. Calculate (absolute) difference between those shares - `abs_difference`"
   ]
  },
  {
   "cell_type": "code",
   "execution_count": 40,
   "metadata": {},
   "outputs": [
    {
     "name": "stdout",
     "output_type": "stream",
     "text": [
      "children\n",
      "     share_full  share_missing  abs_difference\n",
      "-1          NaN          0.001             NaN\n",
      " 0        0.604          0.662           0.058\n",
      " 1        0.259          0.218           0.041\n",
      " 2        0.116          0.094           0.022\n",
      " 3        0.018          0.017           0.001\n",
      " 4        0.002          0.003           0.001\n",
      " 5        0.001          0.000           0.001\n",
      " 20         NaN          0.004             NaN\n",
      "\n",
      "dob_years\n",
      "    share_full  share_missing  abs_difference\n",
      "0          NaN          0.005             NaN\n",
      "19       0.001          0.000           0.001\n",
      "20       0.003          0.002           0.001\n",
      "21       0.006          0.008           0.002\n",
      "22       0.010          0.008           0.002\n",
      "23       0.014          0.017           0.003\n",
      "24       0.015          0.010           0.005\n",
      "25       0.020          0.011           0.009\n",
      "26       0.023          0.016           0.007\n",
      "27       0.028          0.017           0.011\n",
      "28       0.029          0.026           0.003\n",
      "29       0.031          0.023           0.008\n",
      "30       0.031          0.027           0.004\n",
      "31       0.032          0.030           0.002\n",
      "32       0.029          0.017           0.012\n",
      "33       0.033          0.023           0.010\n",
      "34       0.034          0.032           0.002\n",
      "35       0.035          0.029           0.006\n",
      "36       0.031          0.029           0.002\n",
      "37       0.030          0.024           0.006\n",
      "38       0.034          0.025           0.009\n",
      "39       0.032          0.023           0.009\n",
      "40       0.034          0.030           0.004\n",
      "41       0.034          0.027           0.007\n",
      "42       0.033          0.030           0.003\n",
      "43       0.029          0.023           0.006\n",
      "44       0.031          0.020           0.011\n",
      "45       0.027          0.023           0.004\n",
      "46       0.026          0.022           0.004\n",
      "47       0.027          0.027           0.000\n",
      "48       0.029          0.021           0.008\n",
      "49       0.027          0.023           0.004\n",
      "50       0.025          0.023           0.002\n",
      "51       0.021          0.023           0.002\n",
      "52       0.021          0.024           0.003\n",
      "53       0.019          0.020           0.001\n",
      "54       0.018          0.025           0.007\n",
      "55       0.015          0.022           0.007\n",
      "56       0.016          0.025           0.009\n",
      "57       0.012          0.026           0.014\n",
      "58       0.013          0.026           0.013\n",
      "59       0.009          0.016           0.007\n",
      "60       0.006          0.018           0.012\n",
      "61       0.006          0.017           0.011\n",
      "62       0.005          0.017           0.012\n",
      "63       0.003          0.013           0.010\n",
      "64       0.003          0.017           0.014\n",
      "65       0.002          0.009           0.007\n",
      "66       0.001          0.009           0.008\n",
      "67       0.001          0.007           0.006\n",
      "68       0.001          0.004           0.003\n",
      "69       0.000          0.002           0.002\n",
      "70       0.000          0.001           0.001\n",
      "71       0.000          0.002           0.002\n",
      "72       0.000          0.001           0.001\n",
      "73       0.000          0.000           0.000\n",
      "74       0.000            NaN             NaN\n",
      "75       0.000            NaN             NaN\n",
      "\n",
      "education_id\n",
      "   share_full  share_missing  abs_difference\n",
      "0       0.265          0.250           0.015\n",
      "1       0.685          0.708           0.023\n",
      "2       0.040          0.032           0.008\n",
      "3       0.010          0.010           0.000\n",
      "4       0.000            NaN             NaN\n",
      "\n",
      "family_status_id\n",
      "   share_full  share_missing  abs_difference\n",
      "2       0.024          0.044           0.020\n",
      "3       0.055          0.052           0.003\n",
      "4       0.139          0.132           0.007\n",
      "1       0.199          0.203           0.004\n",
      "0       0.583          0.569           0.014\n",
      "\n",
      "gender\n",
      "   share_full  share_missing  abs_difference\n",
      "M       0.373          0.317           0.056\n",
      "F       0.627          0.683           0.056\n",
      "\n",
      "income_type\n",
      "                 share_full  share_missing  abs_difference\n",
      "в декрете             0.000            NaN             NaN\n",
      "госслужащий           0.082          0.068           0.014\n",
      "компаньон             0.288          0.234           0.054\n",
      "пенсионер               NaN          0.190             NaN\n",
      "предприниматель       0.000          0.000           0.000\n",
      "сотрудник             0.629          0.508           0.121\n",
      "студент               0.000            NaN             NaN\n",
      "\n",
      "debt\n",
      "   share_full  share_missing  abs_difference\n",
      "1       0.086          0.078           0.008\n",
      "0       0.914          0.922           0.008\n",
      "\n"
     ]
    }
   ],
   "source": [
    "columns = ['children', 'dob_years', 'education_id', 'family_status_id','gender','income_type','debt']\n",
    "for col in columns:\n",
    "    col_count_missing = pd.DataFrame(df_missing[col].value_counts().sort_values())\n",
    "    col_count_missing[\"share_missing\"] = col_count_missing[col] / df_missing[col].value_counts().sum()\n",
    "\n",
    "    col_count_full = pd.DataFrame(df[col].value_counts().sort_values())\n",
    "    col_count_full[\"share_full\"] = col_count_full[col] / df[col].value_counts().sum()\n",
    "    \n",
    "    merged = col_count_full.merge(col_count_missing, left_index=True, \n",
    "                                       right_index=True, how=\"outer\").round(3)[[\"share_full\", \"share_missing\"]]\n",
    "    merged[\"abs_difference\"] = abs(merged[\"share_full\"] - merged[\"share_missing\"])\n",
    "    \n",
    "    print(col)\n",
    "    print(merged)\n",
    "    print()"
   ]
  },
  {
   "cell_type": "markdown",
   "metadata": {},
   "source": [
    "#### Backup 2. Analyzing data on days of employent  <a name=\"backupvisual\"></a> "
   ]
  },
  {
   "cell_type": "code",
   "execution_count": 41,
   "metadata": {},
   "outputs": [],
   "source": [
    "# converting days into years\n",
    "df_look = pd.read_csv(\"data.csv\")\n",
    "df_look[\"years_employed\"] = df_look[\"days_employed\"] / 365.25"
   ]
  },
  {
   "cell_type": "code",
   "execution_count": 42,
   "metadata": {},
   "outputs": [
    {
     "data": {
      "image/png": "[encoded data removed]",
      "text/plain": [
       "<Figure size 648x360 with 1 Axes>"
      ]
     },
     "metadata": {},
     "output_type": "display_data"
    }
   ],
   "source": [
    "# graph age vs. work experience возраст vs. стаж\n",
    "plt.figure(figsize=(9, 5))\n",
    "plt.scatter(df_look[\"dob_years\"], df_look[\"years_employed\"])\n",
    "plt.title(\"Relationship between age and work experience\")\n",
    "plt.xlabel(\"Work Experience, years\")\n",
    "plt.ylabel(\"Age, years\");"
   ]
  },
  {
   "cell_type": "markdown",
   "metadata": {},
   "source": [
    "Let's look into the lower cloud"
   ]
  },
  {
   "cell_type": "code",
   "execution_count": 43,
   "metadata": {},
   "outputs": [
    {
     "data": {
      "image/png": "[encoded data removed]",
      "text/plain": [
       "<Figure size 648x360 with 1 Axes>"
      ]
     },
     "metadata": {},
     "output_type": "display_data"
    }
   ],
   "source": [
    "plt.figure(figsize=(9, 5))\n",
    "plt.scatter(df_look[\"dob_years\"], df_look[\"years_employed\"])\n",
    "plt.ylim(-55, 0)\n",
    "plt.title(\"Relationship between age and work experience\")\n",
    "plt.xlabel(\"Work Experience, years\")\n",
    "plt.ylabel(\"Age, years\");"
   ]
  },
  {
   "cell_type": "markdown",
   "metadata": {},
   "source": [
    "<div class=\"alert alert-block alert-info\">\n",
    "    \n",
    "We can observe a trend demonstrating that with increasing age the work experience grows (in negative values).\n",
    "If you change the sign before the `work experience` to positive, the picture looks plausible."
   ]
  },
  {
   "cell_type": "markdown",
   "metadata": {},
   "source": [
    "Let's look into the upper cloud"
   ]
  },
  {
   "cell_type": "code",
   "execution_count": 44,
   "metadata": {},
   "outputs": [
    {
     "data": {
      "image/png": "[encoded data removed]",
      "text/plain": [
       "<Figure size 720x360 with 1 Axes>"
      ]
     },
     "metadata": {},
     "output_type": "display_data"
    }
   ],
   "source": [
    "plt.figure(figsize=(10, 5))\n",
    "plt.scatter(df_look[\"dob_years\"], df_look[\"years_employed\"])\n",
    "plt.ylim(850, 1150)\n",
    "plt.title(\"Relationship between age and work experience\")\n",
    "plt.xlabel(\"Work Experience, years\")\n",
    "plt.ylabel(\"Age, years\");"
   ]
  },
  {
   "cell_type": "markdown",
   "metadata": {
    "lang": "en"
   },
   "source": [
    "<div class=\"alert alert-block alert-info\">\n",
    "    \n",
    "The picture looks like some kind of noise.\n",
    "Moreover, over 900 years of work experience doesn't seem like a plausible number."
   ]
  },
  {
   "cell_type": "markdown",
   "metadata": {},
   "source": [
    "End of the notebook"
   ]
  }
 ],
 "metadata": {
  "kernelspec": {
   "display_name": "Python 3",
   "language": "python",
   "name": "python3"
  },
  "language_info": {
   "codemirror_mode": {
    "name": "ipython",
    "version": 3
   },
   "file_extension": ".py",
   "mimetype": "text/x-python",
   "name": "python",
   "nbconvert_exporter": "python",
   "pygments_lexer": "ipython3",
   "version": "3.7.3"
  },
  "nbTranslate": {
   "displayLangs": [],
   "hotkey": "alt-t",
   "langInMainMenu": true,
   "sourceLang": "ru",
   "targetLang": "en",
   "useGoogleTranslate": true
  },
  "toc": {
   "base_numbering": 1,
   "nav_menu": {},
   "number_sections": true,
   "sideBar": true,
   "skip_h1_title": true,
   "title_cell": "Table of Contents",
   "title_sidebar": "Contents",
   "toc_cell": false,
   "toc_position": {},
   "toc_section_display": true,
   "toc_window_display": false
  }
 },
 "nbformat": 4,
 "nbformat_minor": 2
}
