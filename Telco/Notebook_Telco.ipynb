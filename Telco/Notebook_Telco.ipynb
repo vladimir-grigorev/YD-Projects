{
 "cells": [
  {
   "cell_type": "markdown",
   "metadata": {
    "lang": "en"
   },
   "source": [
    "# Project\n",
    "## Determining the better tariff for a telecom company \n",
    "\n",
    "Tasks:\n",
    "- perform an analysis of the customers' behavior on a given sample;\n",
    "- figure out which tariff brings more revenue per user.\n",
    "\n",
    "Available data contains information on 500 users.\n",
    "\n",
    "-----"
   ]
  },
  {
   "cell_type": "markdown",
   "metadata": {},
   "source": [
    "## Executive Summary\n",
    "    \n",
    "1. *Ultra* tariff plan users use various services more than *Smart* tariff plan users.\n",
    "2. *Ultra* users bring 65% more monthly revenue per person on average than *Smart* users.\n",
    "3. No difference was found between the average monthly revenue per user by region (Moscow vs. other localities).\n",
    "    \n",
    "**Recommendation:** focus on promoting the *Ultra* tariff."
   ]
  },
  {
   "cell_type": "markdown",
   "metadata": {},
   "source": [
    "## Table of contents\n",
    "\n",
    "[Description of Tariff Plans](#paragraph0)\n",
    "\n",
    "1. [General Information](#paragraph1)\n",
    "2. [Data Preprocessing](#paragraph2)\n",
    "    1. [Adjusting Data Types, Correcting Mistakes and Working with Missing Values and Duplicates ](#subparagraph1)\n",
    "    2. [Feature Engineering](#subparagraph4)  \n",
    "    \n",
    "3. [Customer Behavior Analysis](#paragraph3)\n",
    "4. [Revenue Analysis](#paragraph4)\n",
    "    1. [Hypothesis about the difference in revenues between the users of different plans](#subparagraph5)\n",
    "    2. [Hypothesis about the difference in revenue per user between Moscow and other localities](#subparagraph6) \n",
    "5. [Summary](#paragraph5)"
   ]
  },
  {
   "cell_type": "markdown",
   "metadata": {},
   "source": [
    "<center> <h3>Description of Tariff Plans</h3> </center> <a name=\"paragraph0\"></a>"
   ]
  },
  {
   "cell_type": "markdown",
   "metadata": {},
   "source": [
    "| Tariff Plan | \"Smart\" | \"Ultra\" |\n",
    "|---|---|---|\n",
    "|Monthly fee | 550 rubles | 1950 rubles|\n",
    "| *Services in the tariff plan* |||\n",
    "| calls | 500 min  | 3000 min  |\n",
    "| messaging |  50 pc | 1000 pc |\n",
    "| internet |  15 GB | 30 GB |\n",
    "| *Fees for services in the tariff plan* |||\n",
    "| for 1 min  | 3 rubles  | 1 ruble  |\n",
    "| for 1 message (sms)  |  3 rubles | 1 ruble  |\n",
    "| for 1 GB of traffic  |  200 rubles | 150 rubles |"
   ]
  },
  {
   "cell_type": "markdown",
   "metadata": {
    "lang": "en"
   },
   "source": [
    "*Minutes and megabytes are rounded up. If the user spoke for only 1 second, the whole minute is counted in the tariff plan.*"
   ]
  },
  {
   "cell_type": "markdown",
   "metadata": {},
   "source": [
    "<center> <h3>1. General Information</h3> </center> <a name=\"paragraph1\"></a>"
   ]
  },
  {
   "cell_type": "markdown",
   "metadata": {
    "lang": "ru"
   },
   "source": [
    "Для анализа предоставлены 5 датасетов, каждый из которых содержит отдельную часть информации:\n",
    "- о звонках\n",
    "- об использовании интернета\n",
    "- о сообщениях\n",
    "- о тарифах\n",
    "- о пользователях\n",
    "\n",
    "Получим общую информацию по каждому из датасетов."
   ]
  },
  {
   "cell_type": "markdown",
   "metadata": {
    "lang": "en"
   },
   "source": [
    "For analysis, 5 datasets are provided. Each of them contains a separate piece of information:\n",
    "- about calls\n",
    "- about using the internet\n",
    "- about messages\n",
    "- about tariffs\n",
    "- about users\n",
    "\n",
    "Let's get general information on each of the datasets."
   ]
  },
  {
   "cell_type": "code",
   "execution_count": 2,
   "metadata": {},
   "outputs": [],
   "source": [
    "import pandas as pd\n",
    "import numpy as np\n",
    "import datetime as dt\n",
    "\n",
    "import seaborn as sns\n",
    "import matplotlib.pyplot as plt\n",
    "\n",
    "from scipy import stats as st \n",
    "import scipy"
   ]
  },
  {
   "cell_type": "code",
   "execution_count": 3,
   "metadata": {},
   "outputs": [
    {
     "data": {
      "text/html": [
       "\n",
       "<style>\n",
       ".output_png {\n",
       "    display: table-cell;\n",
       "    text-align: center;\n",
       "    vertical-align: middle;\n",
       "}\n",
       "</style>\n"
      ],
      "text/plain": [
       "<IPython.core.display.HTML object>"
      ]
     },
     "execution_count": 3,
     "metadata": {},
     "output_type": "execute_result"
    }
   ],
   "source": [
    "# ignoring warnings\n",
    "import warnings\n",
    "warnings.filterwarnings(\"ignore\")\n",
    "\n",
    "# centering outputs\n",
    "from IPython.core.display import HTML\n",
    "HTML(\"\"\"\n",
    "<style>\n",
    ".output_png {\n",
    "    display: table-cell;\n",
    "    text-align: center;\n",
    "    vertical-align: middle;\n",
    "}\n",
    "</style>\n",
    "\"\"\")"
   ]
  },
  {
   "cell_type": "code",
   "execution_count": 4,
   "metadata": {},
   "outputs": [
    {
     "name": "stdout",
     "output_type": "stream",
     "text": [
      "users\n",
      "<class 'pandas.core.frame.DataFrame'>\n",
      "RangeIndex: 500 entries, 0 to 499\n",
      "Data columns (total 8 columns):\n",
      " #   Column      Non-Null Count  Dtype \n",
      "---  ------      --------------  ----- \n",
      " 0   user_id     500 non-null    int64 \n",
      " 1   age         500 non-null    int64 \n",
      " 2   churn_date  38 non-null     object\n",
      " 3   city        500 non-null    object\n",
      " 4   first_name  500 non-null    object\n",
      " 5   last_name   500 non-null    object\n",
      " 6   reg_date    500 non-null    object\n",
      " 7   tariff      500 non-null    object\n",
      "dtypes: int64(2), object(6)\n",
      "memory usage: 31.4+ KB\n",
      "None\n",
      "\n",
      "calls\n",
      "<class 'pandas.core.frame.DataFrame'>\n",
      "RangeIndex: 202607 entries, 0 to 202606\n",
      "Data columns (total 4 columns):\n",
      " #   Column     Non-Null Count   Dtype  \n",
      "---  ------     --------------   -----  \n",
      " 0   id         202607 non-null  object \n",
      " 1   call_date  202607 non-null  object \n",
      " 2   duration   202607 non-null  float64\n",
      " 3   user_id    202607 non-null  int64  \n",
      "dtypes: float64(1), int64(1), object(2)\n",
      "memory usage: 6.2+ MB\n",
      "None\n",
      "\n",
      "internet\n",
      "<class 'pandas.core.frame.DataFrame'>\n",
      "RangeIndex: 149396 entries, 0 to 149395\n",
      "Data columns (total 5 columns):\n",
      " #   Column        Non-Null Count   Dtype  \n",
      "---  ------        --------------   -----  \n",
      " 0   Unnamed: 0    149396 non-null  int64  \n",
      " 1   id            149396 non-null  object \n",
      " 2   mb_used       149396 non-null  float64\n",
      " 3   session_date  149396 non-null  object \n",
      " 4   user_id       149396 non-null  int64  \n",
      "dtypes: float64(1), int64(2), object(2)\n",
      "memory usage: 5.7+ MB\n",
      "None\n",
      "\n",
      "messages\n",
      "<class 'pandas.core.frame.DataFrame'>\n",
      "RangeIndex: 123036 entries, 0 to 123035\n",
      "Data columns (total 3 columns):\n",
      " #   Column        Non-Null Count   Dtype \n",
      "---  ------        --------------   ----- \n",
      " 0   id            123036 non-null  object\n",
      " 1   message_date  123036 non-null  object\n",
      " 2   user_id       123036 non-null  int64 \n",
      "dtypes: int64(1), object(2)\n",
      "memory usage: 2.8+ MB\n",
      "None\n",
      "\n",
      "tariffs\n",
      "<class 'pandas.core.frame.DataFrame'>\n",
      "RangeIndex: 2 entries, 0 to 1\n",
      "Data columns (total 8 columns):\n",
      " #   Column                 Non-Null Count  Dtype \n",
      "---  ------                 --------------  ----- \n",
      " 0   messages_included      2 non-null      int64 \n",
      " 1   mb_per_month_included  2 non-null      int64 \n",
      " 2   minutes_included       2 non-null      int64 \n",
      " 3   rub_monthly_fee        2 non-null      int64 \n",
      " 4   rub_per_gb             2 non-null      int64 \n",
      " 5   rub_per_message        2 non-null      int64 \n",
      " 6   rub_per_minute         2 non-null      int64 \n",
      " 7   tariff_name            2 non-null      object\n",
      "dtypes: int64(7), object(1)\n",
      "memory usage: 256.0+ bytes\n",
      "None\n",
      "\n"
     ]
    }
   ],
   "source": [
    "datasets = {'users':'datasets/users.csv', \n",
    "            'calls':'datasets/calls.csv', \n",
    "            'internet':'datasets/internet.csv', \n",
    "            'messages':'datasets/messages.csv', \n",
    "            'tariffs':'datasets/tariffs.csv'} \n",
    "\n",
    "for dataset in datasets.keys():\n",
    "    print(dataset)\n",
    "    print(pd.read_csv(datasets[dataset]).info())\n",
    "    print()"
   ]
  },
  {
   "cell_type": "markdown",
   "metadata": {},
   "source": [
    "---\n",
    "#### Intermediary Summary\n",
    "\n",
    "At first glance, there are no obvious problems with the data. \n",
    "- No missing values (in NaN format). And where they are present (like in the `churn_date` variable), it seems to be justified.\n",
    "- There is a variable `Unnamed: 0` in the dataset about internet usage. It's not very clear what it means. It looks like a bug (or a duplicated index), but we'll check more thoroughly in the next step.\n",
    "---"
   ]
  },
  {
   "cell_type": "markdown",
   "metadata": {
    "lang": "ru"
   },
   "source": [
    "<center> <h3>2. Data Preprocessing</h3> </center> <a name=\"paragraph2\"></a>"
   ]
  },
  {
   "cell_type": "markdown",
   "metadata": {},
   "source": [
    "#### 2.1. Adjusting Data Types, Correcting Mistakes and Working with Missing Values and Duplicates <a name=\"subparagraph1\"></a>\n",
    "\n",
    "**About approach.** We will perform data preprocessing on each dataset separately (instead of creating one megadataset), because it seems to be more effective due to the potential specificity of each dataset, as well as from the point of view of memory usage and writing code."
   ]
  },
  {
   "cell_type": "markdown",
   "metadata": {
    "lang": "en"
   },
   "source": [
    "*2.1.1. Users*"
   ]
  },
  {
   "cell_type": "code",
   "execution_count": 5,
   "metadata": {
    "scrolled": true
   },
   "outputs": [
    {
     "data": {
      "text/html": [
       "<div>\n",
       "<style scoped>\n",
       "    .dataframe tbody tr th:only-of-type {\n",
       "        vertical-align: middle;\n",
       "    }\n",
       "\n",
       "    .dataframe tbody tr th {\n",
       "        vertical-align: top;\n",
       "    }\n",
       "\n",
       "    .dataframe thead th {\n",
       "        text-align: right;\n",
       "    }\n",
       "</style>\n",
       "<table border=\"1\" class=\"dataframe\">\n",
       "  <thead>\n",
       "    <tr style=\"text-align: right;\">\n",
       "      <th></th>\n",
       "      <th>user_id</th>\n",
       "      <th>age</th>\n",
       "      <th>churn_date</th>\n",
       "      <th>city</th>\n",
       "      <th>first_name</th>\n",
       "      <th>last_name</th>\n",
       "      <th>reg_date</th>\n",
       "      <th>tariff</th>\n",
       "    </tr>\n",
       "  </thead>\n",
       "  <tbody>\n",
       "    <tr>\n",
       "      <th>0</th>\n",
       "      <td>1000</td>\n",
       "      <td>52</td>\n",
       "      <td>NaN</td>\n",
       "      <td>Краснодар</td>\n",
       "      <td>Рафаил</td>\n",
       "      <td>Верещагин</td>\n",
       "      <td>2018-05-25</td>\n",
       "      <td>ultra</td>\n",
       "    </tr>\n",
       "    <tr>\n",
       "      <th>1</th>\n",
       "      <td>1001</td>\n",
       "      <td>41</td>\n",
       "      <td>NaN</td>\n",
       "      <td>Москва</td>\n",
       "      <td>Иван</td>\n",
       "      <td>Ежов</td>\n",
       "      <td>2018-11-01</td>\n",
       "      <td>smart</td>\n",
       "    </tr>\n",
       "    <tr>\n",
       "      <th>2</th>\n",
       "      <td>1002</td>\n",
       "      <td>59</td>\n",
       "      <td>NaN</td>\n",
       "      <td>Стерлитамак</td>\n",
       "      <td>Евгений</td>\n",
       "      <td>Абрамович</td>\n",
       "      <td>2018-06-17</td>\n",
       "      <td>smart</td>\n",
       "    </tr>\n",
       "    <tr>\n",
       "      <th>3</th>\n",
       "      <td>1003</td>\n",
       "      <td>23</td>\n",
       "      <td>NaN</td>\n",
       "      <td>Москва</td>\n",
       "      <td>Белла</td>\n",
       "      <td>Белякова</td>\n",
       "      <td>2018-08-17</td>\n",
       "      <td>ultra</td>\n",
       "    </tr>\n",
       "    <tr>\n",
       "      <th>4</th>\n",
       "      <td>1004</td>\n",
       "      <td>68</td>\n",
       "      <td>NaN</td>\n",
       "      <td>Новокузнецк</td>\n",
       "      <td>Татьяна</td>\n",
       "      <td>Авдеенко</td>\n",
       "      <td>2018-05-14</td>\n",
       "      <td>ultra</td>\n",
       "    </tr>\n",
       "  </tbody>\n",
       "</table>\n",
       "</div>"
      ],
      "text/plain": [
       "   user_id  age churn_date         city first_name  last_name    reg_date  \\\n",
       "0     1000   52        NaN    Краснодар     Рафаил  Верещагин  2018-05-25   \n",
       "1     1001   41        NaN       Москва       Иван       Ежов  2018-11-01   \n",
       "2     1002   59        NaN  Стерлитамак    Евгений  Абрамович  2018-06-17   \n",
       "3     1003   23        NaN       Москва      Белла   Белякова  2018-08-17   \n",
       "4     1004   68        NaN  Новокузнецк    Татьяна   Авдеенко  2018-05-14   \n",
       "\n",
       "  tariff  \n",
       "0  ultra  \n",
       "1  smart  \n",
       "2  smart  \n",
       "3  ultra  \n",
       "4  ultra  "
      ]
     },
     "execution_count": 5,
     "metadata": {},
     "output_type": "execute_result"
    }
   ],
   "source": [
    "users = pd.read_csv('datasets/users.csv')\n",
    "users.head()"
   ]
  },
  {
   "cell_type": "code",
   "execution_count": 6,
   "metadata": {
    "lang": "ru"
   },
   "outputs": [
    {
     "name": "stdout",
     "output_type": "stream",
     "text": [
      "Number of duplicates: 0\n"
     ]
    }
   ],
   "source": [
    "# checking for duplicates\n",
    "print('Number of duplicates:', users.duplicated().sum())"
   ]
  },
  {
   "cell_type": "code",
   "execution_count": 7,
   "metadata": {
    "scrolled": false
   },
   "outputs": [
    {
     "name": "stdout",
     "output_type": "stream",
     "text": [
      "Number of duplicates: 0\n"
     ]
    }
   ],
   "source": [
    "# checking for hidden duplicates. \n",
    "# For example, people who moved from one city to another or changed tariff plans\n",
    "print('Number of duplicates:', users[['first_name', 'last_name']].duplicated().sum())"
   ]
  },
  {
   "cell_type": "code",
   "execution_count": 8,
   "metadata": {
    "scrolled": true
   },
   "outputs": [
    {
     "data": {
      "image/png": "[encoded data removed]",
      "text/plain": [
       "<Figure size 432x288 with 1 Axes>"
      ]
     },
     "metadata": {
      "needs_background": "light"
     },
     "output_type": "display_data"
    }
   ],
   "source": [
    "# Let's see if the churn variable poses a problem\n",
    "# For example, the customers who haven't used the plan for a month can distort the picture\n",
    "\n",
    "users[\"reg_date\"] = pd.to_datetime(users[\"reg_date\"], format='%Y-%m-%d')\n",
    "users[\"churn_date\"] = pd.to_datetime(users[\"churn_date\"], format='%Y-%m-%d')\n",
    "# (users[\"churn_date\"] - users[\"reg_date\"]).dt.days.dropna().hist(bins='auto', density=False);\n",
    "churn_users = (users[\"churn_date\"] - users[\"reg_date\"]).dt.days.dropna()\n",
    "ax = sns.distplot(a=churn_users, bins=[0, 30, 60, 90, 120, 150, 180, 210, 240, 270], color='#7851a9', hist_kws=dict(edgecolor=\"darkmagenta\"))\n",
    "ax.set(xlim=(-30, 300), title='Distribution of days before dropping the tariff plan, \\n distribution Density');\n",
    "ax.set(xlabel='Number of days from becoming a customer and drop-out');\n",
    "ax.set(xticks=range(0, 300, 30));"
   ]
  },
  {
   "cell_type": "code",
   "execution_count": 9,
   "metadata": {},
   "outputs": [
    {
     "name": "stdout",
     "output_type": "stream",
     "text": [
      "Share of customers who dropped in the first 30 days: 0.08\n"
     ]
    }
   ],
   "source": [
    "print(\"Share of customers who dropped in the first 30 days:\", ((churn_users < 30).sum() / len(churn_users)).round(2))"
   ]
  },
  {
   "cell_type": "code",
   "execution_count": 10,
   "metadata": {},
   "outputs": [
    {
     "name": "stdout",
     "output_type": "stream",
     "text": [
      "Unique Values age - 58\n",
      "[18, 19, 20, 21, 22, 23, 24, 25, 26, 27, 28, 29, 30, 31, 32, 33, 34, 35, 36, 37, 38, 39, 40, 41, 42, 43, 44, 45, 46, 47, 48, 49, 50, 51, 52, 53, 54, 55, 56, 57, 58, 59, 60, 61, 62, 63, 64, 65, 66, 67, 68, 69, 70, 71, 72, 73, 74, 75]\n",
      "\n",
      "Unique Values city - 76\n",
      "['Архангельск', 'Астрахань', 'Балашиха', 'Барнаул', 'Белгород', 'Брянск', 'Владивосток', 'Владикавказ', 'Владимир', 'Волгоград', 'Волжский', 'Вологда', 'Воронеж', 'Грозный', 'Екатеринбург', 'Иваново', 'Ижевск', 'Иркутск', 'Казань', 'Калининград', 'Калуга', 'Кемерово', 'Киров', 'Кострома', 'Краснодар', 'Красноярск', 'Курган', 'Курск', 'Липецк', 'Магнитогорск', 'Махачкала', 'Москва', 'Мурманск', 'Набережные Челны', 'Нижневартовск', 'Нижний Новгород', 'Нижний Тагил', 'Новокузнецк', 'Новороссийск', 'Новосибирск', 'Омск', 'Оренбург', 'Орёл', 'Пенза', 'Пермь', 'Петрозаводск', 'Подольск', 'Ростов-на-Дону', 'Рязань', 'Самара', 'Санкт-Петербург', 'Саранск', 'Саратов', 'Севастополь', 'Смоленск', 'Сочи', 'Ставрополь', 'Стерлитамак', 'Сургут', 'Тамбов', 'Тверь', 'Тольятти', 'Томск', 'Тула', 'Тюмень', 'Улан-Удэ', 'Ульяновск', 'Уфа', 'Хабаровск', 'Химки', 'Чебоксары', 'Челябинск', 'Череповец', 'Чита', 'Якутск', 'Ярославль']\n",
      "\n",
      "Unique Values tariff - 2\n",
      "['smart', 'ultra']\n",
      "\n"
     ]
    }
   ],
   "source": [
    "# checking for oddities in city names, fares, and ages\n",
    "cols = ['age', 'city', 'tariff']\n",
    "\n",
    "for col in cols:\n",
    "    print('Unique Values', col, '-', users[col].nunique())\n",
    "    print(sorted(users[col].unique()))\n",
    "    print()"
   ]
  },
  {
   "cell_type": "markdown",
   "metadata": {
    "lang": "en"
   },
   "source": [
    "No errors, typos or strange namings were identified."
   ]
  },
  {
   "cell_type": "markdown",
   "metadata": {
    "lang": "en"
   },
   "source": [
    "*2.1.2. Calls*"
   ]
  },
  {
   "cell_type": "code",
   "execution_count": 11,
   "metadata": {
    "scrolled": true
   },
   "outputs": [
    {
     "data": {
      "text/html": [
       "<div>\n",
       "<style scoped>\n",
       "    .dataframe tbody tr th:only-of-type {\n",
       "        vertical-align: middle;\n",
       "    }\n",
       "\n",
       "    .dataframe tbody tr th {\n",
       "        vertical-align: top;\n",
       "    }\n",
       "\n",
       "    .dataframe thead th {\n",
       "        text-align: right;\n",
       "    }\n",
       "</style>\n",
       "<table border=\"1\" class=\"dataframe\">\n",
       "  <thead>\n",
       "    <tr style=\"text-align: right;\">\n",
       "      <th></th>\n",
       "      <th>id</th>\n",
       "      <th>call_date</th>\n",
       "      <th>duration</th>\n",
       "      <th>user_id</th>\n",
       "    </tr>\n",
       "  </thead>\n",
       "  <tbody>\n",
       "    <tr>\n",
       "      <th>0</th>\n",
       "      <td>1000_0</td>\n",
       "      <td>2018-07-25</td>\n",
       "      <td>0.00</td>\n",
       "      <td>1000</td>\n",
       "    </tr>\n",
       "    <tr>\n",
       "      <th>1</th>\n",
       "      <td>1000_1</td>\n",
       "      <td>2018-08-17</td>\n",
       "      <td>0.00</td>\n",
       "      <td>1000</td>\n",
       "    </tr>\n",
       "    <tr>\n",
       "      <th>2</th>\n",
       "      <td>1000_2</td>\n",
       "      <td>2018-06-11</td>\n",
       "      <td>2.85</td>\n",
       "      <td>1000</td>\n",
       "    </tr>\n",
       "    <tr>\n",
       "      <th>3</th>\n",
       "      <td>1000_3</td>\n",
       "      <td>2018-09-21</td>\n",
       "      <td>13.80</td>\n",
       "      <td>1000</td>\n",
       "    </tr>\n",
       "    <tr>\n",
       "      <th>4</th>\n",
       "      <td>1000_4</td>\n",
       "      <td>2018-12-15</td>\n",
       "      <td>5.18</td>\n",
       "      <td>1000</td>\n",
       "    </tr>\n",
       "  </tbody>\n",
       "</table>\n",
       "</div>"
      ],
      "text/plain": [
       "       id   call_date  duration  user_id\n",
       "0  1000_0  2018-07-25      0.00     1000\n",
       "1  1000_1  2018-08-17      0.00     1000\n",
       "2  1000_2  2018-06-11      2.85     1000\n",
       "3  1000_3  2018-09-21     13.80     1000\n",
       "4  1000_4  2018-12-15      5.18     1000"
      ]
     },
     "execution_count": 11,
     "metadata": {},
     "output_type": "execute_result"
    }
   ],
   "source": [
    "calls = pd.read_csv('datasets/calls.csv')\n",
    "calls.head()"
   ]
  },
  {
   "cell_type": "code",
   "execution_count": 12,
   "metadata": {},
   "outputs": [
    {
     "name": "stdout",
     "output_type": "stream",
     "text": [
      "Number of duplicates: 0\n"
     ]
    }
   ],
   "source": [
    "# checking for duplicates\n",
    "print('Number of duplicates:', calls.duplicated().sum())"
   ]
  },
  {
   "cell_type": "code",
   "execution_count": 13,
   "metadata": {
    "scrolled": true
   },
   "outputs": [
    {
     "name": "stdout",
     "output_type": "stream",
     "text": [
      "Number of missed calls among all calls 39613\n",
      "Share of missed calls among all calls 19.55%\n"
     ]
    }
   ],
   "source": [
    "# At the beginning of the dataset zero values can be found. These are, probably, missed calls. \n",
    "# Let's see how many of these values we have got in the dataset\n",
    "print('Number of missed calls among all calls', (calls['duration'] == 0.00).sum())\n",
    "print('Share of missed calls among all calls {:.2%}'.format(((calls['duration'] == 0.00).sum() / len(calls))))"
   ]
  },
  {
   "cell_type": "markdown",
   "metadata": {},
   "source": [
    "---\n",
    "#### Intermediary Summary\n",
    "\n",
    "There are quite a lot of values - about 20% of all calls.\n",
    "\n",
    "The answer to the question of whether to include them into the analysis depends on the purpose of the analysis. Since the final goal of the analysis is revenue, and missed calls (0 min. 0 sec.) do not represent the subject of pricing, one can safely remove these values.\n",
    "\n",
    "*Comment*: Moreover, for the calculation of average call duration this information would only shift the estimate downwards being completely irrelevant, as the calls themselves would then not take place. Analysis of missed calls may be an interesting task in itself, but again, it does not seem relevant for this analysis.\n",
    "\n",
    "---"
   ]
  },
  {
   "cell_type": "code",
   "execution_count": 14,
   "metadata": {},
   "outputs": [],
   "source": [
    "# removing missed calls\n",
    "calls = calls[calls['duration'] != 0.00]"
   ]
  },
  {
   "cell_type": "code",
   "execution_count": 15,
   "metadata": {},
   "outputs": [
    {
     "data": {
      "image/png": "[encoded data removed]",
      "text/plain": [
       "<Figure size 432x288 with 1 Axes>"
      ]
     },
     "metadata": {
      "needs_background": "light"
     },
     "output_type": "display_data"
    }
   ],
   "source": [
    "# checking for outliers \n",
    "ax = sns.boxplot(x=calls['duration'], palette=\"Blues\")\n",
    "ax.set(title='Boxplot: call duration', xlabel='minutes');"
   ]
  },
  {
   "cell_type": "code",
   "execution_count": 16,
   "metadata": {},
   "outputs": [],
   "source": [
    "# let's calculate the upper bound above which the values will be claasified as outliers\n",
    "# (one and a half interquartile ranges from the 3rd quartile)\n",
    "outlier_cutpoint = calls['duration'].quantile(0.75) + 1.5 * scipy.stats.iqr(calls[calls['duration'] != 0.00]['duration'].dropna())"
   ]
  },
  {
   "cell_type": "code",
   "execution_count": 17,
   "metadata": {},
   "outputs": [
    {
     "name": "stdout",
     "output_type": "stream",
     "text": [
      "Share of outliers: 0.8%\n"
     ]
    }
   ],
   "source": [
    "# calculating share of outliers among all observations\n",
    "outlier_share = calls[calls['duration'] >= outlier_cutpoint]['id'].count() / len(calls)\n",
    "print('Share of outliers: {:.1%}'.format(outlier_share))"
   ]
  },
  {
   "cell_type": "markdown",
   "metadata": {},
   "source": [
    "---\n",
    "#### Intermediary Summary\n",
    "\n",
    "It seems feasible to remove the outliers, since there are only few of them. But due to the fact that we are dealing with two asymmetric tariff plans, it is better not to do this as users of each tariff plan have different conditions and users of the more expensive plan may, for example, be more prone to long calls (maybe that's why they pay for this tariff plan).\n",
    "\n",
    "---"
   ]
  },
  {
   "cell_type": "markdown",
   "metadata": {
    "lang": "en"
   },
   "source": [
    "*2.1.3. Messages*"
   ]
  },
  {
   "cell_type": "code",
   "execution_count": 18,
   "metadata": {},
   "outputs": [
    {
     "data": {
      "text/html": [
       "<div>\n",
       "<style scoped>\n",
       "    .dataframe tbody tr th:only-of-type {\n",
       "        vertical-align: middle;\n",
       "    }\n",
       "\n",
       "    .dataframe tbody tr th {\n",
       "        vertical-align: top;\n",
       "    }\n",
       "\n",
       "    .dataframe thead th {\n",
       "        text-align: right;\n",
       "    }\n",
       "</style>\n",
       "<table border=\"1\" class=\"dataframe\">\n",
       "  <thead>\n",
       "    <tr style=\"text-align: right;\">\n",
       "      <th></th>\n",
       "      <th>id</th>\n",
       "      <th>message_date</th>\n",
       "      <th>user_id</th>\n",
       "    </tr>\n",
       "  </thead>\n",
       "  <tbody>\n",
       "    <tr>\n",
       "      <th>0</th>\n",
       "      <td>1000_0</td>\n",
       "      <td>2018-06-27</td>\n",
       "      <td>1000</td>\n",
       "    </tr>\n",
       "    <tr>\n",
       "      <th>1</th>\n",
       "      <td>1000_1</td>\n",
       "      <td>2018-10-08</td>\n",
       "      <td>1000</td>\n",
       "    </tr>\n",
       "    <tr>\n",
       "      <th>2</th>\n",
       "      <td>1000_2</td>\n",
       "      <td>2018-08-04</td>\n",
       "      <td>1000</td>\n",
       "    </tr>\n",
       "    <tr>\n",
       "      <th>3</th>\n",
       "      <td>1000_3</td>\n",
       "      <td>2018-06-16</td>\n",
       "      <td>1000</td>\n",
       "    </tr>\n",
       "    <tr>\n",
       "      <th>4</th>\n",
       "      <td>1000_4</td>\n",
       "      <td>2018-12-05</td>\n",
       "      <td>1000</td>\n",
       "    </tr>\n",
       "  </tbody>\n",
       "</table>\n",
       "</div>"
      ],
      "text/plain": [
       "       id message_date  user_id\n",
       "0  1000_0   2018-06-27     1000\n",
       "1  1000_1   2018-10-08     1000\n",
       "2  1000_2   2018-08-04     1000\n",
       "3  1000_3   2018-06-16     1000\n",
       "4  1000_4   2018-12-05     1000"
      ]
     },
     "execution_count": 18,
     "metadata": {},
     "output_type": "execute_result"
    }
   ],
   "source": [
    "messages = pd.read_csv('datasets/messages.csv')\n",
    "messages.head()"
   ]
  },
  {
   "cell_type": "code",
   "execution_count": 19,
   "metadata": {},
   "outputs": [
    {
     "name": "stdout",
     "output_type": "stream",
     "text": [
      "Number of duplicates: 0\n"
     ]
    }
   ],
   "source": [
    "# checking for duplicates\n",
    "print('Number of duplicates:', calls.duplicated().sum())"
   ]
  },
  {
   "cell_type": "markdown",
   "metadata": {
    "lang": "en"
   },
   "source": [
    "*2.1.4. Internet Traffic*"
   ]
  },
  {
   "cell_type": "code",
   "execution_count": 20,
   "metadata": {},
   "outputs": [
    {
     "data": {
      "text/html": [
       "<div>\n",
       "<style scoped>\n",
       "    .dataframe tbody tr th:only-of-type {\n",
       "        vertical-align: middle;\n",
       "    }\n",
       "\n",
       "    .dataframe tbody tr th {\n",
       "        vertical-align: top;\n",
       "    }\n",
       "\n",
       "    .dataframe thead th {\n",
       "        text-align: right;\n",
       "    }\n",
       "</style>\n",
       "<table border=\"1\" class=\"dataframe\">\n",
       "  <thead>\n",
       "    <tr style=\"text-align: right;\">\n",
       "      <th></th>\n",
       "      <th>Unnamed: 0</th>\n",
       "      <th>id</th>\n",
       "      <th>mb_used</th>\n",
       "      <th>session_date</th>\n",
       "      <th>user_id</th>\n",
       "    </tr>\n",
       "  </thead>\n",
       "  <tbody>\n",
       "    <tr>\n",
       "      <th>0</th>\n",
       "      <td>0</td>\n",
       "      <td>1000_0</td>\n",
       "      <td>112.95</td>\n",
       "      <td>2018-11-25</td>\n",
       "      <td>1000</td>\n",
       "    </tr>\n",
       "    <tr>\n",
       "      <th>1</th>\n",
       "      <td>1</td>\n",
       "      <td>1000_1</td>\n",
       "      <td>1052.81</td>\n",
       "      <td>2018-09-07</td>\n",
       "      <td>1000</td>\n",
       "    </tr>\n",
       "    <tr>\n",
       "      <th>2</th>\n",
       "      <td>2</td>\n",
       "      <td>1000_2</td>\n",
       "      <td>1197.26</td>\n",
       "      <td>2018-06-25</td>\n",
       "      <td>1000</td>\n",
       "    </tr>\n",
       "    <tr>\n",
       "      <th>3</th>\n",
       "      <td>3</td>\n",
       "      <td>1000_3</td>\n",
       "      <td>550.27</td>\n",
       "      <td>2018-08-22</td>\n",
       "      <td>1000</td>\n",
       "    </tr>\n",
       "    <tr>\n",
       "      <th>4</th>\n",
       "      <td>4</td>\n",
       "      <td>1000_4</td>\n",
       "      <td>302.56</td>\n",
       "      <td>2018-09-24</td>\n",
       "      <td>1000</td>\n",
       "    </tr>\n",
       "  </tbody>\n",
       "</table>\n",
       "</div>"
      ],
      "text/plain": [
       "   Unnamed: 0      id  mb_used session_date  user_id\n",
       "0           0  1000_0   112.95   2018-11-25     1000\n",
       "1           1  1000_1  1052.81   2018-09-07     1000\n",
       "2           2  1000_2  1197.26   2018-06-25     1000\n",
       "3           3  1000_3   550.27   2018-08-22     1000\n",
       "4           4  1000_4   302.56   2018-09-24     1000"
      ]
     },
     "execution_count": 20,
     "metadata": {},
     "output_type": "execute_result"
    }
   ],
   "source": [
    "internet = pd.read_csv('datasets/internet.csv')\n",
    "internet.head()"
   ]
  },
  {
   "cell_type": "code",
   "execution_count": 21,
   "metadata": {},
   "outputs": [],
   "source": [
    "# variable \"Unnamed: 0\" looks like a duplicate of the index. Let's get rid of it\n",
    "internet = internet[['id', 'mb_used', 'session_date', 'user_id']]"
   ]
  },
  {
   "cell_type": "code",
   "execution_count": 22,
   "metadata": {},
   "outputs": [
    {
     "name": "stdout",
     "output_type": "stream",
     "text": [
      "Number of duplicates: 0\n"
     ]
    }
   ],
   "source": [
    "# checking for duplicates\n",
    "print('Number of duplicates:', calls.duplicated().sum())"
   ]
  },
  {
   "cell_type": "code",
   "execution_count": 23,
   "metadata": {},
   "outputs": [
    {
     "name": "stdout",
     "output_type": "stream",
     "text": [
      "Number of sessions with zero traffic: 19598\n",
      "Share of sessions with zero traffic: 13.12%\n"
     ]
    }
   ],
   "source": [
    "# There might be zero values in the dataset.\n",
    "# Let's see how many of these values are in the dataset\n",
    "print('Number of sessions with zero traffic:', (internet['mb_used'] == 0.00).sum())\n",
    "print('Share of sessions with zero traffic: {:.2%}'.format(((internet['mb_used'] == 0.00).sum() / len(internet))))"
   ]
  },
  {
   "cell_type": "markdown",
   "metadata": {},
   "source": [
    "Quite a few sessions with zero traffic. Let's do the same with this data as we did with the missed calls, e.i. get rid of them."
   ]
  },
  {
   "cell_type": "code",
   "execution_count": 24,
   "metadata": {},
   "outputs": [],
   "source": [
    "internet = internet[internet['mb_used'] != 0.00]"
   ]
  },
  {
   "cell_type": "code",
   "execution_count": 25,
   "metadata": {},
   "outputs": [
    {
     "data": {
      "image/png": "[encoded data removed]",
      "text/plain": [
       "<Figure size 432x288 with 1 Axes>"
      ]
     },
     "metadata": {
      "needs_background": "light"
     },
     "output_type": "display_data"
    }
   ],
   "source": [
    "# checking for outliers \n",
    "ax = sns.boxplot(x=internet['mb_used'], palette=\"Blues\")\n",
    "ax.set(title='Boxplot: session traffic');"
   ]
  },
  {
   "cell_type": "code",
   "execution_count": 26,
   "metadata": {},
   "outputs": [],
   "source": [
    "# let's calculate the upper bound above which the values will be claasified as outliers\n",
    "# (one and a half interquartile ranges from the 3rd quartile)\n",
    "outlier_cutpoint = internet[internet['mb_used'] != 0.00]['mb_used'].quantile(0.75) + 1.5 * scipy.stats.iqr(internet[internet['mb_used'] != 0.00]['mb_used'].dropna())"
   ]
  },
  {
   "cell_type": "code",
   "execution_count": 27,
   "metadata": {},
   "outputs": [
    {
     "name": "stdout",
     "output_type": "stream",
     "text": [
      "Share of outliers: 0.7%\n"
     ]
    }
   ],
   "source": [
    "# Calculating share of outliers among all observations\n",
    "outlier_share = internet[internet['mb_used'] != 0.00][internet['mb_used'] >= outlier_cutpoint]['id'].count() / len(internet[internet['mb_used'] != 0.00])\n",
    "print('Share of outliers: {:.1%}'.format(outlier_share))"
   ]
  },
  {
   "cell_type": "markdown",
   "metadata": {
    "lang": "en"
   },
   "source": [
    "We will proceed in the same way as with atypically long calls - we will leave them because of the asymmetricity of tariffs."
   ]
  },
  {
   "cell_type": "markdown",
   "metadata": {
    "lang": "en"
   },
   "source": [
    "*2.1.5. Tariff Plans*"
   ]
  },
  {
   "cell_type": "code",
   "execution_count": 28,
   "metadata": {
    "scrolled": true
   },
   "outputs": [
    {
     "data": {
      "text/html": [
       "<div>\n",
       "<style scoped>\n",
       "    .dataframe tbody tr th:only-of-type {\n",
       "        vertical-align: middle;\n",
       "    }\n",
       "\n",
       "    .dataframe tbody tr th {\n",
       "        vertical-align: top;\n",
       "    }\n",
       "\n",
       "    .dataframe thead th {\n",
       "        text-align: right;\n",
       "    }\n",
       "</style>\n",
       "<table border=\"1\" class=\"dataframe\">\n",
       "  <thead>\n",
       "    <tr style=\"text-align: right;\">\n",
       "      <th></th>\n",
       "      <th>messages_included</th>\n",
       "      <th>mb_per_month_included</th>\n",
       "      <th>minutes_included</th>\n",
       "      <th>rub_monthly_fee</th>\n",
       "      <th>rub_per_gb</th>\n",
       "      <th>rub_per_message</th>\n",
       "      <th>rub_per_minute</th>\n",
       "    </tr>\n",
       "    <tr>\n",
       "      <th>tariff_name</th>\n",
       "      <th></th>\n",
       "      <th></th>\n",
       "      <th></th>\n",
       "      <th></th>\n",
       "      <th></th>\n",
       "      <th></th>\n",
       "      <th></th>\n",
       "    </tr>\n",
       "  </thead>\n",
       "  <tbody>\n",
       "    <tr>\n",
       "      <th>smart</th>\n",
       "      <td>50</td>\n",
       "      <td>15360</td>\n",
       "      <td>500</td>\n",
       "      <td>550</td>\n",
       "      <td>200</td>\n",
       "      <td>3</td>\n",
       "      <td>3</td>\n",
       "    </tr>\n",
       "    <tr>\n",
       "      <th>ultra</th>\n",
       "      <td>1000</td>\n",
       "      <td>30720</td>\n",
       "      <td>3000</td>\n",
       "      <td>1950</td>\n",
       "      <td>150</td>\n",
       "      <td>1</td>\n",
       "      <td>1</td>\n",
       "    </tr>\n",
       "  </tbody>\n",
       "</table>\n",
       "</div>"
      ],
      "text/plain": [
       "             messages_included  mb_per_month_included  minutes_included  \\\n",
       "tariff_name                                                               \n",
       "smart                       50                  15360               500   \n",
       "ultra                     1000                  30720              3000   \n",
       "\n",
       "             rub_monthly_fee  rub_per_gb  rub_per_message  rub_per_minute  \n",
       "tariff_name                                                                \n",
       "smart                    550         200                3               3  \n",
       "ultra                   1950         150                1               1  "
      ]
     },
     "execution_count": 28,
     "metadata": {},
     "output_type": "execute_result"
    }
   ],
   "source": [
    "tariffs = pd.read_csv('datasets/tariffs.csv')\n",
    "tariffs = tariffs.set_index('tariff_name')\n",
    "tariffs"
   ]
  },
  {
   "cell_type": "code",
   "execution_count": 29,
   "metadata": {},
   "outputs": [
    {
     "data": {
      "text/html": [
       "<div>\n",
       "<style scoped>\n",
       "    .dataframe tbody tr th:only-of-type {\n",
       "        vertical-align: middle;\n",
       "    }\n",
       "\n",
       "    .dataframe tbody tr th {\n",
       "        vertical-align: top;\n",
       "    }\n",
       "\n",
       "    .dataframe thead th {\n",
       "        text-align: right;\n",
       "    }\n",
       "</style>\n",
       "<table border=\"1\" class=\"dataframe\">\n",
       "  <thead>\n",
       "    <tr style=\"text-align: right;\">\n",
       "      <th></th>\n",
       "      <th>messages_included</th>\n",
       "      <th>mb_per_month_included</th>\n",
       "      <th>minutes_included</th>\n",
       "      <th>rub_monthly_fee</th>\n",
       "      <th>rub_per_gb</th>\n",
       "      <th>rub_per_message</th>\n",
       "      <th>rub_per_minute</th>\n",
       "      <th>rub_per_mb</th>\n",
       "    </tr>\n",
       "    <tr>\n",
       "      <th>tariff_name</th>\n",
       "      <th></th>\n",
       "      <th></th>\n",
       "      <th></th>\n",
       "      <th></th>\n",
       "      <th></th>\n",
       "      <th></th>\n",
       "      <th></th>\n",
       "      <th></th>\n",
       "    </tr>\n",
       "  </thead>\n",
       "  <tbody>\n",
       "    <tr>\n",
       "      <th>smart</th>\n",
       "      <td>50</td>\n",
       "      <td>15360</td>\n",
       "      <td>500</td>\n",
       "      <td>550</td>\n",
       "      <td>200</td>\n",
       "      <td>3</td>\n",
       "      <td>3</td>\n",
       "      <td>0.20</td>\n",
       "    </tr>\n",
       "    <tr>\n",
       "      <th>ultra</th>\n",
       "      <td>1000</td>\n",
       "      <td>30720</td>\n",
       "      <td>3000</td>\n",
       "      <td>1950</td>\n",
       "      <td>150</td>\n",
       "      <td>1</td>\n",
       "      <td>1</td>\n",
       "      <td>0.15</td>\n",
       "    </tr>\n",
       "  </tbody>\n",
       "</table>\n",
       "</div>"
      ],
      "text/plain": [
       "             messages_included  mb_per_month_included  minutes_included  \\\n",
       "tariff_name                                                               \n",
       "smart                       50                  15360               500   \n",
       "ultra                     1000                  30720              3000   \n",
       "\n",
       "             rub_monthly_fee  rub_per_gb  rub_per_message  rub_per_minute  \\\n",
       "tariff_name                                                                 \n",
       "smart                    550         200                3               3   \n",
       "ultra                   1950         150                1               1   \n",
       "\n",
       "             rub_per_mb  \n",
       "tariff_name              \n",
       "smart              0.20  \n",
       "ultra              0.15  "
      ]
     },
     "execution_count": 29,
     "metadata": {},
     "output_type": "execute_result"
    }
   ],
   "source": [
    "# converting the price per gb to price per mb\n",
    "tariffs['rub_per_mb'] = (tariffs['rub_per_gb'] / 1024).round(2)\n",
    "\n",
    "tariffs"
   ]
  },
  {
   "cell_type": "markdown",
   "metadata": {},
   "source": [
    "#### 2.2. Feature Engineering <a name=\"subparagraph4\"></a>"
   ]
  },
  {
   "cell_type": "markdown",
   "metadata": {},
   "source": [
    "We will calculate the following statistics for each user:\n",
    "\n",
    "1. Number of calls made and minutes spent in each month;\n",
    "- Number of messages sent in each month;\n",
    "- Amount of Internet traffic consumed in each month;\n",
    "- Monthly revenue per user.\n",
    "\n",
    "The data will be collected in the megadataset `users_stats`. For convenience and in accordance with the principles of personal data protection, only the depersonalized `user_id` will be used as a user identifier.\n",
    "\n",
    "**Preparatory Stage I.** To accurately calculate revenue, the first three variables (calls, messages, and internet) are not enough, as these metrics do not cover all sources of revenue. Monthly Plan Fee stays uncovered. There might probably be months when, for whatever reason, the customer did not use any services or the Internet. If that's the case, we could miss these months in the analysis. To prevent this, let's add active months for each user to the dataset `users_stats` (starting from when the client signed up and ending at the end of the year or when the client terminated the contract)."
   ]
  },
  {
   "cell_type": "code",
   "execution_count": 30,
   "metadata": {
    "scrolled": false
   },
   "outputs": [],
   "source": [
    "users_data = users[['user_id', 'city', 'tariff', 'reg_date', 'churn_date']]\n",
    "\n",
    "# adding month of registration\n",
    "users_data['reg_month'] = pd.to_datetime(users_data['reg_date'], format='%Y-%m-%d').dt.month\n",
    "\n",
    "# adding month of drop-out (if present)\n",
    "users_data['churn_month'] = pd.to_datetime(users_data['churn_date'], format='%Y-%m-%d').dt.month"
   ]
  },
  {
   "cell_type": "code",
   "execution_count": 31,
   "metadata": {},
   "outputs": [],
   "source": [
    "# adding active month column to each user\n",
    "all_months = pd.DataFrame([x for x in range(1, 13)]).rename(columns={0:'month'})\n",
    "all_months['key'] = '1'\n",
    "users_data['key'] = '1'\n",
    "users_data = all_months.merge(users_data, on='key')\n",
    "\n",
    "# getting rid of months before registration date\n",
    "users_data = users_data[(users_data['month'] >= users_data['reg_month'])]\n",
    "\n",
    "# getting rid of months after drop-out date\n",
    "users_data['churn_month'] = users_data['churn_month'].fillna(13)\n",
    "users_data = users_data[(users_data['month'] <= users_data['churn_month'])]\n",
    "users_data['churn_month'] = users_data['churn_month'].where(users_data['churn_month'] != 13, np.nan)"
   ]
  },
  {
   "cell_type": "code",
   "execution_count": 32,
   "metadata": {},
   "outputs": [
    {
     "data": {
      "text/html": [
       "<div>\n",
       "<style scoped>\n",
       "    .dataframe tbody tr th:only-of-type {\n",
       "        vertical-align: middle;\n",
       "    }\n",
       "\n",
       "    .dataframe tbody tr th {\n",
       "        vertical-align: top;\n",
       "    }\n",
       "\n",
       "    .dataframe thead th {\n",
       "        text-align: right;\n",
       "    }\n",
       "</style>\n",
       "<table border=\"1\" class=\"dataframe\">\n",
       "  <thead>\n",
       "    <tr style=\"text-align: right;\">\n",
       "      <th></th>\n",
       "      <th>month</th>\n",
       "      <th>key</th>\n",
       "      <th>user_id</th>\n",
       "      <th>city</th>\n",
       "      <th>tariff</th>\n",
       "      <th>reg_date</th>\n",
       "      <th>churn_date</th>\n",
       "      <th>reg_month</th>\n",
       "      <th>churn_month</th>\n",
       "    </tr>\n",
       "  </thead>\n",
       "  <tbody>\n",
       "    <tr>\n",
       "      <th>4828</th>\n",
       "      <td>10</td>\n",
       "      <td>1</td>\n",
       "      <td>1328</td>\n",
       "      <td>Мурманск</td>\n",
       "      <td>ultra</td>\n",
       "      <td>2018-10-16</td>\n",
       "      <td>NaT</td>\n",
       "      <td>10</td>\n",
       "      <td>NaN</td>\n",
       "    </tr>\n",
       "    <tr>\n",
       "      <th>5328</th>\n",
       "      <td>11</td>\n",
       "      <td>1</td>\n",
       "      <td>1328</td>\n",
       "      <td>Мурманск</td>\n",
       "      <td>ultra</td>\n",
       "      <td>2018-10-16</td>\n",
       "      <td>NaT</td>\n",
       "      <td>10</td>\n",
       "      <td>NaN</td>\n",
       "    </tr>\n",
       "    <tr>\n",
       "      <th>5828</th>\n",
       "      <td>12</td>\n",
       "      <td>1</td>\n",
       "      <td>1328</td>\n",
       "      <td>Мурманск</td>\n",
       "      <td>ultra</td>\n",
       "      <td>2018-10-16</td>\n",
       "      <td>NaT</td>\n",
       "      <td>10</td>\n",
       "      <td>NaN</td>\n",
       "    </tr>\n",
       "  </tbody>\n",
       "</table>\n",
       "</div>"
      ],
      "text/plain": [
       "      month key  user_id      city tariff   reg_date churn_date  reg_month  \\\n",
       "4828     10   1     1328  Мурманск  ultra 2018-10-16        NaT         10   \n",
       "5328     11   1     1328  Мурманск  ultra 2018-10-16        NaT         10   \n",
       "5828     12   1     1328  Мурманск  ultra 2018-10-16        NaT         10   \n",
       "\n",
       "      churn_month  \n",
       "4828          NaN  \n",
       "5328          NaN  \n",
       "5828          NaN  "
      ]
     },
     "execution_count": 32,
     "metadata": {},
     "output_type": "execute_result"
    }
   ],
   "source": [
    "users_data[users_data['user_id'] == 1328]"
   ]
  },
  {
   "cell_type": "markdown",
   "metadata": {
    "lang": "en"
   },
   "source": [
    "**Preparatory Stage II.** Since we are interested in monthly data, we can immediately and centrally extract the performance months for each observation from the available timestamps/datetime data in each dataset:"
   ]
  },
  {
   "cell_type": "code",
   "execution_count": 33,
   "metadata": {},
   "outputs": [
    {
     "data": {
      "text/html": [
       "<div>\n",
       "<style scoped>\n",
       "    .dataframe tbody tr th:only-of-type {\n",
       "        vertical-align: middle;\n",
       "    }\n",
       "\n",
       "    .dataframe tbody tr th {\n",
       "        vertical-align: top;\n",
       "    }\n",
       "\n",
       "    .dataframe thead th {\n",
       "        text-align: right;\n",
       "    }\n",
       "</style>\n",
       "<table border=\"1\" class=\"dataframe\">\n",
       "  <thead>\n",
       "    <tr style=\"text-align: right;\">\n",
       "      <th></th>\n",
       "      <th>id</th>\n",
       "      <th>call_date</th>\n",
       "      <th>duration</th>\n",
       "      <th>user_id</th>\n",
       "      <th>month</th>\n",
       "    </tr>\n",
       "  </thead>\n",
       "  <tbody>\n",
       "    <tr>\n",
       "      <th>2</th>\n",
       "      <td>1000_2</td>\n",
       "      <td>2018-06-11</td>\n",
       "      <td>2.85</td>\n",
       "      <td>1000</td>\n",
       "      <td>6</td>\n",
       "    </tr>\n",
       "    <tr>\n",
       "      <th>3</th>\n",
       "      <td>1000_3</td>\n",
       "      <td>2018-09-21</td>\n",
       "      <td>13.80</td>\n",
       "      <td>1000</td>\n",
       "      <td>9</td>\n",
       "    </tr>\n",
       "    <tr>\n",
       "      <th>4</th>\n",
       "      <td>1000_4</td>\n",
       "      <td>2018-12-15</td>\n",
       "      <td>5.18</td>\n",
       "      <td>1000</td>\n",
       "      <td>12</td>\n",
       "    </tr>\n",
       "    <tr>\n",
       "      <th>7</th>\n",
       "      <td>1000_7</td>\n",
       "      <td>2018-08-22</td>\n",
       "      <td>18.31</td>\n",
       "      <td>1000</td>\n",
       "      <td>8</td>\n",
       "    </tr>\n",
       "    <tr>\n",
       "      <th>8</th>\n",
       "      <td>1000_8</td>\n",
       "      <td>2018-09-15</td>\n",
       "      <td>18.44</td>\n",
       "      <td>1000</td>\n",
       "      <td>9</td>\n",
       "    </tr>\n",
       "  </tbody>\n",
       "</table>\n",
       "</div>"
      ],
      "text/plain": [
       "       id   call_date  duration  user_id  month\n",
       "2  1000_2  2018-06-11      2.85     1000      6\n",
       "3  1000_3  2018-09-21     13.80     1000      9\n",
       "4  1000_4  2018-12-15      5.18     1000     12\n",
       "7  1000_7  2018-08-22     18.31     1000      8\n",
       "8  1000_8  2018-09-15     18.44     1000      9"
      ]
     },
     "execution_count": 33,
     "metadata": {},
     "output_type": "execute_result"
    }
   ],
   "source": [
    "datasets = [calls, messages, internet]\n",
    "for dataset in datasets:\n",
    "    cols = dataset.columns\n",
    "    for col in cols:\n",
    "        if 'date' in col:\n",
    "            dataset['month'] = pd.to_datetime(dataset[col], format='%Y-%m-%d').dt.month\n",
    "            \n",
    "# checking results\n",
    "calls.head()"
   ]
  },
  {
   "cell_type": "markdown",
   "metadata": {},
   "source": [
    "---------------------------------\n",
    "**Feature Extraction**\n",
    "\n",
    "Extracting number of calls per user-month"
   ]
  },
  {
   "cell_type": "code",
   "execution_count": 34,
   "metadata": {},
   "outputs": [],
   "source": [
    "# Number of calls (without missed calls) \n",
    "calls_number = calls.pivot_table(index=['user_id', 'month'], values=['id'], aggfunc='count')\n",
    "calls_number = calls_number.rename(columns={'id':'total_calls'})"
   ]
  },
  {
   "cell_type": "markdown",
   "metadata": {},
   "source": [
    "Extracting number of minutes per user-month"
   ]
  },
  {
   "cell_type": "code",
   "execution_count": 35,
   "metadata": {},
   "outputs": [],
   "source": [
    "# number of minutes spent by month\n",
    "# first, we convert the duration of the calls into minutes, which is the basis for the revenue calculation \n",
    "# this means we, first, round them up and then add them for up the user in a given month\n",
    "calls['total_minutes'] = calls['duration'].apply(np.ceil)\n",
    "calls_duration = calls.pivot_table(index=['user_id', 'month'], values=['total_minutes'], aggfunc='sum').reset_index()"
   ]
  },
  {
   "cell_type": "markdown",
   "metadata": {},
   "source": [
    "Merging data on calls and minutes"
   ]
  },
  {
   "cell_type": "code",
   "execution_count": 36,
   "metadata": {},
   "outputs": [],
   "source": [
    "calls_data = calls_number.merge(calls_duration, on=['user_id', 'month'], how='outer')"
   ]
  },
  {
   "cell_type": "markdown",
   "metadata": {},
   "source": [
    "Extracting number of messaged per user-month"
   ]
  },
  {
   "cell_type": "code",
   "execution_count": 37,
   "metadata": {},
   "outputs": [],
   "source": [
    "# number of messages sent by month\n",
    "messages_data = messages.pivot_table(index=['user_id', 'month'], values=['id'], aggfunc='count').reset_index()\n",
    "messages_data = messages_data.rename(columns={'id':'total_messages'})"
   ]
  },
  {
   "cell_type": "markdown",
   "metadata": {},
   "source": [
    "Extracting amount of internet traffic per user-month"
   ]
  },
  {
   "cell_type": "code",
   "execution_count": 38,
   "metadata": {
    "scrolled": false
   },
   "outputs": [],
   "source": [
    "# the amount of Internet traffic consumed in a given month\n",
    "# First, we round up the MB of each session\n",
    "# Then we add up the amounts of each sessions for the user-month \n",
    "\n",
    "\n",
    "internet['total_mb'] = internet['mb_used'].apply(np.ceil)\n",
    "internet_data = internet.pivot_table(index=['user_id', 'month'], values=['total_mb'], aggfunc='sum').reset_index()"
   ]
  },
  {
   "cell_type": "markdown",
   "metadata": {},
   "source": [
    "Merging all extracted data"
   ]
  },
  {
   "cell_type": "code",
   "execution_count": 39,
   "metadata": {
    "scrolled": true
   },
   "outputs": [
    {
     "data": {
      "text/html": [
       "<div>\n",
       "<style scoped>\n",
       "    .dataframe tbody tr th:only-of-type {\n",
       "        vertical-align: middle;\n",
       "    }\n",
       "\n",
       "    .dataframe tbody tr th {\n",
       "        vertical-align: top;\n",
       "    }\n",
       "\n",
       "    .dataframe thead th {\n",
       "        text-align: right;\n",
       "    }\n",
       "</style>\n",
       "<table border=\"1\" class=\"dataframe\">\n",
       "  <thead>\n",
       "    <tr style=\"text-align: right;\">\n",
       "      <th></th>\n",
       "      <th>month</th>\n",
       "      <th>key</th>\n",
       "      <th>user_id</th>\n",
       "      <th>city</th>\n",
       "      <th>tariff</th>\n",
       "      <th>reg_date</th>\n",
       "      <th>churn_date</th>\n",
       "      <th>reg_month</th>\n",
       "      <th>churn_month</th>\n",
       "      <th>total_calls</th>\n",
       "      <th>total_minutes</th>\n",
       "      <th>total_messages</th>\n",
       "      <th>total_mb</th>\n",
       "    </tr>\n",
       "  </thead>\n",
       "  <tbody>\n",
       "    <tr>\n",
       "      <th>0</th>\n",
       "      <td>1</td>\n",
       "      <td>1</td>\n",
       "      <td>1005</td>\n",
       "      <td>Набережные Челны</td>\n",
       "      <td>smart</td>\n",
       "      <td>2018-01-25</td>\n",
       "      <td>NaT</td>\n",
       "      <td>1</td>\n",
       "      <td>NaN</td>\n",
       "      <td>11.0</td>\n",
       "      <td>95.0</td>\n",
       "      <td>7.0</td>\n",
       "      <td>2730.0</td>\n",
       "    </tr>\n",
       "    <tr>\n",
       "      <th>1</th>\n",
       "      <td>1</td>\n",
       "      <td>1</td>\n",
       "      <td>1032</td>\n",
       "      <td>Ульяновск</td>\n",
       "      <td>smart</td>\n",
       "      <td>2018-01-04</td>\n",
       "      <td>NaT</td>\n",
       "      <td>1</td>\n",
       "      <td>NaN</td>\n",
       "      <td>44.0</td>\n",
       "      <td>380.0</td>\n",
       "      <td>38.0</td>\n",
       "      <td>24147.0</td>\n",
       "    </tr>\n",
       "    <tr>\n",
       "      <th>2</th>\n",
       "      <td>1</td>\n",
       "      <td>1</td>\n",
       "      <td>1045</td>\n",
       "      <td>Улан-Удэ</td>\n",
       "      <td>smart</td>\n",
       "      <td>2018-01-30</td>\n",
       "      <td>NaT</td>\n",
       "      <td>1</td>\n",
       "      <td>NaN</td>\n",
       "      <td>1.0</td>\n",
       "      <td>9.0</td>\n",
       "      <td>5.0</td>\n",
       "      <td>2348.0</td>\n",
       "    </tr>\n",
       "  </tbody>\n",
       "</table>\n",
       "</div>"
      ],
      "text/plain": [
       "   month key  user_id              city tariff   reg_date churn_date  \\\n",
       "0      1   1     1005  Набережные Челны  smart 2018-01-25        NaT   \n",
       "1      1   1     1032         Ульяновск  smart 2018-01-04        NaT   \n",
       "2      1   1     1045          Улан-Удэ  smart 2018-01-30        NaT   \n",
       "\n",
       "   reg_month  churn_month  total_calls  total_minutes  total_messages  \\\n",
       "0          1          NaN         11.0           95.0             7.0   \n",
       "1          1          NaN         44.0          380.0            38.0   \n",
       "2          1          NaN          1.0            9.0             5.0   \n",
       "\n",
       "   total_mb  \n",
       "0    2730.0  \n",
       "1   24147.0  \n",
       "2    2348.0  "
      ]
     },
     "execution_count": 39,
     "metadata": {},
     "output_type": "execute_result"
    }
   ],
   "source": [
    "# monthly revenue per user\n",
    "# making several data merges\n",
    "revenue_data = users_data.merge(calls_data, on=['user_id', 'month'], how='left')\n",
    "revenue_data = revenue_data.merge(messages_data, on=['user_id', 'month'], how='left')\n",
    "revenue_data = revenue_data.merge(internet_data, on=['user_id', 'month'], how='left')\n",
    "\n",
    "revenue_data.head(3)"
   ]
  },
  {
   "cell_type": "markdown",
   "metadata": {},
   "source": [
    "Some preprocessing"
   ]
  },
  {
   "cell_type": "code",
   "execution_count": 40,
   "metadata": {
    "scrolled": true
   },
   "outputs": [
    {
     "data": {
      "text/html": [
       "<div>\n",
       "<style scoped>\n",
       "    .dataframe tbody tr th:only-of-type {\n",
       "        vertical-align: middle;\n",
       "    }\n",
       "\n",
       "    .dataframe tbody tr th {\n",
       "        vertical-align: top;\n",
       "    }\n",
       "\n",
       "    .dataframe thead th {\n",
       "        text-align: right;\n",
       "    }\n",
       "</style>\n",
       "<table border=\"1\" class=\"dataframe\">\n",
       "  <thead>\n",
       "    <tr style=\"text-align: right;\">\n",
       "      <th></th>\n",
       "      <th>user_id</th>\n",
       "      <th>tariff</th>\n",
       "      <th>city</th>\n",
       "      <th>month</th>\n",
       "      <th>total_minutes</th>\n",
       "      <th>total_messages</th>\n",
       "      <th>total_mb</th>\n",
       "    </tr>\n",
       "  </thead>\n",
       "  <tbody>\n",
       "    <tr>\n",
       "      <th>0</th>\n",
       "      <td>1005</td>\n",
       "      <td>smart</td>\n",
       "      <td>Набережные Челны</td>\n",
       "      <td>1</td>\n",
       "      <td>95</td>\n",
       "      <td>7</td>\n",
       "      <td>2730</td>\n",
       "    </tr>\n",
       "    <tr>\n",
       "      <th>1</th>\n",
       "      <td>1032</td>\n",
       "      <td>smart</td>\n",
       "      <td>Ульяновск</td>\n",
       "      <td>1</td>\n",
       "      <td>380</td>\n",
       "      <td>38</td>\n",
       "      <td>24147</td>\n",
       "    </tr>\n",
       "    <tr>\n",
       "      <th>2</th>\n",
       "      <td>1045</td>\n",
       "      <td>smart</td>\n",
       "      <td>Улан-Удэ</td>\n",
       "      <td>1</td>\n",
       "      <td>9</td>\n",
       "      <td>5</td>\n",
       "      <td>2348</td>\n",
       "    </tr>\n",
       "  </tbody>\n",
       "</table>\n",
       "</div>"
      ],
      "text/plain": [
       "   user_id tariff              city  month  total_minutes  total_messages  \\\n",
       "0     1005  smart  Набережные Челны      1             95               7   \n",
       "1     1032  smart         Ульяновск      1            380              38   \n",
       "2     1045  smart          Улан-Удэ      1              9               5   \n",
       "\n",
       "   total_mb  \n",
       "0      2730  \n",
       "1     24147  \n",
       "2      2348  "
      ]
     },
     "execution_count": 40,
     "metadata": {},
     "output_type": "execute_result"
    }
   ],
   "source": [
    "# keeping only relevant parameters \n",
    "revenue_data = revenue_data[['user_id', 'tariff', 'city', 'month', 'total_minutes', 'total_messages', 'total_mb']]\n",
    "\n",
    "# adjusting data types (not necessary but beautiful)\n",
    "for col in revenue_data.columns:\n",
    "    if revenue_data[col].dtype == 'float64':\n",
    "        revenue_data[col] = revenue_data[col].astype('Int64')\n",
    "        \n",
    "revenue_data.head(3)"
   ]
  },
  {
   "cell_type": "code",
   "execution_count": 41,
   "metadata": {},
   "outputs": [
    {
     "data": {
      "text/plain": [
       "user_id             0\n",
       "tariff              0\n",
       "city                0\n",
       "month               0\n",
       "total_minutes      48\n",
       "total_messages    499\n",
       "total_mb           15\n",
       "dtype: int64"
      ]
     },
     "execution_count": 41,
     "metadata": {},
     "output_type": "execute_result"
    }
   ],
   "source": [
    "# checking for missing values\n",
    "revenue_data.isna().sum()"
   ]
  },
  {
   "cell_type": "code",
   "execution_count": 42,
   "metadata": {},
   "outputs": [],
   "source": [
    "# Apparently, there are clients who did not make any calls in some months, \n",
    "# did not text or use the internet\n",
    "# let's fill these values with zeros\n",
    "revenue_data = revenue_data.fillna(0)"
   ]
  },
  {
   "cell_type": "markdown",
   "metadata": {},
   "source": [
    "**Calculating revenue per user per month**\n",
    "\n",
    "Writing a funtion which calculates monthly revenue per user"
   ]
  },
  {
   "cell_type": "code",
   "execution_count": 43,
   "metadata": {},
   "outputs": [],
   "source": [
    "# writing a function that will calculate monthly revenue per user\n",
    "def revenue_calculator(row):\n",
    "    # плата по тарифу\n",
    "    monthly = tariffs.loc[row['tariff'], 'rub_monthly_fee']\n",
    "    \n",
    "    # выручка за звонки\n",
    "    call_revenue = max(0, row['total_minutes'] - tariffs.loc[row['tariff'], 'minutes_included']) * tariffs.loc[row['tariff'], 'rub_per_minute']\n",
    "    \n",
    "    # выручка за сообщения\n",
    "    message_revenue = max(0, row['total_messages'] - tariffs.loc[row['tariff'], 'messages_included']) * tariffs.loc[row['tariff'], 'rub_per_message']\n",
    "    \n",
    "    # выручка за интернет\n",
    "    internet_revenue = max(0, row['total_mb'] - tariffs.loc[row['tariff'], 'mb_per_month_included']) * tariffs.loc[row['tariff'], 'rub_per_mb']\n",
    "    \n",
    "    # суммируем\n",
    "    total_revenue = monthly + call_revenue + message_revenue + internet_revenue\n",
    "    return total_revenue"
   ]
  },
  {
   "cell_type": "markdown",
   "metadata": {},
   "source": [
    "Applying function to the dataset"
   ]
  },
  {
   "cell_type": "code",
   "execution_count": 44,
   "metadata": {},
   "outputs": [],
   "source": [
    "# calculating revenue\n",
    "revenue_data['monthly_rev_per_cust'] = revenue_data.apply(revenue_calculator, axis=1)"
   ]
  },
  {
   "cell_type": "code",
   "execution_count": 45,
   "metadata": {
    "scrolled": true
   },
   "outputs": [
    {
     "data": {
      "text/html": [
       "<div>\n",
       "<style scoped>\n",
       "    .dataframe tbody tr th:only-of-type {\n",
       "        vertical-align: middle;\n",
       "    }\n",
       "\n",
       "    .dataframe tbody tr th {\n",
       "        vertical-align: top;\n",
       "    }\n",
       "\n",
       "    .dataframe thead th {\n",
       "        text-align: right;\n",
       "    }\n",
       "</style>\n",
       "<table border=\"1\" class=\"dataframe\">\n",
       "  <thead>\n",
       "    <tr style=\"text-align: right;\">\n",
       "      <th></th>\n",
       "      <th>user_id</th>\n",
       "      <th>tariff</th>\n",
       "      <th>city</th>\n",
       "      <th>month</th>\n",
       "      <th>total_minutes</th>\n",
       "      <th>total_messages</th>\n",
       "      <th>total_mb</th>\n",
       "      <th>monthly_rev_per_cust</th>\n",
       "    </tr>\n",
       "  </thead>\n",
       "  <tbody>\n",
       "    <tr>\n",
       "      <th>0</th>\n",
       "      <td>1005</td>\n",
       "      <td>smart</td>\n",
       "      <td>Набережные Челны</td>\n",
       "      <td>1</td>\n",
       "      <td>95</td>\n",
       "      <td>7</td>\n",
       "      <td>2730</td>\n",
       "      <td>550.0</td>\n",
       "    </tr>\n",
       "    <tr>\n",
       "      <th>1</th>\n",
       "      <td>1032</td>\n",
       "      <td>smart</td>\n",
       "      <td>Ульяновск</td>\n",
       "      <td>1</td>\n",
       "      <td>380</td>\n",
       "      <td>38</td>\n",
       "      <td>24147</td>\n",
       "      <td>2307.4</td>\n",
       "    </tr>\n",
       "    <tr>\n",
       "      <th>2</th>\n",
       "      <td>1045</td>\n",
       "      <td>smart</td>\n",
       "      <td>Улан-Удэ</td>\n",
       "      <td>1</td>\n",
       "      <td>9</td>\n",
       "      <td>5</td>\n",
       "      <td>2348</td>\n",
       "      <td>550.0</td>\n",
       "    </tr>\n",
       "    <tr>\n",
       "      <th>3</th>\n",
       "      <td>1055</td>\n",
       "      <td>smart</td>\n",
       "      <td>Казань</td>\n",
       "      <td>1</td>\n",
       "      <td>551</td>\n",
       "      <td>30</td>\n",
       "      <td>17111</td>\n",
       "      <td>1053.2</td>\n",
       "    </tr>\n",
       "    <tr>\n",
       "      <th>4</th>\n",
       "      <td>1071</td>\n",
       "      <td>smart</td>\n",
       "      <td>Омск</td>\n",
       "      <td>1</td>\n",
       "      <td>194</td>\n",
       "      <td>16</td>\n",
       "      <td>15622</td>\n",
       "      <td>602.4</td>\n",
       "    </tr>\n",
       "  </tbody>\n",
       "</table>\n",
       "</div>"
      ],
      "text/plain": [
       "   user_id tariff              city  month  total_minutes  total_messages  \\\n",
       "0     1005  smart  Набережные Челны      1             95               7   \n",
       "1     1032  smart         Ульяновск      1            380              38   \n",
       "2     1045  smart          Улан-Удэ      1              9               5   \n",
       "3     1055  smart            Казань      1            551              30   \n",
       "4     1071  smart              Омск      1            194              16   \n",
       "\n",
       "   total_mb  monthly_rev_per_cust  \n",
       "0      2730                 550.0  \n",
       "1     24147                2307.4  \n",
       "2      2348                 550.0  \n",
       "3     17111                1053.2  \n",
       "4     15622                 602.4  "
      ]
     },
     "execution_count": 45,
     "metadata": {},
     "output_type": "execute_result"
    }
   ],
   "source": [
    "revenue_data.head()"
   ]
  },
  {
   "cell_type": "markdown",
   "metadata": {},
   "source": [
    "---\n",
    "#### Intermediary Summary\n",
    "\n",
    "**Description of steps and transformations performed:**\n",
    "1. Based on available datasets, we calculated how much each customer used each of the services for each valid* month of 2018.\n",
    "2. This data was then consolidated into one dataset.\n",
    "3. A funtion was written to calculate monthly revenue for a given customer based on the above data.\n",
    "3. Next, the monthly revenue for each client for each month was calculated. \n",
    "\n",
    "\n",
    " *A valid month means a month when the customer has an unterminated contract. When calculating revenue, it is important not to accidentally include the months before signing the contract (=registration) and the months when the customer has already terminated it (=churn). \n",
    "\n",
    "---"
   ]
  },
  {
   "cell_type": "markdown",
   "metadata": {},
   "source": [
    "<center> <h3>3. Customer Behavior Analysis</h3> </center> <a name=\"paragraph3\"></a>"
   ]
  },
  {
   "cell_type": "markdown",
   "metadata": {
    "lang": "en"
   },
   "source": [
    "**Intro.** In this section, we will try to answer the following question: how many minutes, how many messages and how much Internet traffic is consumed by users of each tariff plan per month?\n",
    "\n",
    "**Approach.** For this, we'll calculate (1) the mean, variance and standard deviation, and then (2) build histograms to understand the distribution of the above parameters."
   ]
  },
  {
   "cell_type": "markdown",
   "metadata": {
    "lang": "en"
   },
   "source": [
    "#### 3.1. Descriptive Statistics"
   ]
  },
  {
   "cell_type": "markdown",
   "metadata": {
    "lang": "en"
   },
   "source": [
    "*Comment:* zero values will not be used in the calculation. Otherwise, we would underestimate statistics for those who use these services."
   ]
  },
  {
   "cell_type": "code",
   "execution_count": 46,
   "metadata": {
    "scrolled": false
   },
   "outputs": [
    {
     "data": {
      "text/html": [
       "<div>\n",
       "<style scoped>\n",
       "    .dataframe tbody tr th:only-of-type {\n",
       "        vertical-align: middle;\n",
       "    }\n",
       "\n",
       "    .dataframe tbody tr th {\n",
       "        vertical-align: top;\n",
       "    }\n",
       "\n",
       "    .dataframe thead th {\n",
       "        text-align: right;\n",
       "    }\n",
       "</style>\n",
       "<table border=\"1\" class=\"dataframe\">\n",
       "  <thead>\n",
       "    <tr style=\"text-align: right;\">\n",
       "      <th></th>\n",
       "      <th></th>\n",
       "      <th>Mean</th>\n",
       "      <th>Variance</th>\n",
       "      <th>St. Deviation</th>\n",
       "    </tr>\n",
       "    <tr>\n",
       "      <th>Component</th>\n",
       "      <th>Tariff Plan</th>\n",
       "      <th></th>\n",
       "      <th></th>\n",
       "      <th></th>\n",
       "    </tr>\n",
       "  </thead>\n",
       "  <tbody>\n",
       "    <tr>\n",
       "      <th rowspan=\"2\" valign=\"top\">Internet Traffic, Gb</th>\n",
       "      <th>smart</th>\n",
       "      <td>15.84</td>\n",
       "      <td>33.04</td>\n",
       "      <td>5.75</td>\n",
       "    </tr>\n",
       "    <tr>\n",
       "      <th>ultra</th>\n",
       "      <td>19.01</td>\n",
       "      <td>97.48</td>\n",
       "      <td>9.87</td>\n",
       "    </tr>\n",
       "    <tr>\n",
       "      <th rowspan=\"2\" valign=\"top\">Messages</th>\n",
       "      <th>smart</th>\n",
       "      <td>33.37</td>\n",
       "      <td>796.96</td>\n",
       "      <td>28.23</td>\n",
       "    </tr>\n",
       "    <tr>\n",
       "      <th>ultra</th>\n",
       "      <td>49.31</td>\n",
       "      <td>2285.42</td>\n",
       "      <td>47.81</td>\n",
       "    </tr>\n",
       "    <tr>\n",
       "      <th rowspan=\"2\" valign=\"top\">Minutes</th>\n",
       "      <th>smart</th>\n",
       "      <td>417.75</td>\n",
       "      <td>36281.39</td>\n",
       "      <td>190.48</td>\n",
       "    </tr>\n",
       "    <tr>\n",
       "      <th>ultra</th>\n",
       "      <td>526.09</td>\n",
       "      <td>101052.49</td>\n",
       "      <td>317.89</td>\n",
       "    </tr>\n",
       "  </tbody>\n",
       "</table>\n",
       "</div>"
      ],
      "text/plain": [
       "                                    Mean   Variance  St. Deviation\n",
       "Component            Tariff Plan                                  \n",
       "Internet Traffic, Gb smart         15.84      33.04           5.75\n",
       "                     ultra         19.01      97.48           9.87\n",
       "Messages             smart         33.37     796.96          28.23\n",
       "                     ultra         49.31    2285.42          47.81\n",
       "Minutes              smart        417.75   36281.39         190.48\n",
       "                     ultra        526.09  101052.49         317.89"
      ]
     },
     "execution_count": 46,
     "metadata": {},
     "output_type": "execute_result"
    }
   ],
   "source": [
    "# Convert MB to GB for convenience and clarity\n",
    "revenue_data['total_gb'] = revenue_data['total_mb'] / 1024\n",
    "\n",
    "# Descriptive statistics for both tariff plans\n",
    "parameters = ['total_minutes', 'total_messages', 'total_gb']\n",
    "\n",
    "tariff_stats = []\n",
    "\n",
    "for tariff in ['smart', 'ultra']:\n",
    "    subset = revenue_data[revenue_data['tariff'] == tariff]\n",
    "    for parameter in parameters:\n",
    "        mean = np.mean(subset[parameter])\n",
    "        variance = np.var(subset[parameter], ddof=1)\n",
    "        stdev = np.std(subset[parameter], ddof=1)\n",
    "        tariff_stats.append([parameter, tariff, mean, variance, stdev])\n",
    "    \n",
    "tariff_stats = pd.DataFrame(tariff_stats).round(2)\n",
    "tariff_stats.columns = ['Component', 'Tariff Plan', 'Mean', 'Variance', 'St. Deviation']\n",
    "tariff_stats = tariff_stats.sort_values('Component').set_index(['Component', 'Tariff Plan'])\n",
    "tariff_stats.rename({'total_gb':'Internet Traffic, Gb', 'total_messages':'Messages', 'total_minutes':'Minutes'})"
   ]
  },
  {
   "cell_type": "markdown",
   "metadata": {
    "lang": "en"
   },
   "source": [
    "#### 3.2. Distribution Visualizations"
   ]
  },
  {
   "cell_type": "markdown",
   "metadata": {
    "lang": "en"
   },
   "source": [
    "*Comment:* we will get rid of zero values when constructing graphs, as they strongly distort distributions."
   ]
  },
  {
   "cell_type": "code",
   "execution_count": 48,
   "metadata": {},
   "outputs": [
    {
     "data": {
      "image/png": "[encoded data removed]",
      "text/plain": [
       "<Figure size 432x288 with 1 Axes>"
      ]
     },
     "metadata": {},
     "output_type": "display_data"
    },
    {
     "name": "stdout",
     "output_type": "stream",
     "text": [
      "\n"
     ]
    },
    {
     "data": {
      "image/png": "[encoded data removed]",
      "text/plain": [
       "<Figure size 432x288 with 1 Axes>"
      ]
     },
     "metadata": {},
     "output_type": "display_data"
    },
    {
     "name": "stdout",
     "output_type": "stream",
     "text": [
      "\n"
     ]
    },
    {
     "data": {
      "image/png": "[encoded data removed]",
      "text/plain": [
       "<Figure size 432x288 with 1 Axes>"
      ]
     },
     "metadata": {},
     "output_type": "display_data"
    },
    {
     "name": "stdout",
     "output_type": "stream",
     "text": [
      "\n"
     ]
    }
   ],
   "source": [
    "# Plotting distributions of basic metrics\n",
    "# Let's prepare the names of the graphs\n",
    "plot_specs = {'smart':{'color':'#053259', 'edgecolor':'#042440'}, \n",
    "              'ultra':{'color':'#D9C666', 'edgecolor':'#BFAE5A'}}\n",
    "\n",
    "series = {'total_minutes':{'title':'Use of cellular communication by tariff plan, \\n distribution density', \n",
    "                           'xlabel':'Minutes used per month',\n",
    "                          'x':1250, 'y':0.16}, \n",
    "          'total_messages':{'title':'Messaging by tariff plan, \\n distribution density', \n",
    "                            'xlabel':'Number of messages per month',\n",
    "                           'x':150, 'y':0.25}, \n",
    "          'total_mb':{'title':'Traffic usage by tariff plan, \\n distribution density', \n",
    "                      'xlabel':'Traffic, Mb per month', \n",
    "                     'x':35, 'y':0.09}}\n",
    "# Histograms\n",
    "for serie in series.keys():\n",
    "    for tariff in plot_specs.keys():\n",
    "        sns.set_style(\"dark\")\n",
    "        data = revenue_data[revenue_data['tariff'] == tariff]\n",
    "        data = data[data[serie] != 0.00][serie]\n",
    "        ax = sns.distplot(a=data, color=plot_specs[tariff]['color'], label=tariff,\n",
    "                          hist_kws=dict(edgecolor=plot_specs[tariff]['edgecolor']))\n",
    "        ax.set(title=series[serie]['title'], \n",
    "               xlabel=series[serie]['xlabel'])\n",
    "        ax.legend()\n",
    "    plt.show()\n",
    "    print()"
   ]
  },
  {
   "cell_type": "markdown",
   "metadata": {
    "lang": "en"
   },
   "source": [
    "**Several observations:**\n",
    "- The distributions for the tariff *ultra* are flatter (and, accordingly, the right *tail* is longer). It sounds feasible that a larger proportion of users of a more expensive tariff plan use more of the services.\n",
    "- Distributions for Internet traffic and minutes are close to normal. The distribution of messages is more Poisson-like."
   ]
  },
  {
   "cell_type": "markdown",
   "metadata": {},
   "source": [
    "**Comparison of typical (average) users of *Smart* and *Ultra* tariff plans**\n",
    "- Phone calls. *Ultra* tariff plan users spend about 110 (+25%) more minutes per month than *Smart* users.\n",
    "- Messages. On average the number of messages sent each month by *Ultra* users is 16 (almost +50%) more than by *Smart* users.\n",
    "- Internet. *Ultra* users spend 3Gb (+20%) more internet traffic per month than *Smart* users.\n",
    "\n",
    "**Comparison of user groups for both tariff plans**.\n",
    "- Among *Ultra* customers there are relatively more of those who consume the services more than the average (longer tail on the right side of the distributions). \n",
    "- At the same time we can say that the group of *Ultra* users in general is less homogeneous: the spread of values for all three services is more disperse for them. On the contrary, *Smart* users have more pronounced (higher) peaks of distributions. It is likely that there are many clients among *Ultra* users who care about the fact that they have large service packages as it gives them a feeling of greater freedom, although they will not necessarily use services more than *Smart* clients. This is partially possible to detect also - compared to *Smart*, there are also relatively many ultra-customers who consume services less than the group average. In other words, the left side of the distribution of *Ultra* customers is flatter than among *Smart* ones. "
   ]
  },
  {
   "cell_type": "markdown",
   "metadata": {},
   "source": [
    "<center> <h3>4. Revenue Analysis</h3> </center> <a name=\"paragraph4\"></a>"
   ]
  },
  {
   "cell_type": "markdown",
   "metadata": {},
   "source": [
    "#### 4.1. Hypothesis about the difference in revenues between the users of different plans <a name=\"subparagraph5\"></a>"
   ]
  },
  {
   "cell_type": "markdown",
   "metadata": {},
   "source": [
    "Let's first check visually if the variance of the revenue per customer in available samples on 2 tariff plans can be considered identical"
   ]
  },
  {
   "cell_type": "code",
   "execution_count": 49,
   "metadata": {},
   "outputs": [
    {
     "data": {
      "image/png": "[encoded data removed]",
      "text/plain": [
       "<Figure size 432x288 with 1 Axes>"
      ]
     },
     "metadata": {},
     "output_type": "display_data"
    },
    {
     "data": {
      "image/png": "[encoded data removed]",
      "text/plain": [
       "<Figure size 432x288 with 1 Axes>"
      ]
     },
     "metadata": {},
     "output_type": "display_data"
    }
   ],
   "source": [
    "for tariff in plot_specs.keys():\n",
    "    data = revenue_data[revenue_data['tariff'] == tariff]['monthly_rev_per_cust']\n",
    "    ax = sns.distplot(a=data, color=plot_specs[tariff]['color'], label=tariff,\n",
    "                        hist_kws=dict(edgecolor=plot_specs[tariff]['edgecolor']))\n",
    "    ax.set(title='Average monthly revenue \\n for one user', xlabel='Average revenue, rubles')\n",
    "    sns.set_style(\"dark\")\n",
    "    ax.legend()\n",
    "    plt.show()"
   ]
  },
  {
   "cell_type": "markdown",
   "metadata": {},
   "source": [
    "Obviously, due to the two very different peaks we will see a meaningful difference. It seems that these two peaks correspond to users who only pay monthly fixed fee. Let's check it:"
   ]
  },
  {
   "cell_type": "code",
   "execution_count": 50,
   "metadata": {
    "scrolled": true
   },
   "outputs": [
    {
     "name": "stdout",
     "output_type": "stream",
     "text": [
      "Share of Smart users who only pay fixed monthly fee: 25.3%\n",
      "Share of Ultra users who only pay fixed monthly fee: 86.4%\n"
     ]
    }
   ],
   "source": [
    "total = len(revenue_data[revenue_data['tariff'] == 'smart'])\n",
    "part = len(revenue_data[revenue_data['tariff'] == 'smart'][revenue_data['monthly_rev_per_cust'] == 550])\n",
    "print('Share of Smart users who only pay fixed monthly fee: {:.1%}'.format(part / total))\n",
    "\n",
    "total = len(revenue_data[revenue_data['tariff'] == 'ultra'])\n",
    "part = len(revenue_data[revenue_data['tariff'] == 'ultra'][revenue_data['monthly_rev_per_cust'] == 1950])\n",
    "print('Share of Ultra users who only pay fixed monthly fee: {:.1%}'.format(part / total))"
   ]
  },
  {
   "cell_type": "markdown",
   "metadata": {},
   "source": [
    "In spite of the above evidence, we will also conduct a formal test to compare averages of the two samples:\n",
    "\n",
    "- Student's test for samples with different variance (Null-Hypothesis of no difference between sample means)\n",
    "- Nonparametric Mann-Whitney test for similarity of distributions (formally preferable to the Student's test, because the distributions above are not similar to normal) (Zero-Hypothesis of no difference between sample distributions)"
   ]
  },
  {
   "cell_type": "code",
   "execution_count": 51,
   "metadata": {},
   "outputs": [
    {
     "name": "stdout",
     "output_type": "stream",
     "text": [
      "p-value for T-test:  2.7264649365907094e-280\n",
      "p-value for Mann-Whitney:  2.2998854151576345e-205\n"
     ]
    }
   ],
   "source": [
    "sample_1 = revenue_data[revenue_data['tariff'] == 'smart']['monthly_rev_per_cust']\n",
    "sample_2 = revenue_data[revenue_data['tariff'] == 'ultra']['monthly_rev_per_cust']\n",
    "\n",
    "t_results = st.ttest_ind(sample_1, sample_2, equal_var = False) \n",
    "mw_results = st.mannwhitneyu(sample_1, sample_2)\n",
    "print('p-value for T-test: ', t_results.pvalue)\n",
    "print('p-value for Mann-Whitney: ', mw_results.pvalue)"
   ]
  },
  {
   "cell_type": "code",
   "execution_count": 52,
   "metadata": {},
   "outputs": [
    {
     "name": "stdout",
     "output_type": "stream",
     "text": [
      "Monthly average per user-month for Smart: 1246 rubles\n",
      "Monthly average per user-month for Ultra: 2063 rubles\n"
     ]
    }
   ],
   "source": [
    "# calculating means of samples\n",
    "print('Monthly average per user-month for Smart: {:.0f} rubles'.format(sample_1.mean()))\n",
    "print('Monthly average per user-month for Ultra: {:.0f} rubles'.format(sample_2.mean()))"
   ]
  },
  {
   "cell_type": "markdown",
   "metadata": {},
   "source": [
    "**Intermediate conclusion.** At the 1% significance level, we cannot accept the null hypothesis of equality of the average monthly revenue between tariff plans. The tariff Ultra brings on average more revenue, and this observation is statistically significant."
   ]
  },
  {
   "cell_type": "markdown",
   "metadata": {},
   "source": [
    "#### 4.2. Hypothesis about the difference in revenue per user between Moscow and other localities <a name=\"subparagraph6\"></a>"
   ]
  },
  {
   "cell_type": "code",
   "execution_count": 53,
   "metadata": {},
   "outputs": [],
   "source": [
    "# grouping all users by Moscow vs other localities\n",
    "revenue_moscow = revenue_data[revenue_data['city'] == 'Москва']['monthly_rev_per_cust']\n",
    "revenue_other = revenue_data[revenue_data['city'] != 'Москва']['monthly_rev_per_cust']\n",
    "\n",
    "# grouping Smart users by Moscow vs other localities\n",
    "smart_data = revenue_data[revenue_data['tariff'] == 'smart'].reset_index(drop=True)\n",
    "smart_revenue_moscow = smart_data[smart_data['city'] == 'Москва']['monthly_rev_per_cust']\n",
    "smart_revenue_other = smart_data[smart_data['city'] != 'Москва']['monthly_rev_per_cust']\n",
    "\n",
    "# grouping Ultra users by Moscow vs other localities\n",
    "ultra_data = revenue_data[revenue_data['tariff'] == 'ultra'].reset_index(drop=True)\n",
    "ultra_revenue_moscow = ultra_data[ultra_data['city'] == 'Москва']['monthly_rev_per_cust']\n",
    "ultra_revenue_other = ultra_data[ultra_data['city'] != 'Москва']['monthly_rev_per_cust']"
   ]
  },
  {
   "cell_type": "code",
   "execution_count": 55,
   "metadata": {},
   "outputs": [
    {
     "data": {
      "text/html": [
       "<div>\n",
       "<style scoped>\n",
       "    .dataframe tbody tr th:only-of-type {\n",
       "        vertical-align: middle;\n",
       "    }\n",
       "\n",
       "    .dataframe tbody tr th {\n",
       "        vertical-align: top;\n",
       "    }\n",
       "\n",
       "    .dataframe thead th {\n",
       "        text-align: right;\n",
       "    }\n",
       "</style>\n",
       "<table border=\"1\" class=\"dataframe\">\n",
       "  <thead>\n",
       "    <tr style=\"text-align: right;\">\n",
       "      <th>Tariff Plan</th>\n",
       "      <th>Both tariffs</th>\n",
       "      <th>smart</th>\n",
       "      <th>ultra</th>\n",
       "    </tr>\n",
       "  </thead>\n",
       "  <tbody>\n",
       "    <tr>\n",
       "      <th>Average revenue in Moscow</th>\n",
       "      <td>1515.90</td>\n",
       "      <td>1195.04</td>\n",
       "      <td>2066.35</td>\n",
       "    </tr>\n",
       "    <tr>\n",
       "      <th>Average revenue in other localities</th>\n",
       "      <td>1491.98</td>\n",
       "      <td>1256.70</td>\n",
       "      <td>2062.10</td>\n",
       "    </tr>\n",
       "    <tr>\n",
       "      <th>Student Test, p-value</th>\n",
       "      <td>0.50</td>\n",
       "      <td>0.17</td>\n",
       "      <td>0.88</td>\n",
       "    </tr>\n",
       "    <tr>\n",
       "      <th>Mann-Whitney Test, p-value</th>\n",
       "      <td>0.14</td>\n",
       "      <td>0.14</td>\n",
       "      <td>0.10</td>\n",
       "    </tr>\n",
       "  </tbody>\n",
       "</table>\n",
       "</div>"
      ],
      "text/plain": [
       "Tariff Plan                          Both tariffs    smart    ultra\n",
       "Average revenue in Moscow                 1515.90  1195.04  2066.35\n",
       "Average revenue in other localities       1491.98  1256.70  2062.10\n",
       "Student Test, p-value                        0.50     0.17     0.88\n",
       "Mann-Whitney Test, p-value                   0.14     0.14     0.10"
      ]
     },
     "execution_count": 55,
     "metadata": {},
     "output_type": "execute_result"
    }
   ],
   "source": [
    "# let's calculate the statistics for the whole dataset\n",
    "t_results = st.ttest_ind(revenue_moscow, revenue_other, equal_var = True) \n",
    "mw_results = st.mannwhitneyu(revenue_moscow, revenue_other)\n",
    "\n",
    "both_stats = ['Both tariffs', revenue_moscow.mean(), revenue_other.mean(), t_results.pvalue, mw_results.pvalue]\n",
    "\n",
    "# let's calculate the statistics for smart users\n",
    "t_results_smart = st.ttest_ind(smart_revenue_moscow, smart_revenue_other, equal_var = True) \n",
    "mw_results_smart = st.mannwhitneyu(smart_revenue_moscow, smart_revenue_other)\n",
    "\n",
    "smart_stats = ['smart', smart_revenue_moscow.mean(), smart_revenue_other.mean(), t_results_smart.pvalue, mw_results_smart.pvalue]\n",
    "\n",
    "# let's calculate the statistics for ultra users \n",
    "t_results_ultra = st.ttest_ind(ultra_revenue_moscow, ultra_revenue_other, equal_var = True) \n",
    "mw_results_ultra = st.mannwhitneyu(ultra_revenue_moscow, ultra_revenue_other)\n",
    "\n",
    "ultra_stats = ['ultra', ultra_revenue_moscow.mean(), ultra_revenue_other.mean(), t_results_ultra.pvalue, mw_results_ultra.pvalue]\n",
    "\n",
    "stats = pd.DataFrame([both_stats, smart_stats, ultra_stats])\n",
    "stats.columns = ['Tariff Plan', 'Average revenue in Moscow', 'Average revenue in other localities', \n",
    "                 'Student Test, p-value', 'Mann-Whitney Test, p-value']\n",
    "stats.set_index('Tariff Plan').T.round(2)"
   ]
  },
  {
   "cell_type": "markdown",
   "metadata": {},
   "source": [
    "**The following null hypotheses were tested on two samples (Moscow vs. other localities):**\n",
    "- equality of average revenue and identity of distributions\n",
    "- equality of average revenue and identity of distributions for Smart tariff plan\n",
    "- equality of average revenue and identity of distributions for Ultra tariff plan  \n",
    "\n",
    "These null hypotheses cannot be rejected at the 5% (or even 10%) significance level."
   ]
  },
  {
   "cell_type": "markdown",
   "metadata": {},
   "source": [
    "<center> <h3>5. Summary</h3> </center> <a name=\"paragraph5\"></a>"
   ]
  },
  {
   "cell_type": "markdown",
   "metadata": {},
   "source": [
    "**Data Preprocessing**. A number of datasets describing service usage by 500 clients from 76 Russian cities for 2018 were provided for analysis. Based on the provided data on calls, messages and Internet traffic, the revenue from each client for each month was calculated.\n",
    "\n",
    "**Analysis of Customer Behavior.** When analyzing customer behavior for the two tariffs, it was revealed that, based on sample analysis, Ultra tariff users tended to consume all three services more. However, no tests were conducted to establish the significance of this observation.\n",
    "\n",
    "**Hypothesis Testing.** When analyzing the average monthly revenue per client:\n",
    "- no statistically significant difference was found between the average monthly revenue in Moscow and other localities.\n",
    "- a statistically significant difference was found between the user revenues in each of the Tariff plans.\n",
    "\n",
    "**Recommendation.**\n",
    "In terms of average monthly revenue, it is worth focusing on the promoting the Ultra tariff as it brings on average 65% more revenue per user."
   ]
  }
 ],
 "metadata": {
  "kernelspec": {
   "display_name": "Python 3",
   "language": "python",
   "name": "python3"
  },
  "language_info": {
   "codemirror_mode": {
    "name": "ipython",
    "version": 3
   },
   "file_extension": ".py",
   "mimetype": "text/x-python",
   "name": "python",
   "nbconvert_exporter": "python",
   "pygments_lexer": "ipython3",
   "version": "3.7.3"
  },
  "nbTranslate": {
   "displayLangs": [],
   "hotkey": "alt-t",
   "langInMainMenu": true,
   "sourceLang": "ru",
   "targetLang": "en",
   "useGoogleTranslate": true
  },
  "toc": {
   "base_numbering": 1,
   "nav_menu": {},
   "number_sections": true,
   "sideBar": true,
   "skip_h1_title": true,
   "title_cell": "Table of Contents",
   "title_sidebar": "Contents",
   "toc_cell": false,
   "toc_position": {},
   "toc_section_display": true,
   "toc_window_display": false
  }
 },
 "nbformat": 4,
 "nbformat_minor": 2
}
